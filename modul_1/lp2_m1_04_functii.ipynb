{
 "cells": [
  {
   "cell_type": "markdown",
   "metadata": {
    "collapsed": true,
    "pycharm": {
     "name": "#%% md\n"
    }
   },
   "source": [
    "<a href=\"https://colab.research.google.com/github/uncoded-ro/lp2/blob/main/modul_1/lp2_m1_04_functii.ipynb\"\n",
    " target=\"_parent\"><img src=\"https://colab.research.google.com/assets/colab-badge.svg\" alt=\"Open In Colab\"\n",
    " style=\"float: right;\"/></a>"
   ]
  },
  {
   "cell_type": "markdown",
   "source": [
    "# Limbaje de programare 2\n",
    "**Modul 1 - Definirea si utilizarea functiilor in Python**\n",
    "\n",
    "*autor notebook:* [Bogdan Dragulescu](https://ti.etcti.upt.ro/bogdan-dragulescu/)<br/>\n",
    "*continut original:* [Marian Bucos](https://ti.etcti.upt.ro/marian-bucos/),\n",
    "*sub format text* [Definirea si utilizarea functiilor in Python](https://uncoded.ro/definirea-si-utilizarea-functiilor-in-python/)"
   ],
   "metadata": {
    "collapsed": false,
    "pycharm": {
     "name": "#%% md\n"
    }
   }
  },
  {
   "cell_type": "markdown",
   "metadata": {},
   "source": [
    "Functiile sunt secvente de cod care sunt definite pentru a fi apoi apelate in diverse sectiuni ale programelor.\n",
    "Acestea asigura o structurare mult mai buna a aplicatiilor. In general, o functie primeste un set de argumente,\n",
    "efectueaza un numar de operatii si returneaza o valoare.\n",
    "\n",
    "In limbajul Python, functiile trebuie definite inainte de utilizare/apelare, in caz contrar fiind generate erori de\n",
    "tipul NameError."
   ]
  },
  {
   "cell_type": "code",
   "execution_count": null,
   "metadata": {
    "pycharm": {
     "name": "#%%\n"
    }
   },
   "outputs": [],
   "source": [
    "hello()"
   ]
  },
  {
   "cell_type": "markdown",
   "metadata": {},
   "source": [
    "Pot fi utilizate atat functii predefinite, disponibile la nivelul limbajului Python (print(), type(), id()), cat si\n",
    "functii definite de utilizator.\n",
    "\n",
    "```\n",
    "def functie(parametri):\n",
    "     \"\"\"docstring\"\"\"\n",
    "     instructiuni\n",
    "```\n",
    "\n",
    "Prima instructiune din corpul unei functii poate fi un sir de caractere care reprezinta documentatia functiei. In\n",
    "Python, toate functiile returneaza o valoare, chiar daca nu fac acest lucru in mod explicit (None). Returnarea unei\n",
    "valori intr-o maniera explicita presupune utilizatarea instructiunii de salt return."
   ]
  },
  {
   "cell_type": "code",
   "execution_count": null,
   "metadata": {
    "pycharm": {
     "name": "#%%\n"
    }
   },
   "outputs": [],
   "source": [
    "def par(numar):\n",
    "    \"\"\"Functia verifica daca numarul este par.\"\"\"\n",
    "    return numar % 2 == 0\n",
    "\n",
    "for n in [23, 5, 44, 87]:\n",
    "    if par(n):\n",
    "        print('numarul %d este par' % n)"
   ]
  },
  {
   "cell_type": "code",
   "execution_count": null,
   "metadata": {
    "pycharm": {
     "name": "#%%\n"
    }
   },
   "outputs": [],
   "source": [
    "par"
   ]
  },
  {
   "cell_type": "code",
   "execution_count": null,
   "metadata": {
    "pycharm": {
     "name": "#%%\n"
    }
   },
   "outputs": [],
   "source": [
    "par.__doc__"
   ]
  },
  {
   "cell_type": "markdown",
   "metadata": {},
   "source": [
    "La nivelul functiilor pot aparea si parametri cu valori predefinite; un astfel de parametru primeste valoarea\n",
    "predefinita in cazul in care nu se precizeaza un argument la apelul functiei. In exemplul urmator, parametrul nume ia\n",
    "valoarea Ghita, daca nu se transmite o valoare pentru acesta la apelul functiei."
   ]
  },
  {
   "cell_type": "code",
   "execution_count": null,
   "metadata": {
    "pycharm": {
     "name": "#%%\n"
    }
   },
   "outputs": [],
   "source": [
    "def hello(nume = 'Ghita'):\n",
    "    print('Buna %s!' % nume)\n",
    "\n",
    "hello"
   ]
  },
  {
   "cell_type": "code",
   "execution_count": null,
   "metadata": {
    "pycharm": {
     "name": "#%%\n"
    }
   },
   "outputs": [],
   "source": [
    "hello()"
   ]
  },
  {
   "cell_type": "code",
   "execution_count": null,
   "metadata": {
    "pycharm": {
     "name": "#%%\n"
    }
   },
   "outputs": [],
   "source": [
    "hello('Maria')"
   ]
  },
  {
   "cell_type": "markdown",
   "metadata": {},
   "source": [
    "La apelul unei functii, in afara argumentelor pozitionale (disponibile la nivelul exemplelor precedente) pot fi\n",
    "utilizate si argumente cu nume."
   ]
  },
  {
   "cell_type": "code",
   "execution_count": null,
   "metadata": {
    "pycharm": {
     "name": "#%%\n"
    }
   },
   "outputs": [],
   "source": [
    "def hello(nume, prenume):\n",
    "    print('Buna %s %s!' % (prenume, nume))\n",
    "\n",
    "hello(prenume = 'Marian', nume = 'Popescu')"
   ]
  },
  {
   "cell_type": "code",
   "execution_count": null,
   "metadata": {
    "pycharm": {
     "name": "#%%\n"
    }
   },
   "outputs": [],
   "source": [
    "hello(nume = 'Popescu', prenume = 'Marian')"
   ]
  },
  {
   "cell_type": "code",
   "execution_count": null,
   "metadata": {
    "pycharm": {
     "name": "#%%\n"
    }
   },
   "outputs": [],
   "source": [
    "hello('Popescu', 'Marian')"
   ]
  },
  {
   "cell_type": "markdown",
   "metadata": {},
   "source": [
    "Daca nu se cunoate numarul de argumente ce urmeaza a fi transmise la apelul unei functii, este necesara precizarea\n",
    "caracterului * inaintea parametrului care preia aceste argumente."
   ]
  },
  {
   "cell_type": "code",
   "execution_count": null,
   "metadata": {
    "pycharm": {
     "name": "#%%\n"
    }
   },
   "outputs": [],
   "source": [
    "def hello(*nume):\n",
    "    for n in nume:\n",
    "        print('Buna {}!'.format(n))\n",
    "\n",
    "hello('Maria', 'Zaya', 'Sofia')"
   ]
  },
  {
   "cell_type": "markdown",
   "metadata": {},
   "source": [
    "Daca o functie are un parametru de tipul **param, atunci la apelul functiei vor fi transmise perechi cheie-valoare.\n",
    "Este recomandata utilizarea unui astfel de parametru in cazul in care se utilizeaza argumente cu nume."
   ]
  },
  {
   "cell_type": "code",
   "execution_count": null,
   "metadata": {
    "pycharm": {
     "name": "#%%\n"
    }
   },
   "outputs": [],
   "source": [
    "def date_personale(**kwargs):\n",
    "    for key, value in kwargs.items():\n",
    "        print('{} = {}'.format(key, value))\n",
    "\n",
    "date_personale(nume = 'Popescu', prenume = 'Sofia', matricol = 'LK7437')\n"
   ]
  }
 ],
 "metadata": {
  "kernelspec": {
   "display_name": "Python 3",
   "language": "python",
   "name": "python3"
  },
  "language_info": {
   "codemirror_mode": {
    "name": "ipython",
    "version": 3
   },
   "file_extension": ".py",
   "mimetype": "text/x-python",
   "name": "python",
   "nbconvert_exporter": "python",
   "pygments_lexer": "ipython3",
   "version": "3.7.0"
  }
 },
 "nbformat": 4,
 "nbformat_minor": 1
}