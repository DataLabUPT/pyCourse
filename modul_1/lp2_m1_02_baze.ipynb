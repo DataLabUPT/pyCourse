{
 "cells": [
  {
   "cell_type": "markdown",
   "metadata": {},
   "source": [
    "<a href=\"https://colab.research.google.com/github/DataLabUPT/pyCourse/blob/main/modul_1/lp2_m1_02_baze.ipynb\"\n",
    " target=\"_parent\" style=\"float: right;\"><img src=\"https://colab.research.google.com/assets/colab-badge.svg\" alt=\"Open In Colab\"/></a>"
   ]
  },
  {
   "cell_type": "markdown",
   "metadata": {
    "collapsed": true,
    "slideshow": {
     "slide_type": "slide"
    }
   },
   "source": [
    "# Limbaje de programare 3\n",
    "**Modul 1 - Bazele limbajului**\n",
    "\n",
    "*autor notebook:* [Bogdan Dragulescu](https://datalab.upt.ro/bogdan-dragulescu/)<br/>\n",
    "*continut original:* [Marian Bucos](https://datalab.upt.ro/marian-bucos/),\n",
    "*sub format text* [Bazele limbajului Python](https://medium.com/virtual-campus/limbajul-de-programare-python-3eb2e9f8a6b5)"
   ]
  },
  {
   "cell_type": "markdown",
   "metadata": {},
   "source": [
    "## Obiective\n",
    "\n",
    "* Indentarea\n",
    "* Cuvinte cheie\n",
    "* Comentarii\n",
    "* Tipuri de date\n",
    "* Spatii de nume\n",
    "* Operatori"
   ]
  },
  {
   "cell_type": "markdown",
   "metadata": {},
   "source": [
    "## Indentarea\n",
    "\n",
    "Indentarea reprezinta plasarea/alinierea liniilor unui program, astfel incat sa fie cat mai\n",
    "usor de parcurs/citit. In limbajul Python, nivelul de indentarea are semnificatie sintactica.\n",
    "Instructiunile dintr-un bloc de cod prezinta acelasi nivel de indentare, spre deosebire la\n",
    "alte limbaje de programare in care blocurile sunt delimitate prin intermediul constructiilor\n",
    "begin … end sau prin intermediul acoladelor { … }."
   ]
  },
  {
   "cell_type": "code",
   "execution_count": null,
   "metadata": {
    "pycharm": {
     "is_executing": true,
     "name": "#%%\n"
    }
   },
   "outputs": [],
   "source": [
    "for i in range(5, 0, -1):\n",
    "    print(i)\n"
   ]
  },
  {
   "cell_type": "markdown",
   "metadata": {},
   "source": [
    "In limbajul Python, orice declaratie/instructiune se termina cu un caracter de linie noua.\n",
    "Daca se doreste continuarea unei declaratii pe mai multe linii poate fi utilizat caracterul \\\\."
   ]
  },
  {
   "cell_type": "code",
   "execution_count": null,
   "metadata": {
    "pycharm": {
     "is_executing": true,
     "name": "#%%\n"
    }
   },
   "outputs": [],
   "source": [
    "a = 1\n",
    "a = \\\n",
    "a + \\\n",
    "3\n",
    "a"
   ]
  },
  {
   "cell_type": "code",
   "execution_count": null,
   "metadata": {
    "pycharm": {
     "name": "#%%\n"
    }
   },
   "outputs": [],
   "source": [
    "\"Bun venit \\\n",
    "in \\\n",
    "lumea \\\n",
    "Python\""
   ]
  },
  {
   "cell_type": "markdown",
   "metadata": {},
   "source": [
    "De asemenea, este posibila combinarea mai multor instructiuni pe o singura linie. Intr-un astfel de caz,\n",
    "este necesara utilizarea caracterului ; pentru separarea instructiunilor."
   ]
  },
  {
   "cell_type": "code",
   "execution_count": null,
   "metadata": {
    "pycharm": {
     "is_executing": true,
     "name": "#%%\n"
    }
   },
   "outputs": [],
   "source": [
    "# posibil\n",
    "err = True\n",
    "if err: print('error'); print('please wait')\n"
   ]
  },
  {
   "cell_type": "code",
   "execution_count": null,
   "metadata": {
    "pycharm": {
     "is_executing": true,
     "name": "#%%\n"
    }
   },
   "outputs": [],
   "source": [
    "# preferat\n",
    "if err:\n",
    "    print('error')\n",
    "    print('please wait')"
   ]
  },
  {
   "cell_type": "markdown",
   "metadata": {},
   "source": [
    "Declaratiile neindentate de la nivelul unui program sunt definitii de functii, clase, variabile globale sau elemente\n",
    "ale programului principal (main).\n",
    "\n",
    "Chiar daca nu exista reguli clare cu privire la modalitatea de implementare a indentarii\n",
    "(spatiu, tab), trebuie avut in vedere faptul ca aceasta trebuie sa fie una consecventa\n",
    "(aceiasi la nivelul blocului)."
   ]
  },
  {
   "cell_type": "code",
   "execution_count": null,
   "metadata": {
    "pycharm": {
     "is_executing": true,
     "name": "#%%\n"
    }
   },
   "outputs": [],
   "source": [
    "if err:\n",
    "    print('error')\n",
    "    print('please wait')"
   ]
  },
  {
   "cell_type": "markdown",
   "metadata": {},
   "source": [
    "## Cuvinte cheie\n",
    "Cuvintele cheie sunt termeni rezervati care nu pot fi utilizati ca si identificatori; sunt utilizate pentru a defini\n",
    "sintaxa si structura limbajului Python. Cu execptia lui True, False si None, cuvintele cheie trebuie precizate cu\n",
    "litere mici (sunt case-sensitive).\n",
    "\n",
    "Lista cuvintelor cheie este una dinamica, putand sa primeasca/piarda membri pe parcursul evolutiei limbajului.\n",
    "O prima modalitate de obtinere a termenilor rezervati presupune utilizarea modulului keyword."
   ]
  },
  {
   "cell_type": "code",
   "execution_count": null,
   "metadata": {
    "pycharm": {
     "is_executing": true,
     "name": "#%%\n"
    }
   },
   "outputs": [],
   "source": [
    "import keyword\n",
    "print(keyword.kwlist)"
   ]
  },
  {
   "cell_type": "markdown",
   "metadata": {},
   "source": [
    "De asemenea, lista cuvintelor cheie din limbajul Python poate fi obtinuta prin precizarea termenului keywords in cadrul\n",
    "sistemului de ajutor Python (disponibil prin apelul help())."
   ]
  },
  {
   "cell_type": "code",
   "execution_count": null,
   "metadata": {
    "pycharm": {
     "is_executing": true,
     "name": "#%%\n"
    }
   },
   "outputs": [],
   "source": [
    "help()\n"
   ]
  },
  {
   "cell_type": "markdown",
   "metadata": {
    "pycharm": {
     "name": "#%% md\n"
    }
   },
   "source": [
    "## Comentarii\n",
    "\n",
    "Comentariile sunt parti ale programelor care au rolul de a explica procesele executate sau de a preciza informatii\n",
    "aditionale cu privire la programe (autor, scop); comentariile sunt ignorate de interpretor.\n",
    "\n",
    "In limbajul Python, comentariile pe o singura linie sunt precedate de caracterul (#); un comentariu pe o singura linie\n",
    "se termina la incheierea linie de program."
   ]
  },
  {
   "cell_type": "code",
   "execution_count": null,
   "metadata": {
    "pycharm": {
     "is_executing": true,
     "name": "#%%\n"
    }
   },
   "outputs": [],
   "source": [
    "# comentariu pe o singura linie"
   ]
  },
  {
   "cell_type": "markdown",
   "metadata": {},
   "source": [
    "Daca in primele doua linii ale unei fisier sursa exista un comentariu care corespunde modelului coding[=:]\\s*([-\\w.]+),\n",
    "acest comentariu este interpretat ca si declaratie de codificare a caracterelor."
   ]
  },
  {
   "cell_type": "code",
   "execution_count": null,
   "metadata": {
    "pycharm": {
     "is_executing": true,
     "name": "#%%\n"
    }
   },
   "outputs": [],
   "source": [
    "# -*- coding: utf-8 -*-"
   ]
  },
  {
   "cell_type": "markdown",
   "metadata": {},
   "source": [
    "Comentariile pe mai multe linii presupun utilizarea perechilor de caractere ”’ si ”’ / “”” si “”” la incepul si la\n",
    "sfarsitul unui text explicativ sau a unei zone de script care se doreste a fi ignorata la interpretare.\n",
    "\n",
    "Comentariile de documentare (docstring) se introduc la inceputul modulelor, fisierelor, claselor sau functiilor.\n",
    "Comentariile de documentare sunt introduse prin intermediul perechilor de caractere “”” si “””; aceste perechi de\n",
    "caractere se utilizeaza in general pentru a introduce siruri de caractere pe mai multe linii."
   ]
  },
  {
   "cell_type": "code",
   "execution_count": null,
   "metadata": {
    "pycharm": {
     "is_executing": true,
     "name": "#%%\n"
    }
   },
   "outputs": [],
   "source": [
    "# -*- coding: utf-8 -*-\n",
    "\"\"\"Rolul acestui modul este acela de a introduce functii pentru transmiterea de mesaje.\n",
    "Fisier: hello.py\n",
    "Versiune Python: 3.7\n",
    "\"\"\"\n",
    "default_name = 'Zaya' # nume implicit al unei persoane\n",
    "def hello_python():\n",
    "    \"\"\"Afiseaza un mesaj de tipul Hello Python!\"\"\"\n",
    "    print('Hello Python!')\n",
    "\n",
    "\n",
    "def hello_name(name=default_name):\n",
    "    \"\"\"Afiseaza un mesaj personalizat sau Hello Zaya! daca nu se transmite valoare pentru nume\"\"\"\n",
    "    print('Hello %s!' % name)\n",
    "\n",
    "\n",
    "if __name__ == \"__main__\":\n",
    "    hello_name()"
   ]
  },
  {
   "cell_type": "markdown",
   "metadata": {},
   "source": [
    "Limbajul Python pune la dispozitia dezvoltatorilor un modul special (pydoc) pentru generarea de documentatie pe baza\n",
    "comentariilor introduse in fisierele sursa. Documentatia rezultata este in format text disponibil pe consola sau format\n",
    "HTML, si descrie module, clase, metode, etc."
   ]
  },
  {
   "cell_type": "code",
   "execution_count": null,
   "metadata": {
    "pycharm": {
     "is_executing": true,
     "name": "#%%\n"
    }
   },
   "outputs": [],
   "source": [
    "# adaptat fata de uncoded\n",
    "hello_name()\n",
    "hello_python()\n"
   ]
  },
  {
   "cell_type": "markdown",
   "metadata": {},
   "source": [
    "Comentariile de documentare corespunzatoare unei functii sau modul sunt disponibile prin intermediul\n",
    "atributului __doc__."
   ]
  },
  {
   "cell_type": "code",
   "execution_count": null,
   "metadata": {
    "pycharm": {
     "is_executing": true,
     "name": "#%%\n"
    }
   },
   "outputs": [],
   "source": [
    "print(hello_python.__doc__)\n",
    "print(hello_name.__doc__)\n",
    "print(__doc__)\n"
   ]
  },
  {
   "cell_type": "markdown",
   "metadata": {},
   "source": [
    "## Tipuri de date\n",
    "\n",
    "Un tip de date defineste domeniul de valori posibile si operatiile permise asupra valorilor din domeniu. Limbajul\n",
    "Python pune la dispozitie urmatoarele tipuri de date: numerice (int, float), logice (bool), secvente\n",
    "(siruri, liste, tupluri), tabele asociative (dictionary), multimi (set), clase, instante si exceptii.\n",
    "\n",
    "Limbajul Python este un limbaj orientat pe obiecte. Toate elementele de la nivelul unei surse, inclusiv functiile si\n",
    "valorile primitive predefinite, sunt reprezentate ca si obiecte sau relatii intre obiecte. Toate obiectele detin o\n",
    "identitate, un tip de date si o valoare."
   ]
  },
  {
   "cell_type": "code",
   "execution_count": null,
   "metadata": {
    "pycharm": {
     "is_executing": true,
     "name": "#%%\n"
    },
    "scrolled": true
   },
   "outputs": [],
   "source": [
    "a = 13\n",
    "print(a, \" are tipul \", type(a))\t# type() returneaza tipul unui obiect\n",
    "print(id(a))\t# id() returneaza identitatea corespunzatoare unui obiect\n",
    "print(a)"
   ]
  },
  {
   "cell_type": "markdown",
   "metadata": {},
   "source": [
    "Identitatea unui obiect nu se modifica niciodata. Reprezentarea numerica a identitatii unui obiect este disponibila\n",
    "prin intermediul functiei id(). Identitatea a doua obiecte poate fi comparata folosind operatorul is. Tipul unui obiect\n",
    "determina operatiile posibile, precum si valorile pe care le poate lua obiectul.\n",
    "\n",
    "Limbajul Python este un limbaj cu tipizare dinamica (dynamically typed), adica tipul de date pentru o valoare este\n",
    "stabilit in timpul executiei, nu in avans. Din acest motiv, nu este necesara specificarea tipului de date pentru o\n",
    "variabila la declarare."
   ]
  },
  {
   "cell_type": "code",
   "execution_count": null,
   "metadata": {
    "pycharm": {
     "is_executing": true,
     "name": "#%%\n"
    }
   },
   "outputs": [],
   "source": [
    "a = 13\n",
    "b = 3.14\n",
    "c = 'Casandra'"
   ]
  },
  {
   "cell_type": "markdown",
   "metadata": {},
   "source": [
    "De asemenea, limbajul Python prezinta o tipizarea puternica (strongly typed), adica nu sunt permise operatii cu obiecte\n",
    "avand tipuri de date diferite (cu exceptia utilizarii unor conversii explicite)."
   ]
  },
  {
   "cell_type": "code",
   "execution_count": null,
   "metadata": {
    "pycharm": {
     "is_executing": true,
     "name": "#%%\n"
    }
   },
   "outputs": [],
   "source": [
    "a + b"
   ]
  },
  {
   "cell_type": "code",
   "execution_count": null,
   "metadata": {
    "pycharm": {
     "is_executing": true,
     "name": "#%%\n"
    }
   },
   "outputs": [],
   "source": [
    "a + c"
   ]
  },
  {
   "cell_type": "markdown",
   "metadata": {},
   "source": [
    "## Variabile\n",
    "\n",
    "Variabilele reprezinta nume pentru obiecte, in diferite domenii de utilizare ale acestora. Variabilele pastreaza\n",
    "referinte catre obiecte. Daca este utilizata o variabila, tipul acesteia este dat de tipul obiectului cu care este\n",
    "asociata."
   ]
  },
  {
   "cell_type": "code",
   "execution_count": null,
   "metadata": {
    "pycharm": {
     "is_executing": true,
     "name": "#%%\n"
    }
   },
   "outputs": [],
   "source": [
    "a = 3\n",
    "type(a)\n",
    "\n",
    "a = 3.14\n",
    "type(a)\n",
    "\n",
    "a = 'Zaya'\n",
    "type(a)"
   ]
  },
  {
   "cell_type": "markdown",
   "metadata": {},
   "source": [
    "Este gresita folosirea intr-o expresie a unei variabile care nu a fost asociata cu un obiect. Alocarea si dezalocarea\n",
    "memoriei se face automat in limbajul Python, fiind implementata prin intermediul unui mecanism de tip garbage\n",
    "collection."
   ]
  },
  {
   "cell_type": "code",
   "execution_count": null,
   "metadata": {
    "pycharm": {
     "is_executing": true,
     "name": "#%%\n"
    }
   },
   "outputs": [],
   "source": [
    "aa + 5"
   ]
  },
  {
   "cell_type": "markdown",
   "metadata": {},
   "source": [
    "Datorita faptului ca partea dreapta a unei expresii este evaluata inainte de a face atribuirea, valorile a doua\n",
    "variabile pot fi foarte usor interschimbate."
   ]
  },
  {
   "cell_type": "code",
   "execution_count": null,
   "metadata": {
    "pycharm": {
     "is_executing": true,
     "name": "#%%\n"
    }
   },
   "outputs": [],
   "source": [
    "a = 13\n",
    "b = 20\n",
    "a, b = b, a\n",
    "print(a, b)"
   ]
  },
  {
   "cell_type": "markdown",
   "metadata": {
    "pycharm": {
     "name": "#%% md\n"
    }
   },
   "source": [
    "Identificatorii (denumirile) sunt termeni care denota entitati dintr-un program. Exemple de identificatori sunt numele\n",
    "de functii, de variabile, de constante sau de clase. Pentru identificatori, in limbajul Python, sunt valabile\n",
    "urmatoarele reguli:\n",
    "* identificatorii pot avea orice lungime;\n",
    "* identificatorii pot contine litere, numere sau caracterul _ (underscore);\n",
    "* identificatorii nu pot incepe cu o cifra;\n",
    "* identificatorii sunt case sensitive (se face distinctie intre literele mari si literele mici)."
   ]
  },
  {
   "cell_type": "markdown",
   "metadata": {},
   "source": [
    "## Spatii de nume\n",
    "\n",
    "Un spatiu de nume sau context reprezinta o colectie de denumiri mapate catre obiecte. Intr-o aplicatie Python sunt\n",
    "disponibile mai multe spatii de nume, create in momente de timp diferite:\n",
    "* spatiul de nume implicit contine totalitatea identificatorilor predefiniti (ex. print(), id());\n",
    "* spatiul de nume global corespunde numelor disponibile la nivelul unui modul;\n",
    "* spatiul de nume local are in vedere denumirile introduse la nivelul unei functii.\n",
    "\n",
    "Inspectarea spatiilor de nume global si local se poate realiza prin intermediul functiilor predefinite globals(),\n",
    "respectiv locals().\n",
    "\n",
    "Variabilele declarate la nivelul unei functii, precum si argumentele acesteia beneficiaza de o vizibilitate locala.\n",
    "Variabilele definite la nivel global sunt denumite variabile globale; ele pot fi utilizate si la nivelul functiilor.\n",
    "Variabila nume din interiorul functiei are un scop local, adica este vizibila doar in interiorul functiei in care este\n",
    "definita."
   ]
  },
  {
   "cell_type": "code",
   "execution_count": null,
   "metadata": {
    "pycharm": {
     "is_executing": true,
     "name": "#%%\n"
    }
   },
   "outputs": [],
   "source": [
    "nume = \"Popescu\"\n",
    "def modifica_nume():\n",
    "    nume = \"Ionescu\"\n",
    "\n",
    "modifica_nume()\n",
    "print(nume)"
   ]
  },
  {
   "cell_type": "markdown",
   "metadata": {},
   "source": [
    "Variabilele declarate in afara functiei au un scop global. Variabilele globale pot fi modificate din orice zona a\n",
    "programului, cu exceptia functiilor. Pentru a modifica o variabila globala din interiorul unei functii este necesara\n",
    "plasarea lui global inaintea variabilei."
   ]
  },
  {
   "cell_type": "code",
   "execution_count": null,
   "metadata": {
    "pycharm": {
     "is_executing": true,
     "name": "#%%\n"
    }
   },
   "outputs": [],
   "source": [
    "nume = \"Popescu\"\n",
    "def modifica_nume():\n",
    "    global nume\n",
    "    nume = \"Ionescu\"\n",
    "\n",
    "modifica_nume()\n",
    "print(nume)"
   ]
  },
  {
   "cell_type": "markdown",
   "metadata": {},
   "source": [
    "## Operatori\n",
    "\n",
    "Operatorii sunt elemente ale limbajelor de programare care acţioneaza asupra unuia sau mai multor operanzi pentru a\n",
    "produce o valoare. La nivelul limbjului Python pot fi intalnite urmatoarele categorii de operatori:\n",
    "* operatori aritmetici: +, -, *, /, %, **, //;\n",
    "* operatori de comparare: ==, !=, <>, <, >, <=, >=;\n",
    "* operatori de atribuire: =, +=, -=, *=, /=, %=, **=, //=;\n",
    "* operatori logici: and, or, not ;\n",
    "* operatori pe biti: &, |, ^, ~, <<, >>;\n",
    "* operatori pentru verificarea apartenentei: in, not in;\n",
    "* operatori pentru verificare a identitatii: is, is not."
   ]
  },
  {
   "cell_type": "code",
   "execution_count": null,
   "metadata": {
    "pycharm": {
     "is_executing": true,
     "name": "#%%\n"
    }
   },
   "outputs": [],
   "source": [
    "9 // 2.0"
   ]
  },
  {
   "cell_type": "code",
   "execution_count": null,
   "metadata": {
    "pycharm": {
     "is_executing": true,
     "name": "#%%\n"
    }
   },
   "outputs": [],
   "source": [
    "9.0 / 2.0"
   ]
  },
  {
   "cell_type": "markdown",
   "metadata": {},
   "source": [
    "Operatorii de verificare a apartenentei verifica daca un element apartine sau nu unei secvente."
   ]
  },
  {
   "cell_type": "code",
   "execution_count": null,
   "metadata": {
    "pycharm": {
     "is_executing": true,
     "name": "#%%\n"
    }
   },
   "outputs": [],
   "source": [
    "'ab' in 'abecedar'"
   ]
  },
  {
   "cell_type": "code",
   "execution_count": null,
   "metadata": {
    "pycharm": {
     "is_executing": true,
     "name": "#%%\n"
    }
   },
   "outputs": [],
   "source": [
    "1 not in [1, 2, 3]"
   ]
  },
  {
   "cell_type": "code",
   "execution_count": null,
   "metadata": {
    "pycharm": {
     "is_executing": true,
     "name": "#%%\n"
    }
   },
   "outputs": [],
   "source": [
    "a = \"Hello Python!\"\n",
    "'hello' not in a\n",
    "'Java' in a"
   ]
  },
  {
   "cell_type": "code",
   "execution_count": null,
   "metadata": {
    "pycharm": {
     "is_executing": true,
     "name": "#%%\n"
    }
   },
   "outputs": [],
   "source": [
    "b = (23, 14, 6, 15)\n",
    "23 in b"
   ]
  },
  {
   "cell_type": "code",
   "execution_count": null,
   "metadata": {
    "pycharm": {
     "is_executing": true,
     "name": "#%%\n"
    }
   },
   "outputs": [],
   "source": [
    "c = ['X', 'Y', 'Z']\n",
    "'T' not in c"
   ]
  },
  {
   "cell_type": "markdown",
   "metadata": {},
   "source": [
    "Operatori pentru verificarea identitatii verifica daca doua valori refera acelasi obiect (locatie de memorie)."
   ]
  },
  {
   "cell_type": "code",
   "execution_count": null,
   "metadata": {
    "pycharm": {
     "is_executing": true,
     "name": "#%%\n"
    }
   },
   "outputs": [],
   "source": [
    "x = 'Hello'\n",
    "y = 'hello'\n",
    "x is y"
   ]
  },
  {
   "cell_type": "code",
   "execution_count": null,
   "metadata": {
    "pycharm": {
     "is_executing": true,
     "name": "#%%\n"
    }
   },
   "outputs": [],
   "source": [
    "a = 3\n",
    "b = 3\n",
    "a is b"
   ]
  },
  {
   "cell_type": "code",
   "execution_count": null,
   "metadata": {
    "pycharm": {
     "is_executing": true,
     "name": "#%%\n"
    }
   },
   "outputs": [],
   "source": [
    "print(f'Id-ul lui a este: {id(a)}')\n",
    "print(f'Id-ul lui b este: {id(b)}')\n",
    "\n",
    "\n"
   ]
  }
 ],
 "metadata": {
  "kernelspec": {
   "display_name": "Python 3",
   "language": "python",
   "name": "python3"
  },
  "language_info": {
   "codemirror_mode": {
    "name": "ipython",
    "version": 3
   },
   "file_extension": ".py",
   "mimetype": "text/x-python",
   "name": "python",
   "nbconvert_exporter": "python",
   "pygments_lexer": "ipython3",
   "version": "3.9.1"
  }
 },
 "nbformat": 4,
 "nbformat_minor": 1
}
