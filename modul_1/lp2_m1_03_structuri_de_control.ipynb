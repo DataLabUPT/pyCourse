{
 "cells": [
  {
   "cell_type": "markdown",
   "metadata": {},
   "source": [
    "<a href=\"https://colab.research.google.com/github/uncoded-ro/lp2/blob/main/modul_1/lp2_m1_03_structuri_de_control.ipynb\"\n",
    " target=\"_parent\"><img src=\"https://colab.research.google.com/assets/colab-badge.svg\" alt=\"Open In Colab\"\n",
    " style=\"float: right;\"/></a>"
   ]
  },
  {
   "cell_type": "markdown",
   "metadata": {
    "collapsed": true,
    "pycharm": {
     "name": "#%% md\n"
    }
   },
   "source": [
    "# Limbaje de programare 2\n",
    "**Modul 1 - Structuri de control in Python**\n",
    "\n",
    "*autor notebook:* [Bogdan Dragulescu](https://datalab.upt.ro/bogdan-dragulescu/)<br/>\n",
    "*continut original:* [Marian Bucos](https://datalab.upt.ro/marian-bucos/),\n",
    "*sub format text* [Structuri de control in Python](https://medium.com/virtual-campus/structuri-de-control-in-python-e9f43162e2c2)"
   ]
  },
  {
   "cell_type": "markdown",
   "metadata": {},
   "source": [
    "## Obiective\n",
    "\n",
    "* Instructiunea if\n",
    "* Instructiunea while\n",
    "* Instructiunea for"
   ]
  },
  {
   "cell_type": "markdown",
   "metadata": {},
   "source": [
    "Structurile de control sunt instructiuni utilizate pentru a ajusta modul in care un program se desfasoara.\n",
    "La nivelul limbajelor de programare sunt prezente trei astfel de structuri:\n",
    "* **structuri conditionale (decizionale)**: permit executia conditionata a unei instructiuni sau a unui bloc de\n",
    "instructiuni;\n",
    "* **structuri iterative (repetitive)**: au rolul de a executa repetitiv o instructiune sau un set de instructiuni,\n",
    "pana la indeplinirea unei conditii de iesire;\n",
    "* **structuri de salt**: utilizate pentru a transfera controlul executiei unei alte zone a programului."
   ]
  },
  {
   "cell_type": "markdown",
   "metadata": {},
   "source": [
    "## Instructiunea if\n",
    "\n",
    "Structurile conditionale ofera posibilitatea executarii conditionate a uneia sau mai multor instructiuni. In limbajul\n",
    "Python, din aceasta categorie face parte o singura instructiune, if.\n",
    "\n",
    "Instructiunea if permite executia unei instructiuni sau a unui bloc de instructiuni in functie de valoarea de adevar\n",
    "a unei conditii. La nivelul limbajului Python, sintaxa acestei instructiuni este urmatoarea:\n",
    "\n",
    "```\n",
    "if conditie1:\n",
    "    instructiune1\n",
    "else:\n",
    "    instructiune2\n",
    "```\n",
    "\n",
    "In acest caz instructiune poate reprezenta o singura instructiune sau un bloc de instructiuni. Daca conditia este\n",
    "adevarata (se evalueaza la True), atunci se executa instructiune1; in caz contrar, se executa instructiune2. Ramura\n",
    "else nu este obligatorie intr-o astfel de instructiune conditionala.\n",
    "\n",
    "Instructiunea if poate fi intalnita si in constructii imbricate de genul if … elif.\n",
    "\n",
    "```\n",
    "if conditie1:\n",
    "   instructiune1\n",
    "elif conditie2:\n",
    "   instructiune2\n",
    "else:\n",
    "   instructiune3\n",
    "```"
   ]
  },
  {
   "cell_type": "code",
   "execution_count": null,
   "metadata": {
    "pycharm": {
     "name": "#%%\n"
    }
   },
   "outputs": [],
   "source": [
    "num = 3.14\n",
    "if num > 0:\n",
    "    print('numar pozitiv')\n",
    "elif num == 0:\n",
    "    print('zero')\n",
    "else:\n",
    "    print('numar negativ')"
   ]
  },
  {
   "cell_type": "markdown",
   "metadata": {
    "pycharm": {
     "name": "#%% md\n"
    }
   },
   "source": [
    "In limbajul Python, conditiile pot fi definite si prin intermediul unei astfel de linii:"
   ]
  },
  {
   "cell_type": "code",
   "execution_count": null,
   "metadata": {
    "pycharm": {
     "name": "#%%\n"
    }
   },
   "outputs": [],
   "source": [
    "a, b = 15, 3\n",
    "m = a if a < b else b\n",
    "print(m)"
   ]
  },
  {
   "cell_type": "markdown",
   "metadata": {},
   "source": [
    "## Instructiunea while\n",
    "\n",
    "Instructiunile iterative au rolul de a executa repetitiv o instructiune sau un set de instructiuni, pana la\n",
    "indeplinirea unei conditii de iesire. La nivelul limbajului Python sunt disponibile doua intructiuni iterative while\n",
    "si for.\n",
    "\n",
    "Instructiunea iterativa while se utilizeaza pentru a repeta o instructiune sau un bloc de instructiuni atata timp cat\n",
    "conditia este adevarata. Forma generala a instructiunii while este următoarea:\n",
    "\n",
    "```\n",
    "while conditie:\n",
    "    instructiune1\n",
    "else:\n",
    "    instructiune2\n",
    "```\n",
    "\n",
    "In momentul in care conditia devine falsa, controlul executiei este acordat blocului corespunzator ramurii else, daca\n",
    "aceasta este prezenta."
   ]
  },
  {
   "cell_type": "code",
   "execution_count": null,
   "metadata": {
    "pycharm": {
     "name": "#%%\n"
    }
   },
   "outputs": [],
   "source": [
    "i = 0\n",
    "while i < 10:\n",
    "    print(i, end = \" \")\n",
    "    i = i + 1"
   ]
  },
  {
   "cell_type": "markdown",
   "metadata": {},
   "source": [
    "O instructiune break rulata la nivelul blocului while acorda controlul executiei urmatoarei linii de program de dupa\n",
    "bucla while (fara executia instructiunilor de la nivelul ramurii else)."
   ]
  },
  {
   "cell_type": "code",
   "execution_count": null,
   "metadata": {
    "pycharm": {
     "name": "#%%\n"
    }
   },
   "outputs": [],
   "source": [
    "i = 0\n",
    "while i < 3:\n",
    "    print(\"loop\")\n",
    "    i += 1\n",
    "else:\n",
    "    print(\"else\")"
   ]
  },
  {
   "cell_type": "markdown",
   "metadata": {},
   "source": [
    "## Instructiunea for\n",
    "\n",
    "Instructiunea iterativa for se utilizeaza pentru a parcurge elementele unei secvente (sir, lista sau tuplu).\n",
    "Forma generala a instructiunii for este următoarea:\n",
    "\n",
    "```\n",
    "for valoare in secventa:\n",
    "    instructiune1\n",
    "else:\n",
    "    instructiune2\n",
    "```\n",
    "\n",
    "Si instructiunile de tip for pot detine o ramura else, optionala, ramura ce este executata in cazul in care toate\n",
    "elementele de la nivelul secventei au fost parcurse."
   ]
  },
  {
   "cell_type": "code",
   "execution_count": null,
   "metadata": {
    "pycharm": {
     "name": "#%%\n"
    }
   },
   "outputs": [],
   "source": [
    "orase = ['Timisoara', 'Londra', 'Roma']\n",
    "for oras in orase:\n",
    "    print(oras)"
   ]
  },
  {
   "cell_type": "code",
   "execution_count": null,
   "metadata": {
    "pycharm": {
     "name": "#%%\n"
    }
   },
   "outputs": [],
   "source": [
    "nums = [34, 23, 11, 6, 31]\n",
    "suma = 0\n",
    "for val in nums:\n",
    "    suma += val\n",
    "\n",
    "print('suma valorilor din este ', suma)"
   ]
  },
  {
   "cell_type": "markdown",
   "metadata": {},
   "source": [
    "Generarea unei secvente numerice se poate realiza prin intermediul functiei range(). Aceasta poate fi utilizata cu un\n",
    "argument (valoarea finala de la nivelul secventei), doua argumente (valorile de inceput si de final de la nivelul\n",
    "secventei) sau chiar cu trei argumnete (cel de-al treilea argument are semnificatia de pas).\n",
    "\n",
    "```\n",
    "range(start, stop, pas)\n",
    "```"
   ]
  },
  {
   "cell_type": "code",
   "execution_count": null,
   "metadata": {
    "pycharm": {
     "name": "#%%\n"
    }
   },
   "outputs": [],
   "source": [
    "list(range(5))"
   ]
  },
  {
   "cell_type": "code",
   "execution_count": null,
   "metadata": {
    "pycharm": {
     "name": "#%%\n"
    }
   },
   "outputs": [],
   "source": [
    "list(range(5, 10))"
   ]
  },
  {
   "cell_type": "code",
   "execution_count": null,
   "metadata": {
    "pycharm": {
     "name": "#%%\n"
    }
   },
   "outputs": [],
   "source": [
    "list(range(5, 10, 2))"
   ]
  },
  {
   "cell_type": "markdown",
   "metadata": {},
   "source": [
    "Valoarea de final (stop) nu este prezenta la nivelul secventei generate."
   ]
  },
  {
   "cell_type": "code",
   "execution_count": null,
   "metadata": {
    "pycharm": {
     "name": "#%%\n"
    }
   },
   "outputs": [],
   "source": [
    "for i in range(0, 9):\n",
    "    print(i, end = \" \")"
   ]
  },
  {
   "cell_type": "markdown",
   "metadata": {},
   "source": [
    "Pe langa instructiunile conditionale si iterative, limbajul Python mai ofera trei instructiuni de salt: break, continue\n",
    "si return. Instructiunile de salt sunt utilizate pentru a transfera controlul executiei unei alte zone a programului.\n",
    "\n",
    "Instructiunea break poate fi utilizata pentru parasirea unei bucle.\n",
    "\n",
    "Instructiunea continue poate aparea numai in interiorul unui bloc de instructiuni subordonat unei instructiuni\n",
    "iterative. Continue opreste executia restului de instructiuni din bloc si face un salt la urmatoarea iteratie.\n",
    "\n",
    "Instructiunea return ofera controlul executiei apelantului metodei care o contine. De asemenea, instructiunea return\n",
    "va determina finalizarea functiei in care este executata.\n"
   ]
  }
 ],
 "metadata": {
  "kernelspec": {
   "display_name": "Python 3",
   "language": "python",
   "name": "python3"
  },
  "language_info": {
   "codemirror_mode": {
    "name": "ipython",
    "version": 3
   },
   "file_extension": ".py",
   "mimetype": "text/x-python",
   "name": "python",
   "nbconvert_exporter": "python",
   "pygments_lexer": "ipython3",
   "version": "3.9.1"
  }
 },
 "nbformat": 4,
 "nbformat_minor": 1
}
