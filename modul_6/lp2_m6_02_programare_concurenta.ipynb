{
 "cells": [
  {
   "cell_type": "markdown",
   "source": [
    "<a href=\"https://colab.research.google.com/github/uncoded-ro/lp2/blob/main/modul_6/lp2_m6_02_programare_concurenta.ipynb\"\n",
    " target=\"_parent\"><img src=\"https://colab.research.google.com/assets/colab-badge.svg\" alt=\"Open In Colab\"\n",
    " style=\"float: right;\"/></a>"
   ],
   "metadata": {
    "collapsed": false
   }
  },
  {
   "cell_type": "markdown",
   "source": [
    "# Limbaje de programare 2\n",
    "**Modul 6 - Programare concurentă**\n",
    "\n",
    "*autor notebook:* [Bogdan Dragulescu](https://ti.etcti.upt.ro/bogdan-dragulescu/)<br/>\n",
    "*continut original:* [Bogdan Dragulescu](https://ti.etcti.upt.ro/bogdan-dragulescu/),\n",
    "*sub format text* in cadrul cursului pe [cv.upt.ro](http://cv.upt.ro)"
   ],
   "metadata": {
    "collapsed": false
   }
  },
  {
   "cell_type": "markdown",
   "source": [
    "## Obiective\n",
    "\n",
    "* Ce este concurența în cadrul unei aplicații software\n",
    "* Tipuri de probleme ce pot fi rezolvate prin programare concurentă\n",
    "* Fire de execuție\n",
    "* Programare paralelă\n"
   ],
   "metadata": {
    "collapsed": false
   }
  },
  {
   "cell_type": "markdown",
   "source": [
    "## Introducere\n",
    "\n",
    "Programarea concurentă se referă la activitatea de a construi un program capabil să execute mai multe sarcini în același\n",
    " timp. În Python, această sarcină este realizată în mai multe modalități (fire de execuție, procese) dar dacă privim de\n",
    " la un nivel înalt, se rulează secvențe de cod în paralel.\n",
    "\n",
    "Orice aplicație este rulată ca un proces de către sistemul de operare pe CPU-ul calculatorului. Resursa de calcul\n",
    "(CPU-ul) este finită, prin urmare mai multe procese vor concura pentru timp de calcul pe procesor. Acesta decide ce\n",
    "proces rulează și se ocupă de comutarea lor. Procesoarele moderne au mai multe nuclee de calcul. Fiecare nucleu poate\n",
    "rula în același timp un singur proces. Programarea concurentă va ține seama de aceste limitări constructive.\n",
    "\n",
    "Programarea concurentă ajută la îmbunătățirea performanțelor programelor care se confruntă cu una din următoarele două\n",
    "tipuri de probleme:\n",
    "* **Probleme legate de I/O** - Probleme de așteptare a resurselor externe, generate de operații de intrare-ieșire.\n",
    "Aceste probleme se întâmplă frecvent când programul lucrează cu resurse mult mai lente față de CPU. Exemple de astfel\n",
    "de resurse sunt: citirea și scrierea fișierelor, aplicațiile de rețea (accesarea unei pagini web), comunicarea cu un\n",
    "periferic (tipărirea unei pagini folosind o imprimantă USB).\n",
    "* **Probleme legate de CPU** - programele care executa operații de calcul intensive fără să acceseze rețeaua de\n",
    "calculatoare sau sistemul de stocare. În această situație viteza programului este limitată de resursele finite de\n",
    "calcul (CPU). În figura 2 este reprezentat acest tip de problema.\n",
    "\n",
    "Cele două tipuri de probleme au soluții diferite pentru a crește performanțele programelor.\n",
    "\n",
    "Diagrame explicative găsiți în documentul original în cadrul cursului pe [cv.upt.ro](http://cv.upt.ro)."
   ],
   "metadata": {
    "collapsed": false
   }
  },
  {
   "cell_type": "markdown",
   "source": [
    "## Fire de execuție\n",
    "\n",
    "Pentru prima problemă, în care programul își petrece marea majoritate a timpului așteptând răspuns, soluția pentru a\n",
    "mări viteza de execuție este de a suprapune timpul de așteptare pentru mai multe cereri. Pentru a efectua această\n",
    "operație se folosesc fire de execuție. Acestea funcționează în cadrul aceluiași proces.\n",
    "\n",
    "În următorul exemplu aplicația apelează două funcții cub(), respectiv pătrat() care introduc la apel o întârziere de\n",
    "5 secunde prin intermediul funcției sleep(). Aplicația rulează în mod sincron, existând un singur fir de execuție.\n",
    "Modulul time este folosit pentru a calcula durata execuție aplicației. Vom urmării rezultatul returnat pentru a vedea\n",
    "efectul utilizării firelor de execuție în optimizarea timpului de rulare."
   ],
   "metadata": {
    "collapsed": false
   }
  },
  {
   "cell_type": "code",
   "execution_count": null,
   "outputs": [],
   "source": [
    "######################\n",
    "## un_singur_fir.py ##\n",
    "######################\n",
    "import time\n",
    "\n",
    "def cub(numar):\n",
    "    time.sleep(5)\n",
    "    print('Cubul numarului {} este {}'.format(numar,numar**3))\n",
    "\n",
    "def patrat(numar):\n",
    "    time.sleep(5)\n",
    "    print('Patratul numarului {} este {}'.format(numar,numar**2))\n",
    "\n",
    "start = time.time()\n",
    "\n",
    "cub(10)\n",
    "patrat(10)\n",
    "\n",
    "print('Executia a durat {}'.format(time.time()-start))"
   ],
   "metadata": {
    "collapsed": false,
    "pycharm": {
     "name": "#%%\n"
    }
   }
  },
  {
   "cell_type": "markdown",
   "source": [
    "În momentul de față ne situăm într-o problema de așteptare (simulată cei drept).\n",
    "Programul precedent se modifică pentru utilizarea mai multor fire de execuție.\n",
    "\n",
    "În Python modulul care ne permite gestionarea firelor de execuție poartă numele de\n",
    "[threading](https://docs.python.org/3/library/threading.html).\n",
    "\n",
    "Pentru a crea un nou fir de execuție se utilizează clasa Thread în care sunt precizate argumentele:\n",
    "* **target** - funcția care va fi rulata într-un fir de execuție separat\n",
    "* **args** - argumentele care vor fi transmise funcției\n",
    "\n",
    "Firele de execuție sunt pornite folosind metoda start(). În momentul de față vor rula 3 fire de execuție:\n",
    "firul principal al aplicației și cele două fire secundare declarate în t1 și t2. Pentru a opri execuția firului\n",
    "principal până la finalizarea firelor secundare se folosește metoda join(). Ca și rezultat al apelului metodei join(),\n",
    "ultima linie din program va fi executa doar după finalizarea firelor t1 și t2."
   ],
   "metadata": {
    "collapsed": false
   }
  },
  {
   "cell_type": "code",
   "execution_count": null,
   "outputs": [],
   "source": [
    "#########################\n",
    "## fire_de_executie.py ##\n",
    "#########################\n",
    "import threading\n",
    "import time\n",
    "\n",
    "def cub(numar):\n",
    "    time.sleep(5)\n",
    "    print('Cubul numarului {} este {}'.format(numar,numar**3))\n",
    "\n",
    "def patrat(numar):\n",
    "    time.sleep(5)\n",
    "    print('Patratul numarului {} este {}'.format(numar,numar**2))\n",
    "\n",
    "start = time.time()\n",
    "\n",
    "t1 = threading.Thread(target=cub, args=(10,))\n",
    "t2 = threading.Thread(target=patrat, args=(10,))\n",
    "\n",
    "t1.start()\n",
    "t2.start()\n",
    "\n",
    "t1.join()\n",
    "t2.join()\n",
    "\n",
    "print('Executia a durat {}'.format(time.time()-start))"
   ],
   "metadata": {
    "collapsed": false,
    "pycharm": {
     "name": "#%%\n"
    }
   }
  },
  {
   "cell_type": "markdown",
   "source": [
    "Observam rezultatul executat este identic, dar timpul de execuție este aproape înjumătățit."
   ],
   "metadata": {
    "collapsed": false
   }
  },
  {
   "cell_type": "markdown",
   "source": [
    "În caz că avem de deschis mai multe fire de execuție putem utiliza clase de nivel superior disponibile în modulul\n",
    "[concurrent.futures](https://docs.python.org/3/library/concurrent.futures.html).\n",
    "\n",
    "În exemplul următor avem o aplicație care citește de la o adresa web un document. În variabila urls avem o lista de 20\n",
    "de adrese. Pentru a citi respectivele adrese în mod concurent utilizăm clasa **ThreadPoolExecutor**. Prin parametru\n",
    "acestei metode max_workers este specificat numărul de fire de execuție ce pot rula concurent. Prin utilizarea metodei\n",
    "map() se crează firele de execuție ce trebuie rulate, prin urmare: primul parametru este funcția ce trebuie rulată\n",
    "(în loc de target din Thread), iar al doilea parametru conține argumentele ce trebuie transmise funcției.\n",
    "De fapt clasa **ThreadPoolExecutor** va gestiona apelul către **Thread**, **start()** si **join()**."
   ],
   "metadata": {
    "collapsed": false
   }
  },
  {
   "cell_type": "code",
   "execution_count": null,
   "outputs": [],
   "source": [
    "###############\n",
    "## urllib.py ##\n",
    "###############\n",
    "import threading\n",
    "import concurrent.futures\n",
    "import time\n",
    "import urllib.request\n",
    "import os\n",
    "\n",
    "def get_url(url):\n",
    "    resp = urllib.request.urlopen(url).read()\n",
    "    print(\"Am citit url de la adresa {} si am primit raspuns {}\".format(url,len(resp)))\n",
    "    print(\"Am apelat aceasta metoda din procesul cu pid {}\".format(os.getpid()))\n",
    "\n",
    "start = time.time()\n",
    "\n",
    "urls = ['https://upt.ro', 'https://www.upt.ro/Informatii_100-de-ani-de-excelenta-academica_1611_ro.html'] * 5\n",
    "\n",
    "with concurrent.futures.ThreadPoolExecutor(max_workers = 5) as exec:\n",
    "    exec.map(get_url, urls)\n",
    "\n",
    "# o abordare fara fire de executie ar fi:\n",
    "# for u in urls:\n",
    "#     get_url(u)\n",
    "\n",
    "print(\"Metoda main are pid {}\".format(os.getpid()))\n",
    "print('Executia a durat {}'.format(time.time()-start))"
   ],
   "metadata": {
    "collapsed": false,
    "pycharm": {
     "name": "#%%\n"
    }
   }
  },
  {
   "cell_type": "markdown",
   "source": [
    "### Sincronizarea firelor de execuție\n",
    "\n",
    "Sincronizare firelor de execuție se referă la mecanismul prin care ne asigurăm că două sau mai multe fire de execuție\n",
    "concurente nu apelează simultan o zonă din program considerată critică.\n",
    "\n",
    "Pentru exemplificare considerați că avem mai multe fire de execuție care vor incrementa aceeași variabilă globală.\n",
    "În procesul de incrementare se execută de fapt mai multe operații: se citește valoarea curentă, se calculează noua\n",
    "valoare și se actualizează variabila. Pentru a nu avea rezultate neașteptate în această procedură prin rularea ei pe\n",
    "mai multe fire de execuție, trebuie să ne asigurăm că toate cele 3 etape ce se desfășoară într-un fir de execuție nu\n",
    "vor fi suprapuse cu etape rulate în fire de execuție diferite.\n",
    "\n",
    "Acest deziderat este realizat prin utilizarea clasei Lock din modulul threading. Această clasă dispune de două metode:\n",
    "* **acquire()** - pentru a bloca execuția celorlalte fire de execuție concurente.\n",
    "* **release()** - pentru a debloca execuția"
   ],
   "metadata": {
    "collapsed": false
   }
  },
  {
   "cell_type": "code",
   "execution_count": null,
   "outputs": [],
   "source": [
    "####################\n",
    "## thread_lock.py ##\n",
    "####################\n",
    "import threading\n",
    "import time\n",
    "\n",
    "x = 0\n",
    "\n",
    "def plusunu():\n",
    "    global x\n",
    "    x += 1\n",
    "\n",
    "def sarcina_fir(lock):\n",
    "    for _ in range(100000):\n",
    "        # blocheaza executia\n",
    "        lock.acquire()\n",
    "        plusunu()\n",
    "        # deblocheaza executia\n",
    "        lock.release()\n",
    "\n",
    "def sarcina():\n",
    "    global x\n",
    "    x = 0\n",
    "\n",
    "    # instanta lock\n",
    "    lock = threading.Lock()\n",
    "\n",
    "    t1 = threading.Thread(target=sarcina_fir, args=(lock,))\n",
    "    t2 = threading.Thread(target=sarcina_fir, args=(lock,))\n",
    "\n",
    "    t1.start()\n",
    "    t2.start()\n",
    "\n",
    "    t1.join()\n",
    "    t2.join()\n",
    "\n",
    "start = time.time()\n",
    "for i in range(10):\n",
    "    sarcina()\n",
    "    print(\"Iteratia {}: x = {}\".format(i, x))\n",
    "\n",
    "print('Executia a durat {}'.format(time.time()-start))"
   ],
   "metadata": {
    "collapsed": false,
    "pycharm": {
     "name": "#%%\n"
    }
   }
  },
  {
   "cell_type": "markdown",
   "source": [
    "## Calcul paralel\n",
    "\n",
    "Pentru al doilea tip de problemă, când aplicațiile execută operații de calcul intensive, utilizarea tehnicii cu fire\n",
    "de execuție multiple nu aduce nici o îmbunătățire de performanță. Nucleul pe care rulează procesul (ce conține de fapt\n",
    "toate firele de execuție) este utilizat complet (vezi figura 2).\n",
    "\n",
    "În această situație soluția este să folosim mai multe nuclee disponibile pe procesor. Pentru a realiza acest pas în\n",
    "Python există modulul multiprocessing, ce introduce clasa Process. Aceasta crează un proces nou și se comportă similar\n",
    "cu Thread:\n",
    "* Are parametru target în care se precizează funcția ce va fi rulată într-un proces nou\n",
    "* Are parametru args în care sunt specificate argumentele funcției din target.\n",
    "* Metoda start() este utilizată pentru a porni procesul\n",
    "* Metoda join() care blochează execuția procesului principal până la finalizarea procesului secundar\n",
    "\n",
    "Documentație: [link](https://docs.python.org/3/library/multiprocessing.html)"
   ],
   "metadata": {
    "collapsed": false
   }
  },
  {
   "cell_type": "code",
   "execution_count": null,
   "outputs": [],
   "source": [
    "#####################\n",
    "## multiprocess.py ##\n",
    "#####################\n",
    "import time\n",
    "import threading\n",
    "import multiprocessing\n",
    "import os\n",
    "\n",
    "def gaseste_suma(numar):\n",
    "   print(\"Am apelat aceasta metoda din procesul cu pid {}\".format(os.getpid()))\n",
    "   return sum(i*i for i in range(numar))\n",
    "\n",
    "\n",
    "start = time.time()\n",
    "\n",
    "p1 = multiprocessing.Process(target=gaseste_suma, args=(30_000_000,))\n",
    "p2 = multiprocessing.Process(target=gaseste_suma, args=(30_000_000,))\n",
    "\n",
    "p1.start()\n",
    "p2.start()\n",
    "\n",
    "p1.join()\n",
    "p2.join()\n",
    "\n",
    "print(\"Metoda main are pid {}\".format(os.getpid()))\n",
    "print('Executia a durat {}'.format(time.time()-start))"
   ],
   "metadata": {
    "collapsed": false,
    "pycharm": {
     "name": "#%%\n"
    }
   }
  },
  {
   "cell_type": "markdown",
   "source": [
    "În exemplu precedent, funcția gaseste_suma() calculează suma pătratelor unei secvențe mari de numere. Utilizând calcul\n",
    "paralel (prin urmare două nuclee ale procesorului) timpul de execuție se înjumătățește față de cazul în care apelăm\n",
    "funcția în același proces.\n",
    "*Obs - NU este neapărat valabil și rulând în Colab.*"
   ],
   "metadata": {
    "collapsed": false,
    "pycharm": {
     "name": "#%% md\n"
    }
   }
  },
  {
   "cell_type": "markdown",
   "source": [
    "În situația în care numărul de procese ce dorim să le deschidem este mai mare, la fel ca în cazul firelor de execuție\n",
    "putem să utilizăm o clasa de nivel înalt. În acest caz clasa poartă numele de *Pool()* și se găsește în modulul\n",
    "**multiprocessing**. Și în acest caz există *map()* care aplică funcția din primul parametru asupra elementelor\n",
    "iterabilului specificat în al doilea parametru, deschizând un proces nou pentru fiecare element. În exemplul următor\n",
    "funcția *map()* va încerca să deschidă 4 procese (câte unul pentru fiecare element din variabila numere), dar o să fie\n",
    "limitată de numărul de nuclee disponibile."
   ],
   "metadata": {
    "collapsed": false,
    "pycharm": {
     "name": "#%% md\n"
    }
   }
  },
  {
   "cell_type": "code",
   "execution_count": null,
   "outputs": [],
   "source": [
    "##########################\n",
    "## multiprocess_pool.py ##\n",
    "##########################\n",
    "import time\n",
    "import multiprocessing\n",
    "import os\n",
    "\n",
    "def gaseste_suma(numar):\n",
    "    pid = os.getpid()\n",
    "    print(\"Am apelat aceasta metoda din procesul cu pid {}\".format(pid))\n",
    "    suma = sum(i*i for i in range(numar))\n",
    "    print(\"Afisez suma din procesul cu pid {}. Suma are valoarea {}\".format(pid, suma))\n",
    "    return suma\n",
    "\n",
    "\n",
    "if __name__ == \"__main__\":\n",
    "    start = time.time()\n",
    "    numere = [10_000_000, 20_000_000, 3_000_000, 4_000_000]\n",
    "\n",
    "    p = multiprocessing.Pool()\n",
    "\n",
    "    p.map(gaseste_suma, numere)\n",
    "\n",
    "    print(\"Metoda main are pid {}\".format(os.getpid()))\n",
    "    print('Executia a durat {}'.format(time.time()-start))"
   ],
   "metadata": {
    "collapsed": false,
    "pycharm": {
     "name": "#%%\n"
    }
   }
  },
  {
   "cell_type": "markdown",
   "source": [
    "## Concluzii\n",
    "\n",
    "După cum se observă utilizarea concurenței în proiectarea aplicației implică creșterea complexității acesteia și\n",
    "apariția problemelor de sincronizare a variabilelor între fire de executie/procese.\n",
    "Prin urmare implementați programare concurentă doar în cazurile în care este necesară. Dacă un program rulează într-un\n",
    "timp rezonabil (sub 1 min.) și este executat o dată la câteva zile, nu are rost să măriți complexitatea aplicației.\n",
    "\n",
    "În aplicații care sunt folosite regulat, deservesc clienți (aplicații web), aplicații cu interfață grafică\n",
    "(aplicații pentru dispozitive mobile), aplicații care au timp mare de execuție, luăm în calcul implementarea\n",
    "concurenței. În prima etapă trebuie să identificăm ce tip de problema de optimizare avem: așteptare I/O\n",
    "(aplicații de rețea) sau operații de calcul intensive. În pasul doi utilizați metoda care se potrivește.\n",
    "Informațiile prezentate în acest material sunt introductive. Pentru o documentare mai completă utilizați:\n",
    "* [modulele](https://docs.python.org/3/library/concurrency.html) disponibile in Python pentru programare concurentă\n",
    "* [asyncio](https://docs.python.org/3/library/asyncio.html) este un modul nou ce poate înlocui firele de execuție\n",
    "clasice și utilizează async/await"
   ],
   "metadata": {
    "collapsed": false
   }
  }
 ],
 "metadata": {
  "kernelspec": {
   "display_name": "Python 3",
   "language": "python",
   "name": "python3"
  },
  "language_info": {
   "codemirror_mode": {
    "name": "ipython",
    "version": 2
   },
   "file_extension": ".py",
   "mimetype": "text/x-python",
   "name": "python",
   "nbconvert_exporter": "python",
   "pygments_lexer": "ipython2",
   "version": "2.7.6"
  }
 },
 "nbformat": 4,
 "nbformat_minor": 0
}