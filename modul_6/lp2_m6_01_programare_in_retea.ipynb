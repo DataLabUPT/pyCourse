{
 "cells": [
  {
   "cell_type": "markdown",
   "metadata": {
    "collapsed": true,
    "pycharm": {
     "name": "#%% md\n"
    }
   },
   "source": [
    "<a href=\"https://colab.research.google.com/github/uncoded-ro/lp2/blob/main/modul_6/lp2_m6_01_programare_in_retea.ipynb\"\n",
    " target=\"_parent\"><img src=\"https://colab.research.google.com/assets/colab-badge.svg\" alt=\"Open In Colab\"\n",
    " style=\"float: right;\"/></a>"
   ]
  },
  {
   "cell_type": "markdown",
   "metadata": {},
   "source": [
    "# Limbaje de programare 2\n",
    "**Modul 6 - Programare in retea in Python**\n",
    "\n",
    "*autor notebook:* [Bogdan Dragulescu](https://ti.etcti.upt.ro/bogdan-dragulescu/)<br/>\n",
    "*continut original:* [Bogdan Dragulescu](https://ti.etcti.upt.ro/bogdan-dragulescu/),\n",
    "*sub format text* in cadrul cursului pe [cv.upt.ro](http://cv.upt.ro)"
   ]
  },
  {
   "cell_type": "markdown",
   "metadata": {},
   "source": [
    "## Obiective\n",
    "\n",
    "* Utilizarea API-ului de nivel jos pentru a transmite date\n",
    "* Utilizarea urllib pentru citirea fișierelor din WWW\n",
    "* Biblioteci externe pentru procesarea documentelor HTML\n"
   ]
  },
  {
   "cell_type": "markdown",
   "metadata": {},
   "source": [
    "## Introducere\n",
    "\n",
    "Socket-urile permit comunicarea intre doua procese diferite pe aceeasi masina sau pe masini diferite. Este o\n",
    "modalitate de a comunica intre calculatoare utilizand standardul Unix file descriptors. In sistemele de operare de tip\n",
    " Unix orice actiune de tip I/O (intrare/iesire) este realizata prin scrierea sau citirea intr-un file descriptor.\n",
    " Acesta este doar un intreg asociat cu un fisier deschis si poate fi o conexiune, un fisier text, un terminal, etc.\n",
    "\n",
    "Au fost utilizate initial in 1971 in ARPANET, iar apoi au fost introduse in API in BSD (Berkeley Software Distribution)\n",
    "in 1983. Cand internetul a prins avant in 1990 prin WWW, a crescut si cererea pentru programarea in retea. Chiar daca\n",
    "protocoalele utilizate in retea au evoluat, API-ul de nivel jos a ramas la fel.\n",
    "\n",
    "Un socket Unix este utilizat in realizarea aplicatiilor client-server. Un server este un proces care executa anumite\n",
    "operatii pe baza unei cereri de la client. Marea majoritate a protocoalelor de la nivelul aplicatiilor cum ar fi FTP,\n",
    "SMTP, POP3 folosesc sockets pentru a realiza conexiunea intre client si server, iar apoi utilizeaza acea conexiune\n",
    "pentru a schimba date.\n",
    "Utilizatorii au disponibile 4 tipuri de socket-uri. Dintre acestea doua sunt cele mai utilizate:\n",
    "* **Stream sockets** - transmiterea in retea este garantata. Daca se transmite in retea “A, B, C” acestea vor ajunge la\n",
    "client in aceeasi ordine. Aceste tipuri de sockets utilizeaza TCP (Transmission Control Protocol) pentru a transfera\n",
    "datele. Daca nu se pot transmite datele se va returna o eroare la emitator.\n",
    "* **Datagram Sockets** - transmiterea in retea nu este garantata. Nu este necesara o conexiune deschisa ca si in cazul\n",
    "Stream Sockets - se construieste pachetul cu informatia despre destinatie si este transmis in retea. Aceste socket-uri\n",
    "folosesc UDP(User Datagram Protocol).\n",
    "\n",
    "Marea majoritatea a aplicatiilor de retea utilizeaza o arhitectura de tip client-server. Aceasta arhitectura este\n",
    "compusa din doua procese (sau doua aplicatii) care comunica intre ele pentru a schimba informatie. Un proces va avea\n",
    "functia de client, iar celalalt functia de server."
   ]
  },
  {
   "cell_type": "markdown",
   "metadata": {
    "pycharm": {
     "name": "#%% md\n"
    }
   },
   "source": [
    "## SOCKETS\n",
    "\n",
    "Modulul din Python care permite constructia de aplicatii cu socket-uri poarta acelasi nume: socket. Acesta creaza o\n",
    "interfata pentru Berkeley sockets API. Documentatia pentru biblioteca din limbaj o gasiti la adresa:\n",
    "[link](https://docs.python.org/3/library/socket.html).\n",
    "\n",
    "Principalele functii si metode din acest modul sunt:\n",
    "* socket() - creaza un obiect de tip socket\n",
    "* bind() - asociaza socket-ul cu o anumita interfata\n",
    "* listen() - asculta conexiunile catre socket\n",
    "* accept() - accepta o conexiune catre un socket\n",
    "* connect() - se conecteaza la un socket de la adresa specificata\n",
    "* connect_ex() - functionalitate similara cu metoda connect(), diferenta: returneaza un cod de eroare in loc de o\n",
    "exceptie\n",
    "* send() - trimite date prin socket\n",
    "* recv() - primeste date de la socket\n",
    "* close() - inchide socket-ul\n",
    "\n",
    "Dupa cum am amintit sunt doua tipuri de socket-uri utilizate in general:\n",
    "* **Stream socket** - acestea pot fi create specificand tipul socket-ului prin socket.SOCK_STREAM. (Utilizeaza TCP)\n",
    "* **Datagram socket** - acestea pot fi create specificand tipul socket-ului prin socket.SOCK_DGRAM. (Utilizeaza UDP)\n",
    "\n",
    "Obs!  Indicat sa utilizam TCP pentu a scapa de grija transmiterii complete si corecte a pachetelor. Echipamantele de\n",
    "retea, de exemplu routerele au limitari (CPU, RAM, etc) la fel ca severele si clientii.\n",
    "\n",
    "Diagrama si explicatiile ce descriu secventa apelurilor metodelor intr-o topologie client-server o gasiti in documentul\n",
    "original in cadrul cursului pe [cv.upt.ro](http://cv.upt.ro)."
   ]
  },
  {
   "cell_type": "markdown",
   "metadata": {},
   "source": [
    "Un exemplu de aplicatie de tip server este reprezentata mai jos (server.py).\n",
    "Metoda socket.socket() creaza un obiect de tip socket care suporta “context manager type” si se poate utiliza cu\n",
    "instructiunea with. In acest mod nu este necesar apelul metodei close() la finalul aplicatiei. Primeste ca si\n",
    "argumente clasa de adrese prin intermediul constantei socket.AF_INET ce reprezinta IPV4, respectiv tipul socket-ului\n",
    "pentru TCP prin constanta socket.SOCK_STREAM."
   ]
  },
  {
   "cell_type": "markdown",
   "metadata": {
    "pycharm": {
     "name": "#%% md\n"
    }
   },
   "source": [
    "```python\n",
    "###############\n",
    "## server.py ##\n",
    "###############\n",
    "import socket\n",
    "\n",
    "HOST = '127.0.0.1'\n",
    "PORT = 12345\n",
    "\n",
    "with socket.socket(socket.AF_INET, socket.SOCK_STREAM) as s:\n",
    "    s.bind((HOST, PORT))\n",
    "    s.listen()\n",
    "    conn, addr = s.accept()\n",
    "    with conn:\n",
    "        print('Server | Conectat de la adresa', addr)\n",
    "        while True:\n",
    "            data = conn.recv(1024)\n",
    "            if not data:\n",
    "                break\n",
    "            conn.sendall(data)\n",
    "```"
   ]
  },
  {
   "cell_type": "markdown",
   "metadata": {},
   "source": [
    "In interiorul blocului with sunt utilizate urmatoarele metode:\n",
    "* **bind()** - este utilizata pentru a asocia socket-ul cu o anumita interfata si un anumit port. Pentru IPV4 aceasta\n",
    "este specificata intr-un tuplu ce contine adresa ip si portul.\n",
    "* **listen()** -  activeaza serverul pentru a primi conexiuni. Transforma socket-ul intr-un socket care asculta.\n",
    "* **accept()**  - blocheaza si asteapta o conexiune de intrare. Cand un client se conecteaza returneaza un nou obiect\n",
    "de tip socket care reprezinta conexiunea si un tuplu in care este pastrata adresa clientului. Acest nou socket este\n",
    "utilizat pentru a comunica cu clientul si este diferit fata de socket-ul de ascultare.\n",
    "\n",
    "Dupa ce am obtinut socket-ul de conectare o bucla infinita este utilizata pentru a parcurge valorile returnate de\n",
    "metoda recv(). Aceasta citeste ce trimite clientul si se retransmit datele inapoi la client utilizand\n",
    "metoda conn.sendall().\n",
    "\n",
    "Daca metoda recv() returneaza un obiect gol b’’ (un obiect binar gol), atunci clientul opreste conexiunea."
   ]
  },
  {
   "cell_type": "markdown",
   "metadata": {},
   "source": [
    "Un exemplu de aplicatie de tip client ce comunica cu serverul este reprezentata mai jos (client.py)."
   ]
  },
  {
   "cell_type": "markdown",
   "metadata": {
    "pycharm": {
     "name": "#%% md\n"
    }
   },
   "source": [
    "```python\n",
    "###############\n",
    "## client.py ##\n",
    "###############\n",
    "import socket\n",
    "\n",
    "HOST = '127.0.0.1'\n",
    "PORT = 12345\n",
    "\n",
    "with socket.socket(socket.AF_INET, socket.SOCK_STREAM) as s:\n",
    "    s.connect((HOST, PORT))\n",
    "    s.sendall('Salutare natiune!'.encode())\n",
    "    data = s.recv(1024)\n",
    "\n",
    "print('Client | Am primit raspuns', data.decode())\n",
    "```"
   ]
  },
  {
   "cell_type": "markdown",
   "metadata": {},
   "source": [
    "Se foloseste instructiunea with pentru a gestiona inchiderea socket-ului dupa utilizare. Se utilizeaza metoda\n",
    "connect() pentru a realiza o conexiunea la server in care este specificata adresa si portul server-ului. Clientul\n",
    "foloseste metoda sendall() pentru a trimite tot mesajul catre server. La final mesajul receptional este citit\n",
    "prin metoda recv() si este afisat."
   ]
  },
  {
   "cell_type": "code",
   "execution_count": null,
   "outputs": [],
   "source": [
    "# Descarcarea fisierelor server.py si client.py\n",
    "!wget https://raw.githubusercontent.com/uncoded-ro/lp2/main/modul_6/server.py\n",
    "!wget https://raw.githubusercontent.com/uncoded-ro/lp2/main/modul_6/client.py"
   ],
   "metadata": {
    "collapsed": false,
    "pycharm": {
     "name": "#%%\n"
    }
   }
  },
  {
   "cell_type": "markdown",
   "source": [
    "Pentru a testa comunicarea intre server si client vom apela in aceeasi instructiune executia celor doua fisiere.\n",
    "\n",
    "*ATENTIE! Este posibil ca apelul sa nu functioneze corect de fiecare data. La prima utilizare ar trebui sa ruleze\n",
    "corect*.<br>\n",
    "In cazul in care nu functioneaza rularea puteti testa comunicarea client-server creand pe calculatorul propriu\n",
    "fisierele server.py si client.py. Deschideti doua ferestre de terminal, apelati in prima fereastra server.py iar in a\n",
    "doua client.py."
   ],
   "metadata": {
    "collapsed": false,
    "pycharm": {
     "name": "#%% md\n"
    }
   }
  },
  {
   "cell_type": "code",
   "execution_count": null,
   "outputs": [],
   "source": [
    "!python3 server.py & python3 client.py &"
   ],
   "metadata": {
    "collapsed": false,
    "pycharm": {
     "name": "#%%\n"
    }
   }
  },
  {
   "cell_type": "markdown",
   "metadata": {},
   "source": [
    "## Browser web. URLLIB.\n",
    "\n",
    "Aceeasi arhitectura client-server este utilizata si in aplicatiile web. In acest caz in rolul clientului sunt\n",
    "aplicatiile de tip browser web. Putem utiliza socket-uri pentru a scrie cel mai simplu browser web. Pentru a face\n",
    "acest lucru trebuie sa respectam protocolul HTTP pentru a trimite o cerere catre server, iar acesta va trimite un\n",
    "raspuns.\n",
    "\n",
    "In prima faza clientul realizeaza conexiunea catre server folosind aceeasi sintaxa utilizand socket(). Pentru ca vrem\n",
    "sa realizam un browser web, protocolul HTTP ne spune ca trebuie sa trimitem o comanda de tip GET urmata de o linie\n",
    "goala. Dupa ce am trimis linia goala se primeste un raspuns pe care il vom afisa. Cand metoda recv() nu returneaza\n",
    "nimic (am procesat tot documentul primit ca raspuns), programul opreste executia."
   ]
  },
  {
   "cell_type": "code",
   "execution_count": null,
   "metadata": {
    "pycharm": {
     "name": "#%%\n"
    }
   },
   "outputs": [],
   "source": [
    "###################\n",
    "## client_web.py ##\n",
    "###################\n",
    "import socket\n",
    "\n",
    "HOST = 'upt.ro'\n",
    "PORT = 80\n",
    "\n",
    "with socket.socket(socket.AF_INET, socket.SOCK_STREAM) as s:\n",
    "   s.connect((HOST, PORT))\n",
    "   cmd = 'GET https://upt.ro HTTP/1.0\\r\\n\\r\\n'.encode()\n",
    "   s.sendall(cmd)\n",
    "   while True:\n",
    "       data = s.recv(1024)\n",
    "       if not data:\n",
    "           break\n",
    "       print(data.decode())"
   ]
  },
  {
   "cell_type": "markdown",
   "metadata": {},
   "source": [
    "Ca parte din libraria standard, Python ofera si clase care fac folosirea mai usoara a acestor functii de nivel jos.\n",
    "Sunt disponibile in Python multe module care se bazeaza pe aceasta clasa socket de nivel jos care permite implementarea\n",
    "unor protocoale de nivel superior cum ar fi HTTP, FTP sau SMTP. O lista completa de module ce implementeaza protocoale\n",
    "internet o gasiti la adresa: [link](https://docs.python.org/3/library/internet.html)\n",
    "\n",
    "Unul dintre acestea este urllib. Folosind acest modul putem trata o pagina web ca un simplu fisier. Trebuie sa indicam\n",
    "ce pagina web vrem sa folosim iar biblioteca urllib va utiliza protocolul HTTP pentru a obtine documentul cerut.\n",
    "Exemplul precedent este rescris utilizand acest modul."
   ]
  },
  {
   "cell_type": "code",
   "execution_count": null,
   "metadata": {
    "pycharm": {
     "name": "#%%\n"
    }
   },
   "outputs": [],
   "source": [
    "##########################\n",
    "## client_web_urllib.py ##\n",
    "##########################\n",
    "import urllib.request\n",
    "\n",
    "with urllib.request.urlopen('https://upt.ro') as p:\n",
    "    for line in p:\n",
    "        print(line.decode().strip())"
   ]
  },
  {
   "cell_type": "markdown",
   "metadata": {},
   "source": [
    "Obs!  Obiectul returnat de urlopen() are disponibila metoda read() pentru a citi complet pagina web. Se poate utiliza\n",
    "pentru a citi resurse binare cum ar fi o fotografie."
   ]
  },
  {
   "cell_type": "markdown",
   "metadata": {},
   "source": [
    "## Procesarea documentelor HTML\n",
    "\n",
    "Urllib este utilizat des pentru a realiza un ‘scraper web’. Un scraper este un program care pretinde a fi un browser\n",
    "web si returneaza paginile html, apoi examineaza datele returnate pentru a identifica sabloane.\n",
    "\n",
    "Un exemplu de astfel de aplicatii este un motor de cautare, de exemplu Google. Acesta extrage linkurile din pagini\n",
    "pentru a descoperii alte pagini si a construi un algoritm de ordonare.\n",
    "Avand exemplul precedent de citire a unei pagini web am putea dezvolta aplicatia astfel incat sa extragem toate\n",
    "linkurile din pagina returnata si numaram aparitia lor.\n",
    "\n",
    "**Cum am face acest lucru?**\n",
    "\n",
    "O varianta ar fi sa utilizam expresii regulate. Din nefericire paginile HTML nu respecta tot timpul strictetea XML si\n",
    "este foarte probabil ca utilizand doar expresii regulate anumite linkuri sa nu fie gasite sau sa fie returnate partial.\n",
    "\n",
    "O solutie la aceasta problema este utilizarea unei biblioteci specializate pentru procesarea documentelor HTML. Un\n",
    "exemplu de astfel de biblioteca este BeatifulSoup4.\n",
    "\n",
    "Exemplul de mai jos va afisa toate adresele href identificate in tagul \\<a\\>. BeatifulSoup() primeste documentul ce\n",
    "trebuie sa fie procesat si se specifica tipul parser-ului utilizat (in cazul acesta html.parser). Obiectul soup poate\n",
    "fi folosit pentru a specifica ce tag de marcaj vrem sa extragem din ‘supa’ si returneaza o lista cu elementele\n",
    "identificate.\n",
    "Pentru fiecare element identificat putem utiliza metode/atribute de extragere a informatiei dorite: get(‘href’)\n",
    "(returneaza atribului specificat), attrs (returneaza atributele din tag-ul <a ….>), contents (returneaza tot tag-ul de\n",
    "la \\<a\\> la \\</a\\>)."
   ]
  },
  {
   "cell_type": "code",
   "execution_count": null,
   "metadata": {
    "pycharm": {
     "name": "#%%\n"
    }
   },
   "outputs": [],
   "source": [
    "####################\n",
    "## client_soup.py ##\n",
    "####################\n",
    "import urllib.request\n",
    "from bs4 import BeautifulSoup\n",
    "\n",
    "html = urllib.request.urlopen('https://upt.ro').read()\n",
    "soup = BeautifulSoup(html, 'html.parser')\n",
    "\n",
    "tags = soup('a')\n",
    "for tag in tags:\n",
    "    print(tag.get('href'))"
   ]
  },
  {
   "cell_type": "markdown",
   "metadata": {
    "pycharm": {
     "name": "#%% md\n"
    }
   },
   "source": [
    "Documentatia completa a modului BeautifulSoup o gasiti la adresa \n",
    "[link](https://www.crummy.com/software/BeautifulSoup/bs4/doc/)"
   ]
  }
 ],
 "metadata": {
  "kernelspec": {
   "display_name": "Python 3",
   "language": "python",
   "name": "python3"
  },
  "language_info": {
   "codemirror_mode": {
    "name": "ipython",
    "version": 3
   },
   "file_extension": ".py",
   "mimetype": "text/x-python",
   "name": "python",
   "nbconvert_exporter": "python",
   "pygments_lexer": "ipython3",
   "version": "3.9.2"
  }
 },
 "nbformat": 4,
 "nbformat_minor": 1
}