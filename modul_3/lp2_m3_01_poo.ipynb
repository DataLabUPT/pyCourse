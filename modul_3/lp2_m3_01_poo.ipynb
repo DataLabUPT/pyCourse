{
 "cells": [
  {
   "cell_type": "markdown",
   "metadata": {
    "collapsed": true,
    "pycharm": {
     "name": "#%% md\n"
    }
   },
   "source": [
    "<a href=\"https://colab.research.google.com/github/uncoded-ro/lp2/blob/main/modul_3/lp2_m3_01_poo.ipynb\"\n",
    " target=\"_parent\"><img src=\"https://colab.research.google.com/assets/colab-badge.svg\" alt=\"Open In Colab\"\n",
    " style=\"float: right;\"/></a>"
   ]
  },
  {
   "cell_type": "markdown",
   "metadata": {},
   "source": [
    "# Limbaje de programare 2\n",
    "**Modul 3 - Programare orientata pe obiecte in Python**\n",
    "\n",
    "*autor notebook:* [Bogdan Dragulescu](https://datalab.upt.ro/bogdan-dragulescu/)<br/>\n",
    "*continut original:* [Marian Bucos](https://datalab.upt.ro/marian-bucos/),\n",
    "*sub format text* [Programare orientata pe obiecte in Python](https://medium.com/virtual-campus/programare-orientata-pe-obiecte-in-python-f33f551e13f)"
   ]
  },
  {
   "cell_type": "markdown",
   "metadata": {},
   "source": [
    "## Obiective\n",
    "\n",
    "* Principii OOP\n",
    "* Clase\n",
    "* Instante\n",
    "* Mostenire\n",
    "* Polimorfism\n",
    "* Incapsulare"
   ]
  },
  {
   "cell_type": "markdown",
   "metadata": {},
   "source": [
    "## Principii OOP\n",
    "\n",
    "Programare orientata pe obiecte reprezinta o metoda de proiectarea si dezvoltare a aplicatiilor care are la baza\n",
    "concepte precum clasa, obiectul si interactiunea dintre obiecte prin intermediul mesajelor.\n",
    "\n",
    "Obiectele reprezinta componente software care modeleaza entitati sau concepte din lumea reala si care detin:\n",
    "o identitate, definita printr-un nume, o stare, definita prin atribute, si un comportament, definit prin metode.\n",
    "Obiectele care descriu aceeasi entitate sau concept pot fi grupate in multimi de obiecte, denumite clase.\n",
    "\n",
    "Programarea orientata pe obiecte este caracterizata de o serie de principii, precum: abstractizarea, incapsularea,\n",
    "mostenirea si polimorfismul.\n",
    "\n",
    "Semnificatia principiilor o gasiti in documentul original:\n",
    "[Programare orientata pe obiecte in Python](https://uncoded.ro/programare-orientata-pe-obiecte-in-python/)"
   ]
  },
  {
   "cell_type": "markdown",
   "metadata": {
    "pycharm": {
     "name": "#%% md\n"
    }
   },
   "source": [
    "## Clase\n",
    "\n",
    "O clasa reprezinta o structura logica care defineste comportamentul si starea obiectelor. Dupa definirea clasei,\n",
    "aceasta poate fi utilizata pentru a crea obiecte de tipul respectiv.\n",
    "\n",
    "In limbajul Python, definirea unei clase se realizeaza prin intermediul cuvantului cheie class, dupa care este\n",
    "precizata denumirea clasei. Corpul clasei cuprinde instructiuni care permit definirea membrilor clasei, atribute de\n",
    "tip data sau metode.\n",
    "\n",
    "Am avut in vedere descrierea clasei Persoana prin intermediul atributelor de instanta nume si varsta si a atributului\n",
    "de clasa numar_persoane. Clasa introduce si o metoda constructor, __init__(), necesara in momentul instantierii clasei\n",
    "(permite crearea de obiecte instanta de tip Persoana)."
   ]
  },
  {
   "cell_type": "code",
   "execution_count": null,
   "metadata": {
    "pycharm": {
     "name": "#%%\n"
    }
   },
   "outputs": [],
   "source": [
    "class Persoana():\n",
    "    \"\"\"Clasa Persoana\"\"\"\n",
    "\n",
    "    numar_persoane = 0\n",
    "\n",
    "    def __init__(self, nume, varsta):\n",
    "        self.nume = nume\n",
    "        self.varsta = varsta\n",
    "        __class__.numar_persoane += 1\n",
    "\n",
    "    def se_prezinta(self):\n",
    "        print(\"Buna! Numele meu este {} si am {} ani.\".format(self.nume, self.varsta))\n",
    "\n",
    "    def __str__(self):\n",
    "        return \"{0}, {1}, {2}\".format(self.nume, self.varsta, __class__.numar_persoane)"
   ]
  },
  {
   "cell_type": "markdown",
   "metadata": {
    "pycharm": {
     "name": "#%% md\n"
    }
   },
   "source": [
    "Primul element de la nivelul unei clase, denumit si doc string, permite precizarea unei scurte descrieri cu privire la\n",
    "clasa ce urmeaza a fi introdusa. Desi acest sir de caractere (comentariu) nu este obligatoriu, este recomandata\n",
    "utilizarea lui.\n",
    "\n",
    "La definirea unei clase este creat si un obiect de tip clasa (class object) care detine numele clasei. Obiectul clasa\n",
    "permite accesarea atributelor clasei si contine domeniul de definitii de la nivelul clasei, denumiri de atribute si\n",
    "metode."
   ]
  },
  {
   "cell_type": "code",
   "execution_count": null,
   "metadata": {
    "pycharm": {
     "name": "#%%\n"
    }
   },
   "outputs": [],
   "source": [
    "Persoana.numar_persoane"
   ]
  },
  {
   "cell_type": "code",
   "execution_count": null,
   "metadata": {
    "pycharm": {
     "name": "#%%\n"
    }
   },
   "outputs": [],
   "source": [
    "Persoana.__doc__"
   ]
  },
  {
   "cell_type": "code",
   "execution_count": null,
   "metadata": {
    "pycharm": {
     "name": "#%%\n"
    }
   },
   "outputs": [],
   "source": [
    "Persoana.__name__"
   ]
  },
  {
   "cell_type": "code",
   "execution_count": null,
   "metadata": {
    "pycharm": {
     "name": "#%%\n"
    }
   },
   "outputs": [],
   "source": [
    "Persoana.__bases__"
   ]
  },
  {
   "cell_type": "markdown",
   "metadata": {
    "pycharm": {
     "name": "#%% md\n"
    }
   },
   "source": [
    "Semnificatia atributelor o gasiti in documentul original:\n",
    "[Programare orientata pe obiecte in Python](https://uncoded.ro/programare-orientata-pe-obiecte-in-python/)"
   ]
  },
  {
   "cell_type": "markdown",
   "metadata": {
    "pycharm": {
     "name": "#%% md\n"
    }
   },
   "source": [
    "## Instante\n",
    "\n",
    "Crearea unei instante (obiect instanta) pentru o clasa se realizeaza prin intermediul constructorului clasei. Rolul\n",
    "principal al constructorului este acela de a initializa variabilele unui obiect, atunci cand acesta este creat.\n",
    "Apelarea constructorului pentru clasa Persoana se realizeaza astfel:"
   ]
  },
  {
   "cell_type": "code",
   "execution_count": null,
   "metadata": {
    "pycharm": {
     "name": "#%%\n"
    }
   },
   "outputs": [],
   "source": [
    "marianpopescu = Persoana(\"Marian Popescu\", 35)\n",
    "marianpopescu.numar_persoane"
   ]
  },
  {
   "cell_type": "code",
   "execution_count": null,
   "metadata": {
    "pycharm": {
     "name": "#%%\n"
    }
   },
   "outputs": [],
   "source": [
    "Persoana.numar_persoane"
   ]
  },
  {
   "cell_type": "markdown",
   "metadata": {
    "pycharm": {
     "name": "#%% md\n"
    }
   },
   "source": [
    "Daca metoda constructor __init__() introduce o lista de parametri, atunci la apelul ei vor fi precizate argumente\n",
    "corespunzatoare.\n",
    "\n",
    "Obiectele instanta pot referi variabile instanta/atribute de tip data si functii de instanta/metode. Primul argument\n",
    "pentru metodele de instanta ale unei clase este intotdeauna obiectul curent, denumit self. Prin intermediul lui self\n",
    "sunt accesate atributele de instanta pentru obiectul curent."
   ]
  },
  {
   "cell_type": "code",
   "execution_count": null,
   "metadata": {
    "pycharm": {
     "name": "#%%\n"
    }
   },
   "outputs": [],
   "source": [
    "marianpopescu.nume"
   ]
  },
  {
   "cell_type": "code",
   "execution_count": null,
   "metadata": {
    "pycharm": {
     "name": "#%%\n"
    }
   },
   "outputs": [],
   "source": [
    "marianpopescu.varsta"
   ]
  },
  {
   "cell_type": "code",
   "execution_count": null,
   "metadata": {
    "pycharm": {
     "name": "#%%\n"
    }
   },
   "outputs": [],
   "source": [
    "marianpopescu.se_prezinta()"
   ]
  },
  {
   "cell_type": "markdown",
   "metadata": {},
   "source": [
    "Adaugarea, stergerea sau modificarea atributelor pentru obiectele de tip clasa sau instanta se poate realiza in orice\n",
    "moment."
   ]
  },
  {
   "cell_type": "code",
   "execution_count": null,
   "metadata": {
    "pycharm": {
     "name": "#%%\n"
    }
   },
   "outputs": [],
   "source": [
    "marianpopescu.inaltime = 1.78\n",
    "print(marianpopescu)"
   ]
  },
  {
   "cell_type": "code",
   "execution_count": null,
   "metadata": {
    "pycharm": {
     "name": "#%%\n"
    }
   },
   "outputs": [],
   "source": [
    "marianpopescu.inaltime"
   ]
  },
  {
   "cell_type": "code",
   "execution_count": null,
   "metadata": {
    "pycharm": {
     "name": "#%%\n"
    }
   },
   "outputs": [],
   "source": [
    "del marianpopescu.inaltime\n",
    "marianpopescu.inaltime"
   ]
  },
  {
   "cell_type": "markdown",
   "metadata": {},
   "source": [
    "De asemenea, accesarea atributelor obiectelor instanta se poate realiza si prin intermediul urmatoarelor functii:\n",
    "getattr(), hasattr(), setattr() si delattr().\n",
    "\n",
    "Semnificatia functiilor o gasiti in documentul original:\n",
    "[Programare orientata pe obiecte in Python](https://uncoded.ro/programare-orientata-pe-obiecte-in-python/)"
   ]
  },
  {
   "cell_type": "code",
   "execution_count": null,
   "metadata": {
    "pycharm": {
     "name": "#%%\n"
    }
   },
   "outputs": [],
   "source": [
    "hasattr(marianpopescu, 'nume')"
   ]
  },
  {
   "cell_type": "code",
   "execution_count": null,
   "metadata": {
    "pycharm": {
     "name": "#%%\n"
    }
   },
   "outputs": [],
   "source": [
    "getattr(marianpopescu, 'nume')"
   ]
  },
  {
   "cell_type": "code",
   "execution_count": null,
   "metadata": {
    "pycharm": {
     "name": "#%%\n"
    }
   },
   "outputs": [],
   "source": [
    "setattr(marianpopescu, 'nume', 'Marian C. Popescu')\n",
    "getattr(marianpopescu, 'nume')"
   ]
  },
  {
   "cell_type": "code",
   "execution_count": null,
   "metadata": {
    "pycharm": {
     "name": "#%%\n"
    }
   },
   "outputs": [],
   "source": [
    "delattr(marianpopescu, 'varsta')\n",
    "marianpopescu.varsta"
   ]
  },
  {
   "cell_type": "markdown",
   "metadata": {},
   "source": [
    "## Mostenire\n",
    "\n",
    "In programarea orientata pe obiecte mostenirea permite construirea de ierarhii de clase. Mostenirea reprezinta o\n",
    "proprietate a claselor prin intermediul careia poate fi definita o noua clasa, care sa preia atributele unei clase\n",
    "mai vechi. Aceasta proprietate este implementata cu ajutorul claselor derivate.\n",
    "\n",
    "Clasa derivata, sau subclasa, se gaseste intotdeauna pe un nivel inferior celui corespunzator superclasei, sau clasei\n",
    "de baza. In limbajul Python poate fi utilizata mostenirea simpla sau multipla, adica fiecare clasa derivata are una\n",
    "sau mai multe clase de baza (parinte).\n",
    "\n",
    "<pre>\n",
    "class A:\n",
    "    instructiuni\n",
    "class B():\n",
    "    instructiuni\n",
    "class C(A, B):\n",
    "    instructiuni\n",
    "</pre>\n",
    "\n",
    "Relatia de derivare este precizata la definirea clasei derivate si are in vedere precizarea uneia sau mai multor clase\n",
    "parinte. In exemplul precedent, clasa C mosteneste toate atributele de la nivelul claselor parinte (A, respectiv B).\n",
    "\n",
    "Clasele derivate mostenesc atributele claselor de baza la care adauga noi atribute. Atributele care nu sunt gasite la\n",
    "nivelul unei clase sunt verificate (cautate) la nivelul claselor de baza. O clasa derivata poate supradefini datele si\n",
    "metodele membre de la nivelul parintelui."
   ]
  },
  {
   "cell_type": "code",
   "execution_count": null,
   "metadata": {
    "pycharm": {
     "name": "#%%\n"
    }
   },
   "outputs": [],
   "source": [
    "class Student(Persoana):\n",
    "    \"\"\"Clasa Student\"\"\"\n",
    "\n",
    "    def __init__(self, nume, varsta, facultate, an):\n",
    "        super().__init__(nume, varsta)\n",
    "        self.facultate = facultate\n",
    "        self.an = an\n",
    "\n",
    "    def __str__(self):\n",
    "        return \"{0}, {1}, {2}\".format(super().__str__(), self.facultate, self.an)\n",
    "\n",
    "    def se_prezinta(self):\n",
    "        super().se_prezinta()\n",
    "        print(\"Sunt student la facultatea {} in anul {}\".format(self.facultate, self.an))"
   ]
  },
  {
   "cell_type": "markdown",
   "metadata": {},
   "source": [
    "## Polimorfism\n",
    "\n",
    "Polimorfismul reprezinta abilitatea de a procesa obiectele diferit, in functie de tipul lor. Polimorfismul descrie\n",
    "situatia in care un nume se refera la doua metode diferite.\n",
    "\n",
    "In limbajul Python, polimorfismul permite definirea de metode cu acelasi nume la nivelul claselor aflate in relatie de\n",
    "mostenire. In acest caz vorbim de un polimorfism de supradefinire."
   ]
  },
  {
   "cell_type": "code",
   "execution_count": null,
   "metadata": {
    "pycharm": {
     "name": "#%%\n"
    }
   },
   "outputs": [],
   "source": [
    "class Persoana():\n",
    "    \"\"\"Clasa Persoana\"\"\"\n",
    "\n",
    "    numar_persoane = 0\n",
    "\n",
    "    def __init__(self, nume, varsta):\n",
    "        self.nume = nume\n",
    "        self.varsta = varsta\n",
    "        __class__.numar_persoane += 1\n",
    "\n",
    "    def se_prezinta(self):\n",
    "        print(\"Buna! Numele meu este {} si am {} ani.\".format(self.nume, self.varsta))\n",
    "\n",
    "    def __str__(self):\n",
    "        return \"{0}, {1}, {2}\".format(self.nume, self.varsta, __class__.numar_persoane)"
   ]
  },
  {
   "cell_type": "markdown",
   "metadata": {
    "pycharm": {
     "name": "#%% md\n"
    }
   },
   "source": [
    "La nivelul clasei Student sunt supradefinite/redefinite metodete se_prezinta si __str__(). Ambele metoda sunt definite\n",
    "si la nivelul clasei de baza, Persoana. Si la nivelul clasei Persoana este supradefinita metoda __str__(), metoda care\n",
    "este definita la nivelul clasei object."
   ]
  },
  {
   "cell_type": "code",
   "execution_count": null,
   "metadata": {
    "pycharm": {
     "name": "#%%\n"
    }
   },
   "outputs": [],
   "source": [
    "class Student(Persoana):\n",
    "    \"\"\"Clasa Student\"\"\"\n",
    "\n",
    "    def __init__(self, nume, varsta, facultate, an):\n",
    "        super().__init__(nume, varsta)\n",
    "        self.facultate = facultate\n",
    "        self.an = an\n",
    "\n",
    "    def __str__(self):\n",
    "        return \"{0}, {1}, {2}\".format(super().__str__(), self.facultate, self.an)\n",
    "\n",
    "    def se_prezinta(self):\n",
    "        super().se_prezinta()\n",
    "        print(\"Sunt student la facultatea {} in anul {}\".format(self.facultate, self.an))"
   ]
  },
  {
   "cell_type": "markdown",
   "metadata": {},
   "source": [
    "## Incapsulare\n",
    "\n",
    "Incapsularea exprima proprietatea de opacitate a obiectelor cu privire la structura lor interna si modul de implementare\n",
    " a metodelor. Fiecare element al sistemului poate executa actiuni, isi poate modifica starea si poate comunica cu alte\n",
    " elemente fara a dezvalui facilitatile detinute.\n",
    "\n",
    "La nivelul clasei Persoana putem implementa incapsularea prin prefixarea numelui atributelor de instanta (nume, varsta)\n",
    "cu underscore. Limbajul Python protejeaza membrii declarati cu dublu underscore prin modificarea numelor acestora cu\n",
    "numele clasei."
   ]
  },
  {
   "cell_type": "code",
   "execution_count": null,
   "metadata": {
    "pycharm": {
     "name": "#%%\n"
    }
   },
   "outputs": [],
   "source": [
    "class Persoana():\n",
    "    \"\"\"Clasa Persoana\"\"\"\n",
    "\n",
    "    numar_persoane = 0\n",
    "\n",
    "    def __init__(self, nume, varsta):\n",
    "        self.__nume = nume\n",
    "        self.__varsta = varsta\n",
    "        __class__.numar_persoane += 1\n",
    "\n",
    "    def __str__(self):\n",
    "        return \"{0}, {1}, {2}\".format(self.__nume, self.__varsta, __class__.numar_persoane)\n",
    "\n",
    "    def se_prezinta(self):\n",
    "        print(\"Buna! Numele meu este {} si am {} ani.\".format(self.get_nume(), self.__varsta))\n",
    "\n",
    "    def set_nume(self, nume):\n",
    "        self.__nume = nume\n",
    "\n",
    "    def get_nume(self):\n",
    "        return self.__nume"
   ]
  },
  {
   "cell_type": "markdown",
   "metadata": {},
   "source": [
    "Pentru citirea sau modificarea datelor membre protejate in clase pot fi definite metode de instante de tip set()/get(),\n",
    " care pot fi apelate din orice punct al domeniului de definitie al clasei."
   ]
  },
  {
   "cell_type": "code",
   "execution_count": null,
   "metadata": {
    "pycharm": {
     "name": "#%%\n"
    }
   },
   "outputs": [],
   "source": [
    "marianpopescu = Persoana(\"Marian Popescu\", 35)\n",
    "marianpopescu"
   ]
  },
  {
   "cell_type": "code",
   "execution_count": null,
   "metadata": {
    "pycharm": {
     "name": "#%%\n"
    }
   },
   "outputs": [],
   "source": [
    "print(marianpopescu)"
   ]
  },
  {
   "cell_type": "code",
   "execution_count": null,
   "metadata": {
    "pycharm": {
     "name": "#%%\n"
    }
   },
   "outputs": [],
   "source": [
    "marianpopescu.nume"
   ]
  },
  {
   "cell_type": "code",
   "execution_count": null,
   "metadata": {
    "pycharm": {
     "name": "#%%\n"
    }
   },
   "outputs": [],
   "source": [
    "marianpopescu.get_nume()"
   ]
  },
  {
   "cell_type": "code",
   "execution_count": null,
   "metadata": {
    "pycharm": {
     "name": "#%%\n"
    }
   },
   "outputs": [],
   "source": [
    "marianpopescu.set_nume('Marian C. Popescu')\n",
    "print(marianpopescu)"
   ]
  }
 ],
 "metadata": {
  "kernelspec": {
   "display_name": "Python 3",
   "language": "python",
   "name": "python3"
  },
  "language_info": {
   "codemirror_mode": {
    "name": "ipython",
    "version": 3
   },
   "file_extension": ".py",
   "mimetype": "text/x-python",
   "name": "python",
   "nbconvert_exporter": "python",
   "pygments_lexer": "ipython3",
   "version": "3.9.1"
  }
 },
 "nbformat": 4,
 "nbformat_minor": 1
}
