{
 "cells": [
  {
   "cell_type": "markdown",
   "metadata": {
    "collapsed": true,
    "pycharm": {
     "name": "#%% md\n"
    }
   },
   "source": [
    "<a href=\"https://colab.research.google.com/github/DataLabUPT/pyCourse/blob/main/modul_3/lp2_m3_02_programare_functionala.ipynb\"\n",
    " target=\"_parent\"><img src=\"https://colab.research.google.com/assets/colab-badge.svg\" alt=\"Open In Colab\"\n",
    " style=\"float: right;\"/></a>"
   ]
  },
  {
   "cell_type": "markdown",
   "metadata": {},
   "source": [
    "# Limbaje de programare 3\n",
    "**Modul 3 - Elemente de programare functionala in Python**\n",
    "\n",
    "*autor notebook:* [Bogdan Dragulescu](https://datalab.upt.ro/bogdan-dragulescu/)<br/>\n",
    "*continut original:* [Marian Bucos](https://datalab.upt.ro/marian-bucos/),\n",
    "*sub format text* [Elemente de programare functionala in Python](https://medium.com/virtual-campus/elemente-de-programare-functionala-in-python-6e35726fa4a0)"
   ]
  },
  {
   "cell_type": "markdown",
   "metadata": {},
   "source": [
    "## Obiective\n",
    "\n",
    "* Programare functionala\n",
    "* Expresii lambda\n",
    "* Map\n",
    "* Filter\n",
    "* Reduce"
   ]
  },
  {
   "cell_type": "markdown",
   "metadata": {},
   "source": [
    "## Programare functionala\n",
    "\n",
    "Chiar daca limbajul Python este catalogat ca facand parte din categoria limbajelor de programare orientate pe obiecte,\n",
    "la nivelul lui sunt disponibile si elemente care permit implementari ale unor alte paradigme de programare, precum\n",
    "paradigma functionala.\n",
    "\n",
    "Programare functionala reprezinta o metoda de proiectare si dezvoltare a aplicatiilor bazata pe evaluarea de expresii\n",
    "care nu au in vedere modificarea starii. In cadrul acestui stil de programare codul este oferit prin intermediul\n",
    "functiilor. Programarea functionala promoveaza un cod fara efecte secundare, fara modificari ale starii variabilelor."
   ]
  },
  {
   "cell_type": "code",
   "execution_count": null,
   "metadata": {
    "pycharm": {
     "name": "#%%\n"
    }
   },
   "outputs": [],
   "source": [
    "# stil ne-functional\n",
    "nume = 'Ghita'\n",
    "nume = \"{} Ionescu\".format(nume)\n",
    "nume"
   ]
  },
  {
   "cell_type": "code",
   "execution_count": null,
   "metadata": {
    "pycharm": {
     "name": "#%%\n"
    }
   },
   "outputs": [],
   "source": [
    "# stil functional\n",
    "prenume = 'Ghita'\n",
    "nume = \"{} Ionescu\".format(prenume)\n",
    "nume"
   ]
  },
  {
   "cell_type": "markdown",
   "metadata": {},
   "source": [
    "In limbajul Python, functiile sunt tratate ca si obiecte de ordinul intai (first class objects). Sunt permise\n",
    "urmatoarelor operatii cu functii: o functie poate avea ca si argumente alte functii; o functie poate fi returnata\n",
    "ca si rezultat al unei alte functii."
   ]
  },
  {
   "cell_type": "code",
   "execution_count": null,
   "metadata": {
    "pycharm": {
     "name": "#%%\n"
    }
   },
   "outputs": [],
   "source": [
    "def aduna_doua_numere(x, y):\n",
    "    return x + y\n",
    "\n",
    "def aduna_trei_numere(x, y, z):\n",
    "    return x + y + z\n",
    "\n",
    "def functie_adecvata(numar_elemente):\n",
    "    if numar_elemente == 2:\n",
    "        return aduna_doua_numere\n",
    "    else:\n",
    "        return aduna_trei_numere"
   ]
  },
  {
   "cell_type": "code",
   "execution_count": null,
   "metadata": {
    "pycharm": {
     "name": "#%%\n"
    }
   },
   "outputs": [],
   "source": [
    "args = [1, 2, 3]\n",
    "numar_elemente = len(args)\n",
    "rezultat = functie_adecvata(numar_elemente)\n",
    "rezultat\n",
    "rezultat(*args)"
   ]
  },
  {
   "cell_type": "code",
   "execution_count": null,
   "metadata": {
    "pycharm": {
     "name": "#%%\n"
    }
   },
   "outputs": [],
   "source": [
    "args = [1, 2]\n",
    "numar_elemente = len(args)\n",
    "rezultat = functie_adecvata(numar_elemente)\n",
    "rezultat\n",
    "rezultat(*args)"
   ]
  },
  {
   "cell_type": "markdown",
   "metadata": {},
   "source": [
    "## Expresii lambda\n",
    "Expresiile lambda permit crearea de functii anonime cu ajutorul cuvantului cheie lambda. Sintaxa unei expresii lambda\n",
    "urmeaza indeaproape sintaxa de definire a unei functii (def).\n",
    "\n",
    "Intr-o expresie lambda sunt precizate argumente – inainte de caracterul : – si o expresie returnata\n",
    "(chiar daca nu explicit). Unei expresii lambda ii pot corespunde mai multe argumente, dar numai o singura expresie,\n",
    "care este evaluata si returnata.\n",
    "\n",
    "Daca o expresie lambda este referita de o variabila, atunci ea are un comportament similar unei functii, si poate fi\n",
    "apelata in mod asemanator."
   ]
  },
  {
   "cell_type": "code",
   "execution_count": null,
   "metadata": {
    "pycharm": {
     "name": "#%%\n"
    }
   },
   "outputs": [],
   "source": [
    "insumare = lambda a, b: a + b\n",
    "insumare(1, 2)"
   ]
  },
  {
   "cell_type": "markdown",
   "metadata": {},
   "source": [
    "Daca expresia lambda nu este referita de o variabila, atunci ea poarta numele de functie anonima (functie fara nume).\n",
    "Acestea sunt des utilizate in combinatie cu functiile de nivel inalt map(), reduce() si filter()."
   ]
  },
  {
   "cell_type": "code",
   "execution_count": null,
   "metadata": {
    "pycharm": {
     "name": "#%%\n"
    }
   },
   "outputs": [],
   "source": [
    "def f(a, b):\n",
    "    return a + b\n",
    "\n",
    "f(1, 3)"
   ]
  },
  {
   "cell_type": "code",
   "execution_count": null,
   "metadata": {
    "pycharm": {
     "name": "#%%\n"
    }
   },
   "outputs": [],
   "source": [
    "f = lambda a, b: a + b\n",
    "f(1, 3)"
   ]
  },
  {
   "cell_type": "code",
   "execution_count": null,
   "metadata": {
    "pycharm": {
     "name": "#%%\n"
    }
   },
   "outputs": [],
   "source": [
    "def al_doilea(element):\n",
    "    return element[1]\n",
    "\n",
    "studenti = [('Marian', 7.21), ('Ioana', 8.34), ('Paul', 6.72), ('Zaya', 9.45)]\n",
    "sorted(studenti)"
   ]
  },
  {
   "cell_type": "code",
   "execution_count": null,
   "metadata": {
    "pycharm": {
     "name": "#%%\n"
    }
   },
   "outputs": [],
   "source": [
    "sorted(studenti, key = al_doilea)"
   ]
  },
  {
   "cell_type": "code",
   "execution_count": null,
   "metadata": {
    "pycharm": {
     "name": "#%%\n"
    }
   },
   "outputs": [],
   "source": [
    "sorted(studenti, key = lambda x : x[1])"
   ]
  },
  {
   "cell_type": "code",
   "execution_count": null,
   "metadata": {
    "pycharm": {
     "name": "#%%\n"
    }
   },
   "outputs": [],
   "source": [
    "sorted(studenti, key = lambda x : x[1], reverse = True)"
   ]
  },
  {
   "cell_type": "markdown",
   "metadata": {},
   "source": [
    "## Map\n",
    "\n",
    "Functia map() primeste ca si argumente o functie si una sau mai multe colectii de elemente iterabile si creeaza o\n",
    "noua colectie de elemente. Ruleaza functia pe fiecare element de la nivelul colectiei (colectiilor) initiale si adauga\n",
    "valorile returnate la nivelul colectiei create.\n",
    "\n",
    "Valoarea returnata (obiect map) poate fi transmisa unor functii precum list(), pentru a crea o lista de elemente,\n",
    "sau set(), pentru a crea o multime de elemente."
   ]
  },
  {
   "cell_type": "code",
   "execution_count": null,
   "metadata": {
    "pycharm": {
     "name": "#%%\n"
    }
   },
   "outputs": [],
   "source": [
    "orase = ['Timisoara', 'Londra', 'Budapesta', 'New York']\n",
    "lungime_nume = map(len, orase)\n",
    "lungime_nume\n",
    "list(lungime_nume)"
   ]
  },
  {
   "cell_type": "code",
   "execution_count": null,
   "metadata": {
    "pycharm": {
     "name": "#%%\n"
    }
   },
   "outputs": [],
   "source": [
    "numere = (1, 2, 3, 4)\n",
    "rezultat = map(lambda x: x*x, numere)\n",
    "rezultat\n",
    "patrate_numere = set(rezultat)\n",
    "patrate_numere"
   ]
  },
  {
   "cell_type": "markdown",
   "metadata": {},
   "source": [
    "Functia map() poate primi ca si argumente mai multe colectii, atata timp cat acestea beneficiaza de aceeasi dimensiune."
   ]
  },
  {
   "cell_type": "code",
   "execution_count": null,
   "metadata": {
    "pycharm": {
     "name": "#%%\n"
    }
   },
   "outputs": [],
   "source": [
    "a = [1, 2, 3, 4]\n",
    "b = [11, 12, 13, 14]\n",
    "c = [5, 6, 7, 8]\n",
    "list(map(lambda x, y, z: x + y * z, a, b, c))"
   ]
  },
  {
   "cell_type": "markdown",
   "metadata": {},
   "source": [
    "## Filter\n",
    "\n",
    "Functia filter() primeste ca si argumente o functie si o colectie de elemente iterabile si filtreaza elementele\n",
    "colectiei cu ajutorul functiei care testeaza daca fiecare element este evaluat la True sau False\n",
    "\n",
    "Valoarea returnata (obiect filter) contine un obiect iterabil, al carui elemente au fost evaluate la True in contextul\n",
    "functiei argument."
   ]
  },
  {
   "cell_type": "code",
   "execution_count": null,
   "metadata": {
    "pycharm": {
     "name": "#%%\n"
    }
   },
   "outputs": [],
   "source": [
    "orase = ['Timisoara', 'Londra', 'Budapesta', 'New York']\n",
    "incepe_cu = list(filter(lambda x: x.startswith('T'), orase))\n",
    "incepe_cu"
   ]
  },
  {
   "cell_type": "code",
   "execution_count": null,
   "metadata": {
    "pycharm": {
     "name": "#%%\n"
    }
   },
   "outputs": [],
   "source": [
    "numere = [23, 5, 12, 8, 31, 4, 16]\n",
    "rezultat = filter(lambda x: x % 2 == 1, numere)\n",
    "rezultat"
   ]
  },
  {
   "cell_type": "code",
   "execution_count": null,
   "metadata": {
    "pycharm": {
     "name": "#%%\n"
    }
   },
   "outputs": [],
   "source": [
    "numere_impare = set(rezultat)\n",
    "numere_impare"
   ]
  },
  {
   "cell_type": "code",
   "execution_count": null,
   "metadata": {
    "pycharm": {
     "name": "#%%\n"
    }
   },
   "outputs": [],
   "source": [
    "rezultat = filter(lambda x: x % 2 == 0, numere)\n",
    "numere_pare = set(rezultat)\n",
    "numere_pare"
   ]
  },
  {
   "cell_type": "markdown",
   "metadata": {},
   "source": [
    "## Reduce\n",
    "Functia reduce() primeste ca si argumente o functie si o colectie de elemente iterabile si returneaza o valoare\n",
    "calculata prin combinarea elementelor colectiei.\n",
    "\n",
    "Primul argument de la nivelul functiei/expresiei lambda poarta numele de acumulator, si reprezinta valoarea returnata\n",
    "prin executia functiei/expresiei lambda cu elementul din iteratia anterioara. Cel de-al doilea argument este elementul\n",
    "din iteratia curenta."
   ]
  },
  {
   "cell_type": "code",
   "execution_count": null,
   "metadata": {
    "pycharm": {
     "name": "#%%\n"
    }
   },
   "outputs": [],
   "source": [
    "from functools import reduce\n",
    "reduce(lambda a, x : a * x, [1, 2, 3])"
   ]
  },
  {
   "cell_type": "markdown",
   "metadata": {},
   "source": [
    "Functia reduce() parcurge elementele colectiei furnizate ca si argument. Pentru fiecare element returneaza valoarea\n",
    "functiei/expresiei lambda cu valorile curente ale acumulatorului si elementului curent. In prima iteratie, acumulatorul\n",
    " se initializeaza cu valoarea primului element al colectiei, dupa care se trece la urmatoarea iteratie."
   ]
  },
  {
   "cell_type": "code",
   "execution_count": null,
   "metadata": {
    "pycharm": {
     "name": "#%%\n"
    }
   },
   "outputs": [],
   "source": [
    "numere = [1, 2, 3, 4]\n",
    "suma = reduce(lambda x, y : x + y, numere)\n",
    "suma"
   ]
  },
  {
   "cell_type": "code",
   "execution_count": null,
   "metadata": {
    "pycharm": {
     "name": "#%%\n"
    }
   },
   "outputs": [],
   "source": [
    "numere = [23, 45, 11, 7]\n",
    "max = reduce(lambda a, b: a if a > b else b, numere)\n",
    "max"
   ]
  },
  {
   "cell_type": "markdown",
   "metadata": {},
   "source": [
    "Daca valoarea primului element al colectiei nu poate fi utilizata pentru acumulator, aceasta poate fi specificata\n",
    "folosind un al treilea argument al functiei reduce()."
   ]
  },
  {
   "cell_type": "code",
   "execution_count": null,
   "metadata": {
    "pycharm": {
     "name": "#%%\n"
    }
   },
   "outputs": [],
   "source": [
    "orase = ['Timisoara', 'Londra', 'Budapesta', 'New York']\n",
    "numara_a = reduce(lambda a, x: a + x.count('a'), orase, 0)\n",
    "numara_a"
   ]
  }
 ],
 "metadata": {
  "kernelspec": {
   "display_name": "Python 3",
   "language": "python",
   "name": "python3"
  },
  "language_info": {
   "codemirror_mode": {
    "name": "ipython",
    "version": 3
   },
   "file_extension": ".py",
   "mimetype": "text/x-python",
   "name": "python",
   "nbconvert_exporter": "python",
   "pygments_lexer": "ipython3",
   "version": "3.9.1"
  }
 },
 "nbformat": 4,
 "nbformat_minor": 1
}
