{
 "cells": [
  {
   "cell_type": "markdown",
   "metadata": {
    "collapsed": true,
    "pycharm": {
     "name": "#%% md\n"
    }
   },
   "source": [
    "<a href=\"https://colab.research.google.com/github/uncoded-ro/lp2/blob/main/modul_2/lp2_m2_03_dictionare.ipynb\"\n",
    " target=\"_parent\"><img src=\"https://colab.research.google.com/assets/colab-badge.svg\" alt=\"Open In Colab\"\n",
    " style=\"float: right;\"/></a>"
   ]
  },
  {
   "cell_type": "markdown",
   "source": [
    "# Limbaje de programare 2\n",
    "**Modul 2 - Structuri de date de tip dictionar in Python**\n",
    "\n",
    "*autor notebook:* [Bogdan Dragulescu](https://ti.etcti.upt.ro/bogdan-dragulescu/)<br/>\n",
    "*continut original:* [Marian Bucos](https://ti.etcti.upt.ro/marian-bucos/),\n",
    "*sub format text* [Structuri de date de tip dictionar in Python](https://uncoded.ro/structuri-de-date-de-tip-dictionar-in-python/)"
   ],
   "metadata": {
    "collapsed": false
   }
  },
  {
   "cell_type": "markdown",
   "source": [
    "## Obiective\n",
    "\n",
    "* Dictionare in Python\n",
    "* Crearea unui dictionar\n",
    "* Accesarea elementelor unui dictionar\n",
    "* Adaugarea si actualizarea elementelor unui dictionar\n",
    "* Stergerea dictionarelor si eliminarea elementelor\n",
    "* Parcurgerea elementelor unui dictionar\n",
    "* Metode predefinite pentru dictionare\n",
    "* Functii predefinite pentru dictionare\n",
    "* Python Dictionary Comprehension"
   ],
   "metadata": {
    "collapsed": false
   }
  },
  {
   "cell_type": "markdown",
   "source": [
    "## Dictionare in Python\n",
    "\n",
    "In limbajul Python, dictionarele reprezinta structuri de date care stocheaza perechi de tipul cheie-valoare, unde cheile\n",
    " sunt unice. Declararea dictionarelor se realizeaza prin intermediul acoladelor. Elementele unui dictionar pot fi\n",
    " modificate, motiv pentru care spunem ca dictionarele sunt structuri de date de tip mutabil."
   ],
   "metadata": {
    "collapsed": false,
    "pycharm": {
     "name": "#%% md\n"
    }
   }
  },
  {
   "cell_type": "code",
   "execution_count": null,
   "outputs": [],
   "source": [
    "orase = {1: 'Timisoara', 2: 'Londra', 3: 'Budapesta', 4: 'New York'}\n",
    "orase[2] = 'Sofia'\n",
    "orase"
   ],
   "metadata": {
    "collapsed": false,
    "pycharm": {
     "name": "#%%\n"
    }
   }
  },
  {
   "cell_type": "markdown",
   "source": [
    "Un dictionar poate include elemente ale caror valori sunt tot structuri de tip dictionar. Cheile de la nivelul unui\n",
    "dictionar nu pot fi definite insa decat prin intermediul tipurilor de date de tip imutabil, precum sirurile de\n",
    "caractere, valorile numerice sau tuplurile."
   ],
   "metadata": {
    "collapsed": false,
    "pycharm": {
     "name": "#%% md\n"
    }
   }
  },
  {
   "cell_type": "code",
   "execution_count": null,
   "outputs": [],
   "source": [
    "orase_ro = {1: 'Timisoara', 2: 'Bucuresti', 3: 'Iasi'}\n",
    "orase_uk = {1: 'Londra', 2: 'Glasgow', 3: 'Liverpool'}\n",
    "orase = {'ro': orase_ro, 'uk': orase_uk}\n",
    "orase"
   ],
   "metadata": {
    "collapsed": false,
    "pycharm": {
     "name": "#%%\n"
    }
   }
  },
  {
   "cell_type": "code",
   "execution_count": null,
   "outputs": [],
   "source": [
    "orase['ro'][1]"
   ],
   "metadata": {
    "collapsed": false,
    "pycharm": {
     "name": "#%%\n"
    }
   }
  },
  {
   "cell_type": "code",
   "execution_count": null,
   "outputs": [],
   "source": [
    "dictionar = {1: 'A', (1, 2): 1, 3.14: {1: 1, 2: 2}, 'C': (1, 3)}\n",
    "dictionar"
   ],
   "metadata": {
    "collapsed": false,
    "pycharm": {
     "name": "#%%\n"
    }
   }
  },
  {
   "cell_type": "markdown",
   "source": [
    "Putem verifica daca o cheie, o valoare sau o pereche de tip cheie-valoare sunt sau nu prezente printre cheile, valorile\n",
    " sau perechile de tip cheie-valoare ale unui dictionar folosind operatorii in, respectiv not in."
   ],
   "metadata": {
    "collapsed": false,
    "pycharm": {
     "name": "#%% md\n"
    }
   }
  },
  {
   "cell_type": "code",
   "execution_count": null,
   "outputs": [],
   "source": [
    "orase = {1: 'Timisoara', 2: 'Londra', 3: 'Budapesta', 4: 'New York'}\n",
    "orase"
   ],
   "metadata": {
    "collapsed": false,
    "pycharm": {
     "name": "#%%\n"
    }
   }
  },
  {
   "cell_type": "code",
   "execution_count": null,
   "outputs": [],
   "source": [
    "1 in orase"
   ],
   "metadata": {
    "collapsed": false,
    "pycharm": {
     "name": "#%%\n"
    }
   }
  },
  {
   "cell_type": "code",
   "execution_count": null,
   "outputs": [],
   "source": [
    "1 in orase.keys()"
   ],
   "metadata": {
    "collapsed": false,
    "pycharm": {
     "name": "#%%\n"
    }
   }
  },
  {
   "cell_type": "code",
   "execution_count": null,
   "outputs": [],
   "source": [
    "'Timisoara' in orase.values()"
   ],
   "metadata": {
    "collapsed": false,
    "pycharm": {
     "name": "#%%\n"
    }
   }
  },
  {
   "cell_type": "code",
   "execution_count": null,
   "outputs": [],
   "source": [
    "(2, 'Londra') in orase.items()"
   ],
   "metadata": {
    "collapsed": false,
    "pycharm": {
     "name": "#%%\n"
    }
   }
  },
  {
   "cell_type": "markdown",
   "source": [
    "## Crearea unui dictionar\n",
    "\n",
    "Crearea unei structuri de date de tip dictionar se realizeaza prin precizarea perechilor de tip cheie-valoare (elemente)\n",
    " intre acolade. Despartirea elementelor de la nivelul dictionarului se face prin virgula. Elementele de la nivelul unui\n",
    " dictionar nu trebuie sa detina acelasi tip de date."
   ],
   "metadata": {
    "collapsed": false,
    "pycharm": {
     "name": "#%% md\n"
    }
   }
  },
  {
   "cell_type": "code",
   "execution_count": null,
   "outputs": [],
   "source": [
    "a1 = {1: 'Timisoara', 3.14: 0, 'a': 'Ioana', (1, 2): 1024}\n",
    "type(a1)"
   ],
   "metadata": {
    "collapsed": false,
    "pycharm": {
     "name": "#%%\n"
    }
   }
  },
  {
   "cell_type": "code",
   "execution_count": null,
   "outputs": [],
   "source": [
    "a2 = dict({1: 'Timisoara', 2: 'Sofia', 3: 'Budapesta'})\n",
    "type(a2)"
   ],
   "metadata": {
    "collapsed": false,
    "pycharm": {
     "name": "#%%\n"
    }
   }
  },
  {
   "cell_type": "markdown",
   "source": [
    "Crearea unui dictionar se poate face si prin intermediul constructorului dict(). In cazul in care nu sunt precizate\n",
    "perechile de tip cheie-valoare, se creeaza un dictionar gol."
   ],
   "metadata": {
    "collapsed": false,
    "pycharm": {
     "name": "#%% md\n"
    }
   }
  },
  {
   "cell_type": "code",
   "execution_count": null,
   "outputs": [],
   "source": [
    "empty1 = dict()\n",
    "empty2 = {}\n",
    "empty2"
   ],
   "metadata": {
    "collapsed": false,
    "pycharm": {
     "name": "#%%\n"
    }
   }
  },
  {
   "cell_type": "markdown",
   "source": [
    "De asemenea, constructorul dict() permite si conversia unor structuri compatibile catre structuri de tip dictionar."
   ],
   "metadata": {
    "collapsed": false,
    "pycharm": {
     "name": "#%% md\n"
    }
   }
  },
  {
   "cell_type": "code",
   "execution_count": null,
   "outputs": [],
   "source": [
    "d1 = dict(([1, 2], [2, 4], [3, 6]))\n",
    "type(d1)\n",
    "d1"
   ],
   "metadata": {
    "collapsed": false,
    "pycharm": {
     "name": "#%%\n"
    }
   }
  },
  {
   "cell_type": "code",
   "execution_count": null,
   "outputs": [],
   "source": [
    "d2 = dict([(1, 2), (2, 4), (4,6)])\n",
    "type(d2)\n",
    "d2"
   ],
   "metadata": {
    "collapsed": false,
    "pycharm": {
     "name": "#%%\n"
    }
   }
  },
  {
   "cell_type": "code",
   "execution_count": null,
   "outputs": [],
   "source": [
    "d3 = dict(a = 2, b = 4, c = 6)\n",
    "type(d3)\n",
    "d3"
   ],
   "metadata": {
    "collapsed": false,
    "pycharm": {
     "name": "#%%\n"
    }
   }
  },
  {
   "cell_type": "markdown",
   "source": [
    "## Accesarea elementelor unui dictionar\n",
    "\n",
    "Accesarea valorilor de la nivelul perechilor de tip cheie-valoare (elementelor) se face prin precizarea cheii, intre\n",
    "paranteze drepte, dupa numele dictionarului."
   ],
   "metadata": {
    "collapsed": false,
    "pycharm": {
     "name": "#%% md\n"
    }
   }
  },
  {
   "cell_type": "code",
   "execution_count": null,
   "outputs": [],
   "source": [
    "orase = {1: 'Timisoara', 2: 'Londra', 3: 'Budapesta', 4: 'New York'}\n",
    "orase[3]"
   ],
   "metadata": {
    "collapsed": false,
    "pycharm": {
     "name": "#%%\n"
    }
   }
  },
  {
   "cell_type": "markdown",
   "source": [
    "Daca se precizeaza pentru cheie o valoare care nu este prezenta la nivelul dictionarului, atunci va fi generata o\n",
    "exceptie de tipul KeyError."
   ],
   "metadata": {
    "collapsed": false,
    "pycharm": {
     "name": "#%% md\n"
    }
   }
  },
  {
   "cell_type": "code",
   "execution_count": null,
   "outputs": [],
   "source": [
    "orase[5]"
   ],
   "metadata": {
    "collapsed": false,
    "pycharm": {
     "name": "#%%\n"
    }
   }
  },
  {
   "cell_type": "markdown",
   "source": [
    "Accesarea valorilor corespunzatoare unor chei se poate realiza si prin intermediul metodei predefinite get(). De\n",
    "exemplu, pentru obtinerea valorii corespunzatoare cheii 4 de la nivelul dictionarului orase trebuie precizata cheia\n",
    "ca si argument al metodei get()."
   ],
   "metadata": {
    "collapsed": false,
    "pycharm": {
     "name": "#%% md\n"
    }
   }
  },
  {
   "cell_type": "code",
   "execution_count": null,
   "outputs": [],
   "source": [
    "orase.get(4)"
   ],
   "metadata": {
    "collapsed": false,
    "pycharm": {
     "name": "#%%\n"
    }
   }
  },
  {
   "cell_type": "markdown",
   "source": [
    "Daca metoda get() primeste ca si argument o valoare care nu este prezenta la nivelul cheilor dictionarului, este\n",
    "returnata valoarea None. Pentru astfel de cazuri a fost introdusa posibilitatea precizarii unui al doilea argument\n",
    "pentru metoda get(), argument cu rol de valoare implicita returnata."
   ],
   "metadata": {
    "collapsed": false,
    "pycharm": {
     "name": "#%% md\n"
    }
   }
  },
  {
   "cell_type": "code",
   "execution_count": null,
   "outputs": [],
   "source": [
    "orase.get(5)\n",
    "print(orase.get(5))"
   ],
   "metadata": {
    "collapsed": false,
    "pycharm": {
     "name": "#%%\n"
    }
   }
  },
  {
   "cell_type": "code",
   "execution_count": null,
   "outputs": [],
   "source": [
    "orase.get(5, 0)"
   ],
   "metadata": {
    "collapsed": false,
    "pycharm": {
     "name": "#%%\n"
    }
   }
  },
  {
   "cell_type": "markdown",
   "source": [
    "## Adaugarea si actualizarea elementelor unui dictionar\n",
    "\n",
    "Adaugarea unei perechi de tip cheie-valoare intr-un dictionar existent se realizeaza prin precizarea cheii dupa numele\n",
    "dictionarului si presupune pozitionarea noului element la finalul acestuia."
   ],
   "metadata": {
    "collapsed": false,
    "pycharm": {
     "name": "#%% md\n"
    }
   }
  },
  {
   "cell_type": "code",
   "execution_count": null,
   "outputs": [],
   "source": [
    "orase = {1: 'Timisoara', 2: 'Londra', 3: 'Budapesta', 4: 'New York'}\n",
    "orase[5] = 'Sofia'\n",
    "orase"
   ],
   "metadata": {
    "collapsed": false,
    "pycharm": {
     "name": "#%%\n"
    }
   }
  },
  {
   "cell_type": "markdown",
   "source": [
    "Daca cheia este prezenta la nivelul dictionarului, atunci se face actualizarea valorii corespunzatoare cheii."
   ],
   "metadata": {
    "collapsed": false,
    "pycharm": {
     "name": "#%% md\n"
    }
   }
  },
  {
   "cell_type": "code",
   "execution_count": null,
   "outputs": [],
   "source": [
    "orase[1] = 'Praga'\n",
    "orase"
   ],
   "metadata": {
    "collapsed": false,
    "pycharm": {
     "name": "#%%\n"
    }
   }
  },
  {
   "cell_type": "markdown",
   "source": [
    "## Stergerea dictionarelor si eliminarea elementelor\n",
    "\n",
    "Pentru stergerea unui dictionar este necesara precizarea cuvantului cheie del inaintea numelui dictionarului ce urmeaza\n",
    "a fi sters."
   ],
   "metadata": {
    "collapsed": false,
    "pycharm": {
     "name": "#%% md\n"
    }
   }
  },
  {
   "cell_type": "code",
   "execution_count": null,
   "outputs": [],
   "source": [
    "orase = {1: 'Timisoara', 2: 'Londra', 3: 'Budapesta', 4: 'New York'}\n",
    "del orase\n",
    "orase"
   ],
   "metadata": {
    "collapsed": false,
    "pycharm": {
     "name": "#%%\n"
    }
   }
  },
  {
   "cell_type": "markdown",
   "source": [
    "In mod similar, poate fi realizata si stergerea unui singur element (pereche de tip cheie-valoare) din dictionar. De\n",
    "aceasta data cuvantul cheie del va fi precizat pentru cheia corespunzatoare elementului care urmeaza a fi sters."
   ],
   "metadata": {
    "collapsed": false,
    "pycharm": {
     "name": "#%% md\n"
    }
   }
  },
  {
   "cell_type": "code",
   "execution_count": null,
   "outputs": [],
   "source": [
    "orase = {1: 'Timisoara', 2: 'Londra', 3: 'Budapesta', 4: 'New York'}\n",
    "del orase[1]\n",
    "orase"
   ],
   "metadata": {
    "collapsed": false,
    "pycharm": {
     "name": "#%%\n"
    }
   }
  },
  {
   "cell_type": "markdown",
   "source": [
    "Stergerea tuturor elementelor unui dictionar poate fi obtinuta prin intermediul metodei predefinite clear()."
   ],
   "metadata": {
    "collapsed": false,
    "pycharm": {
     "name": "#%% md\n"
    }
   }
  },
  {
   "cell_type": "code",
   "execution_count": null,
   "outputs": [],
   "source": [
    "orase = {1: 'Timisoara', 2: 'Londra', 3: 'Budapesta', 4: 'New York'}\n",
    "orase.clear()\n",
    "orase"
   ],
   "metadata": {
    "collapsed": false,
    "pycharm": {
     "name": "#%%\n"
    }
   }
  },
  {
   "cell_type": "markdown",
   "source": [
    "Alte metode care au in vedere stergerea elementelor sunt: pop(), metoda care sterge perechea cheie-valoare pe baza\n",
    "valorii cheii specificata ca si argument, respectiv popitem(), metoda care permite stergerea unui element, returnandu-i\n",
    "valoarea in acelasi timp."
   ],
   "metadata": {
    "collapsed": false,
    "pycharm": {
     "name": "#%% md\n"
    }
   }
  },
  {
   "cell_type": "code",
   "execution_count": null,
   "outputs": [],
   "source": [
    "orase = {1: 'Timisoara', 2: 'Londra', 3: 'Budapesta', 4: 'New York'}\n",
    "orase.pop(3)"
   ],
   "metadata": {
    "collapsed": false,
    "pycharm": {
     "name": "#%%\n"
    }
   }
  },
  {
   "cell_type": "code",
   "execution_count": null,
   "outputs": [],
   "source": [
    "orase.pop(3, None)\n",
    "orase.pop(3)"
   ],
   "metadata": {
    "collapsed": false,
    "pycharm": {
     "name": "#%%\n"
    }
   }
  },
  {
   "cell_type": "code",
   "execution_count": null,
   "outputs": [],
   "source": [
    "orase.popitem()"
   ],
   "metadata": {
    "collapsed": false,
    "pycharm": {
     "name": "#%%\n"
    }
   }
  },
  {
   "cell_type": "markdown",
   "source": [
    "## Parcurgerea elementelor unui dictionar\n",
    "\n",
    "Cheile de la nivelul unei structuri de date de tip dictionar pot fi parcurse prin intermediul unei iteratii for."
   ],
   "metadata": {
    "collapsed": false,
    "pycharm": {
     "name": "#%% md\n"
    }
   }
  },
  {
   "cell_type": "code",
   "execution_count": null,
   "outputs": [],
   "source": [
    "for key in {1: 'Timisoara', 2: 'Londra', 3: 'Budapesta', 4: 'New York'}:\n",
    "    print(key)"
   ],
   "metadata": {
    "collapsed": false,
    "pycharm": {
     "name": "#%%\n"
    }
   }
  },
  {
   "cell_type": "markdown",
   "source": [
    "Daca se doreste parcurgerea prin intermediul aceleiasi iteratii, atat a cheilor, cat si a valorilor, este necesara\n",
    "utilizarea metodei predefinite items()."
   ],
   "metadata": {
    "collapsed": false,
    "pycharm": {
     "name": "#%% md\n"
    }
   }
  },
  {
   "cell_type": "code",
   "execution_count": null,
   "outputs": [],
   "source": [
    "for key, value in {1: 'Timisoara', 2: 'Londra', 3: 'Budapesta', 4: 'New York'}.items():\n",
    "    print(key, value)"
   ],
   "metadata": {
    "collapsed": false,
    "pycharm": {
     "name": "#%%\n"
    }
   }
  },
  {
   "cell_type": "markdown",
   "source": [
    "## Metode predefinite pentru dictionare\n",
    "\n",
    "Limbajul Python ofera metode predefinite ce pot fi referite de obiectele de tip dictionar. Acestea permit si obtinerea\n",
    "unui valori pe baza cheii, accesarea cheilor, valorilor si elementelor dictionarului sau stergerea elementelor\n",
    "dictionarului.\n",
    "\n",
    "Lista metodelor o gasiti in documentul original\n",
    "[Structuri de date de tip dictionar in Python](https://uncoded.ro/structuri-de-date-de-tip-dictionar-in-python/)"
   ],
   "metadata": {
    "collapsed": false,
    "pycharm": {
     "name": "#%% md\n"
    }
   }
  },
  {
   "cell_type": "code",
   "execution_count": null,
   "outputs": [],
   "source": [
    "a1 = {1: 1, 2: 2, 3: 3}\n",
    "a2 = {3: 3, 4: 4}\n",
    "a1.update(a2)\n",
    "a1"
   ],
   "metadata": {
    "collapsed": false,
    "pycharm": {
     "name": "#%%\n"
    }
   }
  },
  {
   "cell_type": "code",
   "execution_count": null,
   "outputs": [],
   "source": [
    "orase = {1: 'Timisoara', 2: 'Londra', 3: 'Budapesta', 4: 'New York'}\n",
    "orase.keys()"
   ],
   "metadata": {
    "collapsed": false,
    "pycharm": {
     "name": "#%%\n"
    }
   }
  },
  {
   "cell_type": "code",
   "execution_count": null,
   "outputs": [],
   "source": [
    "orase.values()"
   ],
   "metadata": {
    "collapsed": false,
    "pycharm": {
     "name": "#%%\n"
    }
   }
  },
  {
   "cell_type": "code",
   "execution_count": null,
   "outputs": [],
   "source": [
    "orase.items()"
   ],
   "metadata": {
    "collapsed": false,
    "pycharm": {
     "name": "#%%\n"
    }
   }
  },
  {
   "cell_type": "markdown",
   "source": [
    "## Functii predefinite pentru dictionare\n",
    "\n",
    "Structurile de date de tip dictionar beneficiaza de o serie de functii predefinite care permit, printre altele,\n",
    "determinarea numarului de perechi de tipul cheie-valoare sau a valorii maxime de la nivelul cheilor.\n",
    "\n",
    "Lista functiilor o gasiti in documentul original\n",
    "[Structuri de date de tip dictionar in Python](https://uncoded.ro/structuri-de-date-de-tip-dictionar-in-python/)"
   ],
   "metadata": {
    "collapsed": false,
    "pycharm": {
     "name": "#%% md\n"
    }
   }
  },
  {
   "cell_type": "code",
   "execution_count": null,
   "outputs": [],
   "source": [
    "numere = {12: 232, 4: 323, 11: 978, 7: 565}\n",
    "len(numere)"
   ],
   "metadata": {
    "collapsed": false,
    "pycharm": {
     "name": "#%%\n"
    }
   }
  },
  {
   "cell_type": "code",
   "execution_count": null,
   "outputs": [],
   "source": [
    "max(numere)"
   ],
   "metadata": {
    "collapsed": false,
    "pycharm": {
     "name": "#%%\n"
    }
   }
  },
  {
   "cell_type": "code",
   "execution_count": null,
   "outputs": [],
   "source": [
    "min(numere)"
   ],
   "metadata": {
    "collapsed": false,
    "pycharm": {
     "name": "#%%\n"
    }
   }
  },
  {
   "cell_type": "code",
   "execution_count": null,
   "outputs": [],
   "source": [
    "sum(numere)"
   ],
   "metadata": {
    "collapsed": false,
    "pycharm": {
     "name": "#%%\n"
    }
   }
  },
  {
   "cell_type": "markdown",
   "source": [
    "Functia sorted returneaza o lista care contine cheile de la nivelul dictionarului ordonate crescator."
   ],
   "metadata": {
    "collapsed": false,
    "pycharm": {
     "name": "#%% md\n"
    }
   }
  },
  {
   "cell_type": "code",
   "execution_count": null,
   "outputs": [],
   "source": [
    "sorted({12: 232, 4: 323, 11: 978, 7: 565})"
   ],
   "metadata": {
    "collapsed": false,
    "pycharm": {
     "name": "#%%\n"
    }
   }
  },
  {
   "cell_type": "markdown",
   "source": [
    "Functiile any() si all() returneaza True daca cel putin o cheie de la nivelul dictionarului are valoarea True, sau daca\n",
    "toate cheile de la nivelul dictionarului se evalueaza la True."
   ],
   "metadata": {
    "collapsed": false,
    "pycharm": {
     "name": "#%% md\n"
    }
   }
  },
  {
   "cell_type": "code",
   "execution_count": null,
   "outputs": [],
   "source": [
    "any({0: 'A', '': 'B', 1: 'C'})"
   ],
   "metadata": {
    "collapsed": false,
    "pycharm": {
     "name": "#%%\n"
    }
   }
  },
  {
   "cell_type": "code",
   "execution_count": null,
   "outputs": [],
   "source": [
    "all({0: 'A', '': 'B', 1: 'C'})"
   ],
   "metadata": {
    "collapsed": false,
    "pycharm": {
     "name": "#%%\n"
    }
   }
  },
  {
   "cell_type": "markdown",
   "source": [
    "## Python Dictionary Comprehension\n",
    "\n",
    "Termenul dictionary comprehension se refera la crearea unui dictionar nou dintr-o structura existenta pe baza unei\n",
    "expresii urmate de una sau mai multe instructiuni for si/sau if.\n",
    "\n",
    "Daca se doreste crearea unui dictionar care contine patratul valorile de la nivelul unui alt dictionar, putem avea in\n",
    "vedere urmatorul script."
   ],
   "metadata": {
    "collapsed": false,
    "pycharm": {
     "name": "#%% md\n"
    }
   }
  },
  {
   "cell_type": "code",
   "execution_count": null,
   "outputs": [],
   "source": [
    "numere = {'a': 1, 'b': 3, 'c': 5, 'd': 7}\n",
    "numere2 = {}\n",
    "for k, v in numere.items():\n",
    "    numere2[k] = v*v\n",
    "\n",
    "numere2"
   ],
   "metadata": {
    "collapsed": false,
    "pycharm": {
     "name": "#%%\n"
    }
   }
  },
  {
   "cell_type": "markdown",
   "source": [
    "Secventa de cod precedenta poate fi rescrisa folosind dictionary comprehension, astfel:"
   ],
   "metadata": {
    "collapsed": false,
    "pycharm": {
     "name": "#%% md\n"
    }
   }
  },
  {
   "cell_type": "code",
   "execution_count": null,
   "outputs": [],
   "source": [
    "numere2 = {k:v*v for k, v in numere.items()}\n",
    "numere2\n"
   ],
   "metadata": {
    "collapsed": false,
    "pycharm": {
     "name": "#%%\n"
    }
   }
  }
 ],
 "metadata": {
  "kernelspec": {
   "display_name": "Python 3",
   "language": "python",
   "name": "python3"
  },
  "language_info": {
   "codemirror_mode": {
    "name": "ipython",
    "version": 2
   },
   "file_extension": ".py",
   "mimetype": "text/x-python",
   "name": "python",
   "nbconvert_exporter": "python",
   "pygments_lexer": "ipython2",
   "version": "2.7.6"
  }
 },
 "nbformat": 4,
 "nbformat_minor": 0
}