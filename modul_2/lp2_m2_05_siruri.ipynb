{
 "cells": [
  {
   "cell_type": "markdown",
   "metadata": {
    "collapsed": true,
    "pycharm": {
     "name": "#%% md\n"
    }
   },
   "source": [
    "<a href=\"https://colab.research.google.com/github/DataLabUPT/pyCourse/blob/main/modul_2/lp2_m2_05_siruri.ipynb\"\n",
    " target=\"_parent\"><img src=\"https://colab.research.google.com/assets/colab-badge.svg\" alt=\"Open In Colab\"\n",
    " style=\"float: right;\"/></a>"
   ]
  },
  {
   "cell_type": "markdown",
   "metadata": {},
   "source": [
    "# Limbaje de programare 3\n",
    "**Modul 2 - Siruri de caractere in Python**\n",
    "\n",
    "*autor notebook:* [Bogdan Dragulescu](https://datalab.upt.ro/bogdan-dragulescu/)"
   ]
  },
  {
   "cell_type": "markdown",
   "metadata": {},
   "source": [
    "## Obiective\n",
    "\n",
    "* Sirurile de caractere in Python\n",
    "* Crearea unui sir de caractere\n",
    "* Indexarea si felierea sirurilor\n",
    "* Modificarea sirurilor de caractere\n",
    "* Formatarea sirurilor\n",
    "* Metode predefinite pentru siruri de caractere\n",
    "* Functii predefinite pentru siruri de caractere\n",
    "* Expresii regulate in Python"
   ]
  },
  {
   "cell_type": "markdown",
   "metadata": {},
   "source": [
    "## Sirurile de caractere in Python\n",
    "\n",
    "In limbajul Python, sirurile de caractere sunt structuri de date de tip secventa care contin caractere.\n",
    "Acestea sunt structuri imutabile, prin urmare, elementele unui sir de caractere nu pot fi modificate. \n",
    "Declararea sirurilor se realizeaza prin intermediul ghilimelelor sau apostroafelor, cum poate fi \n",
    "observat si in exemplul urmator.\n"
   ]
  },
  {
   "cell_type": "code",
   "execution_count": null,
   "metadata": {},
   "outputs": [],
   "source": [
    "sir = 'Python'\n",
    "type(sir)"
   ]
  },
  {
   "cell_type": "code",
   "execution_count": null,
   "metadata": {},
   "outputs": [],
   "source": [
    "sir[0] = 'p'"
   ]
  },
  {
   "cell_type": "markdown",
   "metadata": {},
   "source": [
    "Sirurile de caractere fac parte din categoria datelor de tip secventa, alaturi de liste si tupluri, \n",
    "preluand caracteristicile acestora: indexarea elementelor, concatenarea, multiplicarea cu valori numerice \n",
    "si felierea.\n",
    "\n",
    "Elementele unui sir de caractere sunt indexate numeric, primul element avand indexul 0. Comparativ cu \n",
    "tuplurile, acestea pot contine doar caractere si nu exista posibilitatea imbricarii.\n",
    "\n",
    "Operatia de concatenare a doua siruri de caractere presupune plasarea elementelor acestora la nivelul \n",
    "unui sir de caractere rezultat. In mod similar tuplurilor si listelor, prin intermediul operatiei de \n",
    "multiplicare a unui sir de caractere cu valori numerice se obtine un nou sir, care cuprinde continutul \n",
    "sirului initial repetat de un numar de ori egal cu valoare numerica cu care a fost multiplicat sirul \n",
    "initial.\n"
   ]
  },
  {
   "cell_type": "code",
   "execution_count": null,
   "metadata": {},
   "outputs": [],
   "source": [
    "\"Python\" + \" \" + \"rules\""
   ]
  },
  {
   "cell_type": "code",
   "execution_count": null,
   "metadata": {},
   "outputs": [],
   "source": [
    "\"Da \" * 5"
   ]
  },
  {
   "cell_type": "markdown",
   "metadata": {},
   "source": [
    "De asemenea, exista posibilitatea verificarii existentei unui subsir intr-un sir de caractere prin \n",
    "intermediul operatorului de verificare a apartenentei."
   ]
  },
  {
   "cell_type": "code",
   "execution_count": null,
   "metadata": {},
   "outputs": [],
   "source": [
    "nume = \"Monty Python\"\n",
    "\"Python\" in nume"
   ]
  },
  {
   "cell_type": "code",
   "execution_count": null,
   "metadata": {},
   "outputs": [],
   "source": [
    "\"ty\" in nume"
   ]
  },
  {
   "cell_type": "code",
   "execution_count": null,
   "metadata": {},
   "outputs": [],
   "source": [
    "\"T\" in nume"
   ]
  },
  {
   "cell_type": "markdown",
   "metadata": {},
   "source": [
    "## Crearea unui sir de caractere\n",
    "\n",
    "Crearea unei structuri de date de tip sir de caractere se realizeaza prin precizarea caracterelor intre ghilimele sau apostroafe. \n",
    "În cazul în care este necesară introducerea in sir a caracterelor \" sau ' se utilizeaza caracterul escape \\ ."
   ]
  },
  {
   "cell_type": "code",
   "execution_count": null,
   "metadata": {},
   "outputs": [],
   "source": [
    "descriere = \"\\\"Monty Python\\\" este un grup britanic de comedie\"\n",
    "type(descriere)"
   ]
  },
  {
   "cell_type": "markdown",
   "metadata": {},
   "source": [
    "Crearea unui sir de caractere se poate face si prin intermediul constructorului str(). In cazul in care nu sunt precizate valori, se creeaza un sir gol."
   ]
  },
  {
   "cell_type": "code",
   "execution_count": null,
   "metadata": {},
   "outputs": [],
   "source": [
    "sir_gol = str()\n",
    "sir_gol"
   ]
  },
  {
   "cell_type": "code",
   "execution_count": null,
   "metadata": {},
   "outputs": [],
   "source": [
    "sir_gol2 = \"\"\n",
    "sir_gol2"
   ]
  },
  {
   "cell_type": "markdown",
   "metadata": {},
   "source": [
    "Siruri de caractere  pot cuprinde mai multe linii. O modalitate este folosind ghilimelele triple: \"\"\"...\"\"\" sau '''...'''. \n",
    "Sfârșitul liniilor este inclus automat în șir, dar este posibil să se prevină acest lucru adăugând \\ la sfârșitul liniei."
   ]
  },
  {
   "cell_type": "code",
   "execution_count": null,
   "metadata": {},
   "outputs": [],
   "source": [
    "monty = \"\"\" \n",
    "\"Monty Python\" este un grup britanic de comedie \n",
    "Format din: Chapman, Idle, Gilliam, Jones, Cleese, Palin \n",
    "\"\"\"\n",
    "monty"
   ]
  },
  {
   "cell_type": "code",
   "execution_count": null,
   "metadata": {},
   "outputs": [],
   "source": [
    "monty2 = \"\"\" \\\n",
    "\"Monty Python\" este un grup britanic de comedie \\\n",
    "format din: Chapman, Idle, Gilliam, Jones, Cleese, Palin \\\n",
    "\"\"\"\n",
    "monty2"
   ]
  },
  {
   "cell_type": "markdown",
   "metadata": {},
   "source": [
    "## Indexarea si felierea sirurilor\n",
    "\n",
    "Elementele unui sir de caractere sunt indexate numeric, primul element al unui sir avand valoarea 0. Accesarea unui anumit \n",
    "caracter al sirului se face prin precizarea indexului elementului, intre paranteze drepte, dupa numele sirului de caractere. \n",
    "Accesarea caracterelor se poate realiza si prin intermediul unor indecsi cu valori negative, caz in care evaluare se face \n",
    "incepand cu ultimul element din sir."
   ]
  },
  {
   "cell_type": "code",
   "execution_count": null,
   "metadata": {},
   "outputs": [],
   "source": [
    "nume = \"Monty Python\"\n",
    "nume[0]"
   ]
  },
  {
   "cell_type": "code",
   "execution_count": null,
   "metadata": {},
   "outputs": [],
   "source": [
    "nume[-6]"
   ]
  },
  {
   "cell_type": "markdown",
   "metadata": {},
   "source": [
    "Operatia de feliere are in vedere accesarea unui subsir de la nivelul unui sir de caractere prin intermediul operatorului \n",
    "doua puncte : ([start:stop:pas]). De exemplu, in acest fel putem genera un nou sir de caractere care contine primele 5 \n",
    "elemente de la nivelul sirului nume."
   ]
  },
  {
   "cell_type": "code",
   "execution_count": null,
   "metadata": {},
   "outputs": [],
   "source": [
    "nume = \"Monty Python\"\n",
    "nume[:5]"
   ]
  },
  {
   "cell_type": "markdown",
   "metadata": {},
   "source": [
    "Indecsii precizati la nivelul operatiei de feliere pot avea inclusiv valori negative, acestia pastrandu-si semnificatia \n",
    "de la accesarea elementelor unei secvente prin intermediul unor indecsi negativi. Si in acest caz, evaluarea elementelor \n",
    "se va realiza incepand cu ultimul element din sirul de caractere. Urmatorul exemplu returneaza un nou sir de caractere \n",
    "care contine ultimele sase caractere din nume."
   ]
  },
  {
   "cell_type": "code",
   "execution_count": null,
   "metadata": {},
   "outputs": [],
   "source": [
    "nume = \"Monty Python\"\n",
    "nume[-6:]"
   ]
  },
  {
   "cell_type": "markdown",
   "metadata": {},
   "source": [
    "Al treilea argument numeric este optional si are semnificatia de pas in evaluarea elementelor. Daca acesta este negativ \n",
    "permite crearea unui sir de caractere in ordine inversa."
   ]
  },
  {
   "cell_type": "code",
   "execution_count": null,
   "metadata": {},
   "outputs": [],
   "source": [
    "nume = \"Monty Python\"\n",
    "nume[::-1]"
   ]
  },
  {
   "cell_type": "markdown",
   "metadata": {},
   "source": [
    "## Modificarea sirurilor de caractere\n",
    "\n",
    "Dupa cum am observat in pasii precedenti, sirurile de caractere sunt imutabile. Prin urmare, in Python nu este posibila \n",
    "modificarea continutului unui element dintr-un sir de caractere in locatia curenta de memorie (in-place). Modificarea unui \n",
    "obiect de tip sir de caractere implica crearea unui obiect nou. Pentru aceasta ne putem folosi de concatenare si feliere."
   ]
  },
  {
   "cell_type": "code",
   "execution_count": null,
   "metadata": {},
   "outputs": [],
   "source": [
    "nume = \"Monty python\"\n",
    "nume2 = nume[:6] + \"P\" + nume[-5:]\n",
    "nume2"
   ]
  },
  {
   "cell_type": "markdown",
   "metadata": {},
   "source": [
    "Stergerea unei sir de caractere poate fi realizata prin plasarea cuvantului cheie del inaintea numelui sirului ce urmeaza a fi sters."
   ]
  },
  {
   "cell_type": "code",
   "execution_count": null,
   "metadata": {},
   "outputs": [],
   "source": [
    "nume = \"Monty python\"\n",
    "del nume\n",
    "nume"
   ]
  },
  {
   "cell_type": "markdown",
   "metadata": {},
   "source": [
    "## Formatarea sirurilor\n",
    "\n",
    "In anumite situatii (afisarea sau scrierea intr-un fisier) avem nevoie sa producem un sir mai complex pe baza altor obiecte. \n",
    "Python permite acest mecanism prin utilizarea unui [mini-limbaj de formatare] (https://docs.python.org/3/library/string.html#format-specification-mini-language). \n",
    "Utilizand acest limbaj se declara expresii folosind caractere speciale ce indica tipul de date cu care acestea \n",
    "vor fi inlocuite in producerea sirului final. \n",
    "\n",
    "Caracterele uzuale sunt:\n",
    "s - reprezentarea obiect ca str() - implicit\n",
    "r - reprezentarea unui obiect ca sir de caractere, dar utilizand repr()\n",
    "c - converteste un intreg la caracterul unicode coresponzator\n",
    "d - numarul in baza 10\n",
    "o - numarul in baza 8\n",
    "x - numarul in baza 16\n",
    "e - formateaza numarul in notatia stiintifica\n",
    "f - formateaza numarul float cu precizia specificata (implicit 6 cifre dupa virgula pentru float)\n",
    "\n",
    "O prima modalitate prin care se pot preciza expresiile de formatare este utilizarea metodei format(). Pentru aceasta metoda \n",
    "se utilizeaza un sir sablon ce contine campurile de inlocuire marcate cu acolade. Campurile de inlocuire pot fi indexate \n",
    "prin pozitie sau cheie.\n"
   ]
  },
  {
   "cell_type": "code",
   "execution_count": null,
   "metadata": {},
   "outputs": [],
   "source": [
    "nume = \"Monty Python\"\n",
    "# daca nu se precizeaza pozitia se utilizeaza argumentele in ordine\n",
    "\"Numele grupului este {}\".format(nume)"
   ]
  },
  {
   "cell_type": "code",
   "execution_count": null,
   "metadata": {},
   "outputs": [],
   "source": [
    "\"Numele grupului este {0!s}\".format(nume)"
   ]
  },
  {
   "cell_type": "code",
   "execution_count": null,
   "metadata": {},
   "outputs": [],
   "source": [
    "\"Numele grupului este {0!r}\".format(nume)"
   ]
  },
  {
   "cell_type": "code",
   "execution_count": null,
   "metadata": {},
   "outputs": [],
   "source": [
    "# in formatarea unui float se precizeaza precizia inaintea caracterului f\n",
    "sold = 2308.45\n",
    "cont = \"Salar\"\n",
    "\"Contul {1!r} are soldul {0:.3f}\".format(sold, cont)"
   ]
  },
  {
   "cell_type": "code",
   "execution_count": null,
   "metadata": {},
   "outputs": [],
   "source": [
    "# se pot preciza perechi cheie valoare\n",
    "sablon = \"Contul {cont!r} are soldul {sold:.3f}\"\n",
    "sablon.format(sold=sold, cont=cont)"
   ]
  },
  {
   "cell_type": "markdown",
   "metadata": {},
   "source": [
    "O metoda mai noua este utilizarea unui f-string (un sir de formatare). Aceasta este realizata prin prefixarea cu f a sirului\n",
    "de caractere si precizarea expresiilor de formatare intre acolade."
   ]
  },
  {
   "cell_type": "code",
   "execution_count": null,
   "metadata": {},
   "outputs": [],
   "source": [
    "sold = 2308.45\n",
    "cont = \"Salar\"\n",
    "f\"Contul {cont!r} are soldul {sold:.3f}\""
   ]
  },
  {
   "cell_type": "markdown",
   "metadata": {},
   "source": [
    "## Metode predefinite pentru siruri de caractere\n",
    "\n",
    "Limbajul Python ofera metode predefinite ce pot fi referite de obiectele de tip str. Sirurile de caractere au o multitudine \n",
    "de metode asociate, iar o lista completa a acestora se poate obtine utilizand functia dir() sau consultand [documentatia oficiala] (https://docs.python.org/3/library/stdtypes.html#string-methods)."
   ]
  },
  {
   "cell_type": "code",
   "execution_count": null,
   "metadata": {},
   "outputs": [],
   "source": [
    "nume = \"Monty Python\"\n",
    "dir(nume)"
   ]
  },
  {
   "cell_type": "markdown",
   "metadata": {},
   "source": [
    "In functie de rezultatul obtinut metodele pot efectua operatii de:\n",
    "* formatare - returneaza sirul modificat - upper(), lower(), capitalize(), title() \n",
    "* verificare - returneaza un boolean - isupper(), isalpha(), isdigit(), startswith(), endswith()\n",
    "* cautare - returneaza index - find(), index(), rfind(), rindex()\n",
    "* procesare - returneza sirul procesat - replace(), strip(), split(), join(), splitlines()"
   ]
  },
  {
   "cell_type": "code",
   "execution_count": null,
   "metadata": {},
   "outputs": [],
   "source": [
    "# capitalizare\n",
    "nume =  \"Monty Python\"\n",
    "nume.capitalize()"
   ]
  },
  {
   "cell_type": "code",
   "execution_count": null,
   "metadata": {},
   "outputs": [],
   "source": [
    "# majuscule\n",
    "nume.upper()"
   ]
  },
  {
   "cell_type": "code",
   "execution_count": null,
   "metadata": {},
   "outputs": [],
   "source": [
    "# litere mici\n",
    "nume.lower()"
   ]
  },
  {
   "cell_type": "code",
   "execution_count": null,
   "metadata": {},
   "outputs": [],
   "source": [
    "# verifica daca sirul incepe cu subsirul specificat\n",
    "nume.startswith(\"Mo\")"
   ]
  },
  {
   "cell_type": "code",
   "execution_count": null,
   "metadata": {},
   "outputs": [],
   "source": [
    "nume.startswith(\"MO\")"
   ]
  },
  {
   "cell_type": "code",
   "execution_count": null,
   "metadata": {},
   "outputs": [],
   "source": [
    "# verifica daca toate caracterele sunt alfanumerice \n",
    "nume.isalpha()"
   ]
  },
  {
   "cell_type": "code",
   "execution_count": null,
   "metadata": {},
   "outputs": [],
   "source": [
    "\"Monty\".isalpha()"
   ]
  },
  {
   "cell_type": "markdown",
   "metadata": {},
   "source": [
    "De multe ori, dorim sa cautam intr-un sir si sa gasim un subsir. De exemplu, avand variabila componenta_monty de mai jos si \n",
    "am dori sa obtinem doar membri grupului, putem sa implementam acest proces prin feliere daca cunoastem indexul caracterului :. \n",
    "Pentru a obtine indexul subsirului cautat se utilizeaza find() pentru a returna prima aparitie, respectiv rfind() pentru \n",
    "ultima. "
   ]
  },
  {
   "cell_type": "code",
   "execution_count": null,
   "metadata": {},
   "outputs": [],
   "source": [
    "componenta_monty = \"Grupul este format din: Chapman, Idle, Gilliam, Jones, Cleese, Palin\"\n",
    "pozitie = componenta_monty.find(\":\")\n",
    "componenta_monty[pozitie+1:]"
   ]
  },
  {
   "cell_type": "markdown",
   "metadata": {},
   "source": [
    "In exemplul precedent observam ca rezultatul returnat are un spatiu pe prima pozitie. Putem elimina caracterele nedorite \n",
    "de la: inceputul si finalul unui sir utilizand metoda strip(), doar inceputul sirului metoda lstrip(), doar finalul sirului \n",
    "metoda rstrip().\n"
   ]
  },
  {
   "cell_type": "code",
   "execution_count": null,
   "metadata": {},
   "outputs": [],
   "source": [
    "componenta_monty = \" Chapman, Idle, Gilliam, Jones, Cleese, Palin\"\n",
    "componenta_monty.strip()"
   ]
  },
  {
   "cell_type": "markdown",
   "metadata": {},
   "source": [
    "Putem converti enumerarea continuta de sirul precedent la o lista utilizand metoda split(). Aceasta primeste ca si parametru \n",
    "subsirul considerat separator. Daca nu este specificata o valoare pentru parametru se considera spatiul ca separator \n",
    "(se imparte sirul in cuvinte)."
   ]
  },
  {
   "cell_type": "code",
   "execution_count": null,
   "metadata": {},
   "outputs": [],
   "source": [
    "componenta_monty = \"Chapman, Idle, Gilliam, Jones, Cleese, Palin\"\n",
    "componenta_monty.split()"
   ]
  },
  {
   "cell_type": "code",
   "execution_count": null,
   "metadata": {},
   "outputs": [],
   "source": [
    "componenta_monty.split(\", \")"
   ]
  },
  {
   "cell_type": "markdown",
   "metadata": {},
   "source": [
    "Putem realiza si procesul invers - putem produce un sir prin concatenarea elementelor unui iterabil. Pentru aceasta se aplica \n",
    "metoda join() pe sirul considerat separator si primeste ca parametru iterabilul ce contine elementele."
   ]
  },
  {
   "cell_type": "code",
   "execution_count": null,
   "metadata": {},
   "outputs": [],
   "source": [
    "componenta_monty = ['Chapman', 'Idle', 'Gilliam', 'Jones', 'Cleese', 'Palin']\n",
    "'-'.join(componenta_monty)"
   ]
  },
  {
   "cell_type": "markdown",
   "metadata": {},
   "source": [
    "### Functii predefinite pentru siruri de caractere\n",
    "\n",
    "Sirurile de caractere beneficiaza de o serie de functii predefinite care permit, printre altele, determinarea numarului de \n",
    "caractere de la nivelul sirului, a valorii maxime sau minime:\n",
    "* len(): numarul de elemente de la nivelul tuplului;\n",
    "* max(): valoarea maxima de la nivelul tuplului;\n",
    "* min(): valoarea minima de la nivelul tuplului;\n",
    "* sorted(): returneaza o noua lista care contine elementele tuplului ordonate crescator;\n",
    "* any(): True daca cel putin un element din tuplu are valoarea True;\n",
    "* all(): True daca toate elementele tuplului se evalueaza la True."
   ]
  },
  {
   "cell_type": "code",
   "execution_count": null,
   "metadata": {},
   "outputs": [],
   "source": [
    "componenta_monty = \"Grupul este format din: Chapman, Idle, Gilliam, Jones, Cleese, Palin\"\n",
    "len(componenta_monty)"
   ]
  },
  {
   "cell_type": "code",
   "execution_count": null,
   "metadata": {},
   "outputs": [],
   "source": [
    "max(componenta_monty)"
   ]
  },
  {
   "cell_type": "code",
   "execution_count": null,
   "metadata": {},
   "outputs": [],
   "source": [
    "sorted(componenta_monty)"
   ]
  },
  {
   "cell_type": "markdown",
   "metadata": {},
   "source": [
    "Functiile any() si all() returneaza False doar in cazul in care sirul este gol, prin urmare nu au aceeasi intrebuintare \n",
    "ca in cazul listelor si tuplurilor."
   ]
  },
  {
   "cell_type": "markdown",
   "metadata": {},
   "source": [
    "## Expresii regulate in Python\n",
    "\n",
    "Sarcina de cautare si extragere este atât de comună incat Python are un modul foarte puternic numit expresii regulate, \n",
    "care gestionează multe dintre aceste sarcini destul de elegant. \n",
    "Expresiile regulate sunt un \"mini-limbaj de programare\" pentru căutarea si analizarea sirurilor. In acesta sectiune vom \n",
    "acoperi doar aspectele de baza ale expresiilor regulate. Pentru mai multe detalii despre expresiile regulate consultati [documentatia] https://docs.python.org/3/library/re.html."
   ]
  },
  {
   "cell_type": "markdown",
   "metadata": {},
   "source": [
    "Expresiile regulate sunt compuse din caractere literale (care sunt interpretate literal) și metacaractere (care au un înțeles special). \n",
    "Cele mai uzuale caractere speciale sunt:\n",
    "\n",
    "^  <br>\n",
    "&nbsp;&nbsp;&nbsp;&nbsp;&nbsp;&nbsp;Potriveste expresia cautata la inceputul sirului\n",
    "    \n",
    "$ <br>\n",
    "&nbsp;&nbsp;&nbsp;&nbsp;&nbsp;&nbsp;Potriveste expresia cautata la finalul sirului\n",
    "    \n",
    ". <br>\n",
    "&nbsp;&nbsp;&nbsp;&nbsp;&nbsp;&nbsp;Identifica orice caracter in afara de linie noua\n",
    "    \n",
    "\\s <br>\n",
    "&nbsp;&nbsp;&nbsp;&nbsp;&nbsp;&nbsp;Identifica un caracter de tip spatiu\n",
    "    \n",
    "\\S <br>\n",
    "&nbsp;&nbsp;&nbsp;&nbsp;&nbsp;&nbsp;Identifica orice caracter in afara caracterului de tip spatiu\n",
    "    \n",
    "\\\\ <br>\n",
    "&nbsp;&nbsp;&nbsp;&nbsp;&nbsp;&nbsp;Caracter escape pentru a putea identifica caracterele speciale\n",
    "    \n",
    "\\* <br>\n",
    "&nbsp;&nbsp;&nbsp;&nbsp;&nbsp;&nbsp;Se aplica caracterului precedent pentru a preciza ca poate aparea de zero sau mai multe ori\n",
    "    \n",
    "\\+ <br>\n",
    "&nbsp;&nbsp;&nbsp;&nbsp;&nbsp;&nbsp;Se aplica caracterului precedent pentru a preciza ca poate aparea o data sau de mai multe ori\n",
    "    \n",
    "? <br>\n",
    "&nbsp;&nbsp;&nbsp;&nbsp;&nbsp;&nbsp;Se aplica caracterului precedent pentru a preciza ca poate aparea de zero ori sau o singura data\n",
    "    \n",
    "{m} <br>\n",
    "&nbsp;&nbsp;&nbsp;&nbsp;&nbsp;&nbsp;Se aplica caracterului precedent pentru a preciza ca trebuie sa apara de m ori\n",
    "    \n",
    "{m, n} <br>\n",
    "&nbsp;&nbsp;&nbsp;&nbsp;&nbsp;&nbsp;Se aplica caracterului precedent pentru a preciza ca poate aparea intre m si n ori\n",
    "    \n",
    "*?, +?, ?? <br>\n",
    "&nbsp;&nbsp;&nbsp;&nbsp;&nbsp;&nbsp;Activarea modului non-gready pentru caracterul precedent\n",
    "    \n",
    "[aeiou] <br>\n",
    "&nbsp;&nbsp;&nbsp;&nbsp;&nbsp;&nbsp;Identifica un singur caracter, daca face parte din setul specificat intre [ ]\n",
    "    \n",
    "[a-z0-9] <br>\n",
    "&nbsp;&nbsp;&nbsp;&nbsp;&nbsp;&nbsp;Se pot specifica intervale de caractere prin utilizarea semnului minus. In acest exemplu se permit litere mici si cifre\n",
    "    \n",
    "[^A-Za-z] <br>\n",
    "&nbsp;&nbsp;&nbsp;&nbsp;&nbsp;&nbsp;Daca primul caracter este ^, se inverseaza logica. In acest exemplu nu se permit litere mari sau mici\n",
    "    \n",
    "(...) <br>\n",
    "&nbsp;&nbsp;&nbsp;&nbsp;&nbsp;&nbsp;Sunt ignorate in expresia de identificare, dar permit extragerea unui subset din elementele identificate cand se utilizeaza findall()\n",
    "    \n",
    "\\d <br>\n",
    "&nbsp;&nbsp;&nbsp;&nbsp;&nbsp;&nbsp;Sunt identificate cifrele. Echivalent cu [0-9]\n",
    "    \n",
    "\\D <br>\n",
    "&nbsp;&nbsp;&nbsp;&nbsp;&nbsp;&nbsp;Sunt identificate orice caractere in afara de cifre. Echivalent cu [^0-9]\n",
    "    \n",
    "\\w <br>\n",
    "&nbsp;&nbsp;&nbsp;&nbsp;&nbsp;&nbsp;Sunt identificate orice caractere alfanumerice. Echivalent cu [a-zA-Z0-9_]\n",
    "    \n",
    "\\W <br>\n",
    "&nbsp;&nbsp;&nbsp;&nbsp;&nbsp;&nbsp;Sunt identificate orice caractere care nu sunt alfanumerice. Echivalent cu [^a-zA-Z0-9_]\n"
   ]
  },
  {
   "cell_type": "markdown",
   "metadata": {},
   "source": [
    "Pentru a putea utiliza expresii regulate in Python trebuie incarcat modulul re. Acesta are disponibile multiple functii ce permit \n",
    "aplicarea expresiilor regulate pe siruri pentru identificarea sabloanelor. Dintre acestea amintesc:\n",
    "* match() - aplica expresia regulata la incepul sirului. Daca aceasta este indeplinita returneaza un obiect de tip Match, \n",
    "respectiv None in caz contrar.\n",
    "* search() - similar match(), dar aplica expresia oriunde in interiorul sirului.\n",
    "* split() - imparte sirul dupa sablonul specificat. Returneaza o lista.\n",
    "* findall() - returneaza toate subsirurile identificate sub forma unei liste"
   ]
  },
  {
   "cell_type": "code",
   "execution_count": null,
   "metadata": {},
   "outputs": [],
   "source": [
    "import re\n",
    "componenta_monty = \"Grupul este format din: Chapman, Idle, Gilliam, Jones, Cleese, Palin\"\n",
    "# returneaza None pentru ca sirul nu incepe cu litera C\n",
    "re.match(\"C\", componenta_monty)"
   ]
  },
  {
   "cell_type": "code",
   "execution_count": null,
   "metadata": {},
   "outputs": [],
   "source": [
    "# returneaza un obiect de tip Match\n",
    "re.search(\"C\", componenta_monty)"
   ]
  },
  {
   "cell_type": "markdown",
   "metadata": {},
   "source": [
    "Obiectele de tip match au disponibile metode pentru a permite returnarea: pozitiei de start a sablonului - start(), \n",
    "pozitiei de final a sablonului - end(), subsirul identificat - group()."
   ]
  },
  {
   "cell_type": "code",
   "execution_count": null,
   "metadata": {},
   "outputs": [],
   "source": [
    "# extrage soldul\n",
    "sold = re.search(\"[0-9]+\", \"Soldul contului curent este 1314 RON\")\n",
    "sold.group()"
   ]
  },
  {
   "cell_type": "code",
   "execution_count": null,
   "metadata": {},
   "outputs": [],
   "source": [
    "# extrage toate cuvintele care care incep cu litera mare\n",
    "componenta_monty = \"Grupul este format din: Chapman, Idle, Gilliam, Jones, Cleese, Palin\"\n",
    "re.findall(\"[A-Z]{1}\\w+\", componenta_monty)"
   ]
  },
  {
   "cell_type": "code",
   "execution_count": null,
   "metadata": {},
   "outputs": [],
   "source": [
    "# extrage perechi de coordonate\n",
    "coordonate = \"Avem coordonate lat=45.7461904 si long=21.2275342\"\n",
    "re.findall(\"(\\w+)=([\\d.]+)\", coordonate)"
   ]
  },
  {
   "cell_type": "code",
   "execution_count": null,
   "metadata": {},
   "outputs": [],
   "source": []
  }
 ],
 "metadata": {
  "kernelspec": {
   "display_name": "Python 3",
   "language": "python",
   "name": "python3"
  },
  "language_info": {
   "codemirror_mode": {
    "name": "ipython",
    "version": 3
   },
   "file_extension": ".py",
   "mimetype": "text/x-python",
   "name": "python",
   "nbconvert_exporter": "python",
   "pygments_lexer": "ipython3",
   "version": "3.7.0"
  }
 },
 "nbformat": 4,
 "nbformat_minor": 1
}
