{
 "cells": [
  {
   "cell_type": "markdown",
   "metadata": {
    "collapsed": true,
    "pycharm": {
     "name": "#%% md\n"
    }
   },
   "source": [
    "<a href=\"https://colab.research.google.com/github/uncoded-ro/lp2/blob/main/modul_2/lp2_m2_04_multimi.ipynb\"\n",
    " target=\"_parent\"><img src=\"https://colab.research.google.com/assets/colab-badge.svg\" alt=\"Open In Colab\"\n",
    " style=\"float: right;\"/></a>"
   ]
  },
  {
   "cell_type": "markdown",
   "source": [
    "# Limbaje de programare 2\n",
    "**Modul 2 - Structuri de date de tip multime in Python**\n",
    "\n",
    "*autor notebook:* [Bogdan Dragulescu](https://datalab.upt.ro/bogdan-dragulescu/)<br/>\n",
    "*continut original:* [Marian Bucos](https://datalab.upt.ro/marian-bucos/),\n",
    "*sub format text* [Structuri de date de tip multime in Python](https://medium.com/virtual-campus/structuri-de-date-de-tip-multime-in-python-314bb2125564)"
   ],
   "metadata": {
    "collapsed": false
   }
  },
  {
   "cell_type": "markdown",
   "source": [
    "## Obiective\n",
    "\n",
    "* Multimi in Python\n",
    "* Crearea unei multimi\n",
    "* Accesarea elementelor unei multimi\n",
    "* Adaugarea si actualizarea elementelor unei multimi\n",
    "* Stergerea multimilor si eliminarea elementelor\n",
    "* Parcurgerea elementelor unei multimi\n",
    "* Metode predefinite pentru multimi\n",
    "* Functii predefinite pentru multimi\n",
    "* Python Set Comprehension"
   ],
   "metadata": {
    "collapsed": false
   }
  },
  {
   "cell_type": "markdown",
   "source": [
    "## Multimi in Python\n",
    "\n",
    "In limbajul Python, multimile reprezinta colectii neordonate de elemente care nu permit duplicate. Declararea\n",
    "multimilor se realizeaza prin intermediul acoladelor. La nivelul unei structuri de tip multime putem interveni cu\n",
    "operatii de stergere si adaugare, motiv pentru care spunem ca multimile sunt structuri de date de tip mutabil."
   ],
   "metadata": {
    "collapsed": false,
    "pycharm": {
     "name": "#%% md\n"
    }
   }
  },
  {
   "cell_type": "code",
   "execution_count": null,
   "outputs": [],
   "source": [
    "orase = {'Timisoara', 'Londra', 'Budapesta', 'New York'}\n",
    "orase.add('Sofia')\n",
    "orase"
   ],
   "metadata": {
    "collapsed": false,
    "pycharm": {
     "name": "#%%\n"
    }
   }
  },
  {
   "cell_type": "code",
   "execution_count": null,
   "outputs": [],
   "source": [
    "orase.remove('Timisoara')\n",
    "orase"
   ],
   "metadata": {
    "collapsed": false,
    "pycharm": {
     "name": "#%%\n"
    }
   }
  },
  {
   "cell_type": "markdown",
   "source": [
    "Multimile sunt structuri de date de tip mutabil, dar nu pot contine elemente care au caracter mutabil, precum: listele,\n",
    "dictionarele sau alte multimi. Prin urmare, in cazul multimilor nu exista posibilitatea imbricarii lor."
   ],
   "metadata": {
    "collapsed": false,
    "pycharm": {
     "name": "#%% md\n"
    }
   }
  },
  {
   "cell_type": "code",
   "execution_count": null,
   "outputs": [],
   "source": [
    "numere = {1, 2, {1, 3}, [2, 5], {1: 2, 3: 5}}"
   ],
   "metadata": {
    "collapsed": false,
    "pycharm": {
     "name": "#%%\n"
    }
   }
  },
  {
   "cell_type": "markdown",
   "source": [
    "Putem verifica daca o valoare este sau nu prezenta printre elementele unei multimi folosind operatorii in, respectiv\n",
    "not in."
   ],
   "metadata": {
    "collapsed": false,
    "pycharm": {
     "name": "#%% md\n"
    }
   }
  },
  {
   "cell_type": "code",
   "execution_count": null,
   "outputs": [],
   "source": [
    "'Londra' in orase"
   ],
   "metadata": {
    "collapsed": false,
    "pycharm": {
     "name": "#%%\n"
    }
   }
  },
  {
   "cell_type": "code",
   "execution_count": null,
   "outputs": [],
   "source": [
    "'Timisoara' not in orase"
   ],
   "metadata": {
    "collapsed": false,
    "pycharm": {
     "name": "#%%\n"
    }
   }
  },
  {
   "cell_type": "markdown",
   "source": [
    "## Crearea unei multimi\n",
    "\n",
    "Crearea unei structuri de date de tip multime se realizeaza prin precizarea elementelor acesteia intre acolade.\n",
    "Despartirea elementelor in multime se face prin virgula. Elementele de la nivelul unei multimi nu trebuie sa detina\n",
    "acelasi tip de date."
   ],
   "metadata": {
    "collapsed": false,
    "pycharm": {
     "name": "#%% md\n"
    }
   }
  },
  {
   "cell_type": "code",
   "execution_count": null,
   "outputs": [],
   "source": [
    "a1 = {'Timisoara', 3.14, 'Ioana', 1024}\n",
    "type(a1)"
   ],
   "metadata": {
    "collapsed": false,
    "pycharm": {
     "name": "#%%\n"
    }
   }
  },
  {
   "cell_type": "code",
   "execution_count": null,
   "outputs": [],
   "source": [
    "a2 = set({'Timisoara', 'Sofia', 'Budapesta'})\n",
    "type(a2)"
   ],
   "metadata": {
    "collapsed": false,
    "pycharm": {
     "name": "#%%\n"
    }
   }
  },
  {
   "cell_type": "markdown",
   "source": [
    "Crearea unei multimi se poate face si prin intermediul constructorului set(). In cazul in care nu sunt precizate\n",
    "elemente ale multimii, se creeaza o miltime goala."
   ],
   "metadata": {
    "collapsed": false,
    "pycharm": {
     "name": "#%% md\n"
    }
   }
  },
  {
   "cell_type": "code",
   "execution_count": null,
   "outputs": [],
   "source": [
    "empty = set()\n",
    "empty"
   ],
   "metadata": {
    "collapsed": false,
    "pycharm": {
     "name": "#%%\n"
    }
   }
  },
  {
   "cell_type": "markdown",
   "source": [
    "Constructorul clasei set permite si crearea unei structuri de date de tip multime dintr-o structura iterabila."
   ],
   "metadata": {
    "collapsed": false,
    "pycharm": {
     "name": "#%% md\n"
    }
   }
  },
  {
   "cell_type": "code",
   "execution_count": null,
   "outputs": [],
   "source": [
    "set([1, 2, 3, 4])"
   ],
   "metadata": {
    "collapsed": false,
    "pycharm": {
     "name": "#%%\n"
    }
   }
  },
  {
   "cell_type": "code",
   "execution_count": null,
   "outputs": [],
   "source": [
    "set({1, 2, 3, 4})"
   ],
   "metadata": {
    "collapsed": false,
    "pycharm": {
     "name": "#%%\n"
    }
   }
  },
  {
   "cell_type": "code",
   "execution_count": null,
   "outputs": [],
   "source": [
    "set({1: 'A', 2: 'B', 3: 'C', 4: 'D'})"
   ],
   "metadata": {
    "collapsed": false,
    "pycharm": {
     "name": "#%%\n"
    }
   }
  },
  {
   "cell_type": "markdown",
   "source": [
    "## Accesarea elementelor unei multimi\n",
    "\n",
    "Elementele unei multimi nu sunt indexate numeric, prin urmare nu exista posibilitatea accesarii lor. Accesarea\n",
    "elementelor se face global prin intermediul intregii multimi."
   ],
   "metadata": {
    "collapsed": false,
    "pycharm": {
     "name": "#%% md\n"
    }
   }
  },
  {
   "cell_type": "code",
   "execution_count": null,
   "outputs": [],
   "source": [
    "orase"
   ],
   "metadata": {
    "collapsed": false,
    "pycharm": {
     "name": "#%%\n"
    }
   }
  },
  {
   "cell_type": "code",
   "execution_count": null,
   "outputs": [],
   "source": [
    "orase[1]"
   ],
   "metadata": {
    "collapsed": false,
    "pycharm": {
     "name": "#%%\n"
    }
   }
  },
  {
   "cell_type": "markdown",
   "source": [
    "## Adaugarea si actualizarea elementelor unei multimi\n",
    "\n",
    "Actualizarea structurilor de date de tip multime se face prin intermediul a doua metode: add(), respectiv update().\n",
    "Metoda add() permite adaugarea unei valori ca si element al unei structuri de tip set."
   ],
   "metadata": {
    "collapsed": false,
    "pycharm": {
     "name": "#%% md\n"
    }
   }
  },
  {
   "cell_type": "code",
   "execution_count": null,
   "outputs": [],
   "source": [
    "orase = {'Timisoara', 'Londra', 'Budapesta', 'New York'}\n",
    "orase.add('Sofia')\n",
    "orase"
   ],
   "metadata": {
    "collapsed": false,
    "pycharm": {
     "name": "#%%\n"
    }
   }
  },
  {
   "cell_type": "markdown",
   "source": [
    "Metoda update() permite adaugarea mai multor elemente la o multime prin intermediul unei singure operatii. Elementele\n",
    "care sunt deja prezente la nivelul multimii nu vor mai fi adaugate."
   ],
   "metadata": {
    "collapsed": false,
    "pycharm": {
     "name": "#%% md\n"
    }
   }
  },
  {
   "cell_type": "code",
   "execution_count": null,
   "outputs": [],
   "source": [
    "numere = {1, 3, 5, 7}\n",
    "numere.update({1, 2, 4, 6})\n",
    "numere"
   ],
   "metadata": {
    "collapsed": false,
    "pycharm": {
     "name": "#%%\n"
    }
   }
  },
  {
   "cell_type": "markdown",
   "source": [
    "## Stergerea multimilor si eliminarea elementelor\n",
    "\n",
    "Pentru stergerea unei multimi este necesara precizarea cuvantului cheie del inaintea numelui multimii ce urmeaza a fi\n",
    "sterse."
   ],
   "metadata": {
    "collapsed": false,
    "pycharm": {
     "name": "#%% md\n"
    }
   }
  },
  {
   "cell_type": "code",
   "execution_count": null,
   "outputs": [],
   "source": [
    "orase = {'Timisoara', 'Londra', 'Budapesta', 'New York'}\n",
    "del orase\n",
    "orase"
   ],
   "metadata": {
    "collapsed": false,
    "pycharm": {
     "name": "#%%\n"
    }
   }
  },
  {
   "cell_type": "markdown",
   "source": [
    "Stergerea elementelor de la nivelul unei multimi se poate realiza prin intermediul unor metode predefinite, precum:\n",
    "discard() si remove(). Astfel, metoda discard() sterge elementul precizat ca si argument de la nivelul multimii.\n",
    "Daca valoare precizata ca si argument nu este prezenta la nivelul multimii, metoda returneaza None."
   ],
   "metadata": {
    "collapsed": false,
    "pycharm": {
     "name": "#%% md\n"
    }
   }
  },
  {
   "cell_type": "code",
   "execution_count": null,
   "outputs": [],
   "source": [
    "orase = {'Timisoara', 'Londra', 'Budapesta', 'New York'}\n",
    "orase"
   ],
   "metadata": {
    "collapsed": false,
    "pycharm": {
     "name": "#%%\n"
    }
   }
  },
  {
   "cell_type": "code",
   "execution_count": null,
   "outputs": [],
   "source": [
    "orase.discard('Timisoara')\n",
    "orase.discard('Roma')\n",
    "print(orase.discard('Tokio'))"
   ],
   "metadata": {
    "collapsed": false,
    "pycharm": {
     "name": "#%%\n"
    }
   }
  },
  {
   "cell_type": "markdown",
   "source": [
    "In mod similar metodei discard(), si metoda remove() sterge elementul precizat ca si argument. Daca valoare precizata\n",
    "ca si argument nu este prezenta la nivelul multimii, este generata o eroare de tip KeyError."
   ],
   "metadata": {
    "collapsed": false,
    "pycharm": {
     "name": "#%% md\n"
    }
   }
  },
  {
   "cell_type": "code",
   "execution_count": null,
   "outputs": [],
   "source": [
    "orase = {'Budapesta', 'Londra', 'New York'}\n",
    "orase.remove('Londra')\n",
    "orase.remove('Roma')"
   ],
   "metadata": {
    "collapsed": false,
    "pycharm": {
     "name": "#%%\n"
    }
   }
  },
  {
   "cell_type": "code",
   "execution_count": null,
   "outputs": [],
   "source": [
    "orase"
   ],
   "metadata": {
    "collapsed": false,
    "pycharm": {
     "name": "#%%\n"
    }
   }
  },
  {
   "cell_type": "markdown",
   "source": [
    "Stergerea tuturor elementelor unei multimi poate fi obtinuta prin intermediul metodei predefinite clear()."
   ],
   "metadata": {
    "collapsed": false,
    "pycharm": {
     "name": "#%% md\n"
    }
   }
  },
  {
   "cell_type": "code",
   "execution_count": null,
   "outputs": [],
   "source": [
    "orase = {'Timisoara', 'Londra', 'Budapesta', 'New York'}\n",
    "orase.clear()\n",
    "orase"
   ],
   "metadata": {
    "collapsed": false,
    "pycharm": {
     "name": "#%%\n"
    }
   }
  },
  {
   "cell_type": "markdown",
   "source": [
    "O alta metode care are in vedere stergerea elementelor este pop(), metoda care permite stergerea unui element ales\n",
    "aleator, returnandu-i valoarea in acelasi timp."
   ],
   "metadata": {
    "collapsed": false,
    "pycharm": {
     "name": "#%% md\n"
    }
   }
  },
  {
   "cell_type": "code",
   "execution_count": null,
   "outputs": [],
   "source": [
    "orase = {'Timisoara', 'Londra', 'Budapesta', 'New York'}\n",
    "orase.pop()"
   ],
   "metadata": {
    "collapsed": false,
    "pycharm": {
     "name": "#%%\n"
    }
   }
  },
  {
   "cell_type": "code",
   "execution_count": null,
   "outputs": [],
   "source": [
    "orase"
   ],
   "metadata": {
    "collapsed": false,
    "pycharm": {
     "name": "#%%\n"
    }
   }
  },
  {
   "cell_type": "markdown",
   "source": [
    "## Parcurgerea elementelor unei multimi\n",
    "\n",
    "Elementele de la nivelul unei structuri de date de tip multime pot fi parcurse prin intermediul unei iteratii for."
   ],
   "metadata": {
    "collapsed": false,
    "pycharm": {
     "name": "#%% md\n"
    }
   }
  },
  {
   "cell_type": "code",
   "execution_count": null,
   "outputs": [],
   "source": [
    "for oras in {'Timisoara', 'Londra', 'Budapesta', 'New York'}:\n",
    "    print(oras)"
   ],
   "metadata": {
    "collapsed": false,
    "pycharm": {
     "name": "#%%\n"
    }
   }
  },
  {
   "cell_type": "markdown",
   "source": [
    "## Metode predefinite pentru multimi\n",
    "\n",
    "Limbajul Python ofera metode predefinite ce pot fi referite de obiectele de tip multime. In afara metodelor care\n",
    "permit adaugarea de elemente (add() si update()), sau stergerea elementelor (remove(), discard(), clear() si pop()),\n",
    "la nivelul structurilor de date de tip multime mai sunt disponibile metode care implementeaza operatii specifice\n",
    "multimilor: reuniunea, intersectia, difereanta.\n",
    "\n",
    "Lista metodelor o gasiti in documentul original\n",
    "[Structuri de date de tip multime in Python](https://uncoded.ro/structuri-de-date-de-tip-multime-in-python/)"
   ],
   "metadata": {
    "collapsed": false,
    "pycharm": {
     "name": "#%% md\n"
    }
   }
  },
  {
   "cell_type": "code",
   "execution_count": null,
   "outputs": [],
   "source": [
    "s1 = {1, 3, 5}\n",
    "s2 = {2, 3, 4}\n",
    "s1.union(s2)"
   ],
   "metadata": {
    "collapsed": false,
    "pycharm": {
     "name": "#%%\n"
    }
   }
  },
  {
   "cell_type": "code",
   "execution_count": null,
   "outputs": [],
   "source": [
    "s1.intersection(s2)"
   ],
   "metadata": {
    "collapsed": false,
    "pycharm": {
     "name": "#%%\n"
    }
   }
  },
  {
   "cell_type": "code",
   "execution_count": null,
   "outputs": [],
   "source": [
    "s1.difference(s2)"
   ],
   "metadata": {
    "collapsed": false,
    "pycharm": {
     "name": "#%%\n"
    }
   }
  },
  {
   "cell_type": "code",
   "execution_count": null,
   "outputs": [],
   "source": [
    "s1.symmetric_difference(s2)"
   ],
   "metadata": {
    "collapsed": false,
    "pycharm": {
     "name": "#%%\n"
    }
   }
  },
  {
   "cell_type": "code",
   "execution_count": null,
   "outputs": [],
   "source": [
    "s1.intersection_update(s2)\n",
    "s1"
   ],
   "metadata": {
    "collapsed": false,
    "pycharm": {
     "name": "#%%\n"
    }
   }
  },
  {
   "cell_type": "code",
   "execution_count": null,
   "outputs": [],
   "source": [
    "s1.difference_update(s2)\n",
    "s1"
   ],
   "metadata": {
    "collapsed": false,
    "pycharm": {
     "name": "#%%\n"
    }
   }
  },
  {
   "cell_type": "markdown",
   "source": [
    "## Functii predefinite pentru multimi\n",
    "\n",
    "Structurile de date de tip multime beneficiaza de o serie de functii predefinite care permit, printre altele,\n",
    "determinarea numarului de elemente de la nivelul multimii, a valorii maxime sau minime de la nivelul elementelor\n",
    "multimii, a sumei elementelor multimii.\n",
    "\n",
    "Lista functiilor o gasiti in documentul original\n",
    "[Structuri de date de tip multime in Python](https://uncoded.ro/structuri-de-date-de-tip-multime-in-python/)"
   ],
   "metadata": {
    "collapsed": false,
    "pycharm": {
     "name": "#%% md\n"
    }
   }
  },
  {
   "cell_type": "code",
   "execution_count": null,
   "outputs": [],
   "source": [
    "numere = {10, 4, 7, 5, 34, 6, 78}\n",
    "len(numere)"
   ],
   "metadata": {
    "collapsed": false,
    "pycharm": {
     "name": "#%%\n"
    }
   }
  },
  {
   "cell_type": "code",
   "execution_count": null,
   "outputs": [],
   "source": [
    "max(numere)"
   ],
   "metadata": {
    "collapsed": false,
    "pycharm": {
     "name": "#%%\n"
    }
   }
  },
  {
   "cell_type": "code",
   "execution_count": null,
   "outputs": [],
   "source": [
    "min(numere)"
   ],
   "metadata": {
    "collapsed": false,
    "pycharm": {
     "name": "#%%\n"
    }
   }
  },
  {
   "cell_type": "code",
   "execution_count": null,
   "outputs": [],
   "source": [
    "sum(numere)"
   ],
   "metadata": {
    "collapsed": false,
    "pycharm": {
     "name": "#%%\n"
    }
   }
  },
  {
   "cell_type": "markdown",
   "source": [
    "Functia sorted returneaza o lista care contine elementele multimii primite ca argument ordonate crescator."
   ],
   "metadata": {
    "collapsed": false,
    "pycharm": {
     "name": "#%% md\n"
    }
   }
  },
  {
   "cell_type": "code",
   "execution_count": null,
   "outputs": [],
   "source": [
    "sorted({10, 4, 7, 5, 34, 6, 78})"
   ],
   "metadata": {
    "collapsed": false,
    "pycharm": {
     "name": "#%%\n"
    }
   }
  },
  {
   "cell_type": "markdown",
   "source": [
    "Functiile any() si all() returneaza True daca cel putin un element de la nivelul multimii are valoarea True, sau daca\n",
    "toate elementele de la nivelul multimii se evalueaza la True."
   ],
   "metadata": {
    "collapsed": false,
    "pycharm": {
     "name": "#%% md\n"
    }
   }
  },
  {
   "cell_type": "code",
   "execution_count": null,
   "outputs": [],
   "source": [
    "any({0, False, 0.0, ''})"
   ],
   "metadata": {
    "collapsed": false,
    "pycharm": {
     "name": "#%%\n"
    }
   }
  },
  {
   "cell_type": "code",
   "execution_count": null,
   "outputs": [],
   "source": [
    "all({0, 1, 2, 3, 4})"
   ],
   "metadata": {
    "collapsed": false,
    "pycharm": {
     "name": "#%%\n"
    }
   }
  },
  {
   "cell_type": "markdown",
   "source": [
    "## Python Set Comprehension\n",
    "\n",
    "Termenul set comprehension se refera la crearea unei multimi noi dintr-o multime existenta pe baza unei expresii urmate\n",
    "de una sau mai multe instructiuni for si/sau if.\n",
    "\n",
    "Daca se doreste crearea unei multimi care contine toate orasele care incep cu litere din prima parte a alfabetului,\n",
    "putem avea in vedere urmatorul script."
   ],
   "metadata": {
    "collapsed": false,
    "pycharm": {
     "name": "#%% md\n"
    }
   }
  },
  {
   "cell_type": "code",
   "execution_count": null,
   "outputs": [],
   "source": [
    "orase = {'Timisoara', 'Amsterdam', 'Paris', 'Caransebes', 'Cluj-Napoca', 'Iasi'}\n",
    "orase_new = set()\n",
    "for oras in orase:\n",
    "    if oras[0] < 'M':\n",
    "        orase_new.add(oras)\n",
    "\n",
    "print(orase_new)"
   ],
   "metadata": {
    "collapsed": false,
    "pycharm": {
     "name": "#%%\n"
    }
   }
  },
  {
   "cell_type": "markdown",
   "source": [
    "Secventa de cod precedenta poate fi rescrisa folosind set comprehension, astfel:"
   ],
   "metadata": {
    "collapsed": false,
    "pycharm": {
     "name": "#%% md\n"
    }
   }
  },
  {
   "cell_type": "code",
   "execution_count": null,
   "outputs": [],
   "source": [
    "orase_new = {oras for oras in orase if oras[0] < 'M'}\n",
    "print(orase_new)\n"
   ],
   "metadata": {
    "collapsed": false,
    "pycharm": {
     "name": "#%%\n"
    }
   }
  }
 ],
 "metadata": {
  "kernelspec": {
   "display_name": "Python 3",
   "language": "python",
   "name": "python3"
  },
  "language_info": {
   "codemirror_mode": {
    "name": "ipython",
    "version": 2
   },
   "file_extension": ".py",
   "mimetype": "text/x-python",
   "name": "python",
   "nbconvert_exporter": "python",
   "pygments_lexer": "ipython2",
   "version": "2.7.6"
  }
 },
 "nbformat": 4,
 "nbformat_minor": 0
}
