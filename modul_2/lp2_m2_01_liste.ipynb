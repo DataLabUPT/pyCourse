{
 "cells": [
  {
   "cell_type": "markdown",
   "source": [
    "<a href=\"https://colab.research.google.com/github/uncoded-ro/lp2/blob/main/modul_2/lp2_m2_01_liste.ipynb\"\n",
    " target=\"_parent\"><img src=\"https://colab.research.google.com/assets/colab-badge.svg\" alt=\"Open In Colab\"\n",
    " style=\"float: right;\"/></a>"
   ],
   "metadata": {
    "collapsed": false
   }
  },
  {
   "cell_type": "markdown",
   "source": [
    "# Limbaje de programare 2\n",
    "**Modul 2 - Structuri de date de tip lista in Python**\n",
    "\n",
    "*autor notebook:* [Bogdan Dragulescu](https://ti.etcti.upt.ro/bogdan-dragulescu/)<br/>\n",
    "*continut original:* [Marian Bucos](https://ti.etcti.upt.ro/marian-bucos/),\n",
    "*sub format text* [Structuri de date de tip lista in Python](https://uncoded.ro/structuri-de-date-de-tip-lista-in-python/)"
   ],
   "metadata": {
    "collapsed": false
   }
  },
  {
   "cell_type": "markdown",
   "source": [
    "## Obiective\n",
    "\n",
    "* Liste in Python\n",
    "* Crearea unei liste\n",
    "* Accesarea elementelor unei liste\n",
    "* Adaugarea si actualizarea elementelor unei liste\n",
    "* Stergerea listelor si eliminarea elementelor\n",
    "* Felierea listelor\n",
    "* Parcurgerea elementelor unei liste\n",
    "* Metode predefinite pentru liste\n",
    "* Functii predefinite pentru liste\n",
    "* Python List Comprehension"
   ],
   "metadata": {
    "collapsed": false
   }
  },
  {
   "cell_type": "markdown",
   "source": [
    "## Liste in Python\n",
    "\n",
    "In limbajul Python, listele reprezinta colectii ordonate de elemente. Declararea listelor se realizeaza prin\n",
    "intermediul parantezelor drepte. Elementele unei liste pot fi modificate, motiv pentru care spunem ca listele sunt\n",
    "structuri de date de tip mutabil."
   ],
   "metadata": {
    "collapsed": false
   }
  },
  {
   "cell_type": "code",
   "execution_count": null,
   "outputs": [],
   "source": [
    "orase = ['Timisoara', 'Londra', 'Budapesta', 'New York']\n",
    "orase[1] = 'Sofia'\n",
    "print(orase)\n"
   ],
   "metadata": {
    "collapsed": false,
    "pycharm": {
     "name": "#%%\n"
    }
   }
  },
  {
   "cell_type": "markdown",
   "source": [
    "O lista poate include elemente de tip lista, caz in care vorbim de liste imbricate."
   ],
   "metadata": {
    "collapsed": false,
    "pycharm": {
     "name": "#%% md\n"
    }
   }
  },
  {
   "cell_type": "code",
   "execution_count": null,
   "outputs": [],
   "source": [
    "orase_ro = ['Timisoara', 'Bucuresti', 'Iasi']\n",
    "orase_uk = ['Londra', 'Glasgow', 'Liverpool']\n",
    "orase = [orase_ro, orase_uk]\n",
    "print(orase)\n",
    "print(orase[1])\n",
    "print(orase[1][2])"
   ],
   "metadata": {
    "collapsed": false,
    "pycharm": {
     "name": "#%%\n"
    }
   }
  },
  {
   "cell_type": "markdown",
   "source": [
    "Cele doua liste cu orase din Romania si Marea Britanie de mai sus pot aparea ca si operanzi intr-o operatie de\n",
    "concatenare. Elementele de la nivelul celor doua liste vor aparea ca si elemente ale listei rezultat dupa finalizarea\n",
    "operatiei de concatenare/alaturare. In cel de-al treilea exemplu elementele corespunzatoare concatenarii sunt salvate\n",
    "in prima lista."
   ],
   "metadata": {
    "collapsed": false
   }
  },
  {
   "cell_type": "code",
   "execution_count": null,
   "outputs": [],
   "source": [
    "orase_ro = ['Timisoara', 'Bucuresti', 'Iasi']\n",
    "orase_uk = ['Londra', 'Glasgow', 'Liverpool']\n",
    "orase = orase_ro + orase_uk\n",
    "print(orase)"
   ],
   "metadata": {
    "collapsed": false,
    "pycharm": {
     "name": "#%%\n"
    }
   }
  },
  {
   "cell_type": "code",
   "execution_count": null,
   "outputs": [],
   "source": [
    "orase_ro, orase_uk = ['Timisoara', 'Bucuresti', 'Iasi'], ['Londra', 'Glasgow', 'Liverpool']\n",
    "print(orase_ro + orase_uk)"
   ],
   "metadata": {
    "collapsed": false,
    "pycharm": {
     "name": "#%%\n"
    }
   }
  },
  {
   "cell_type": "code",
   "execution_count": null,
   "outputs": [],
   "source": [
    "orase = ['Timisoara', 'Bucuresti', 'Iasi']\n",
    "print(orase*2)\n"
   ],
   "metadata": {
    "collapsed": false,
    "pycharm": {
     "name": "#%%\n"
    }
   }
  },
  {
   "cell_type": "markdown",
   "source": [
    "Putem verifica daca o valoare este sau nu prezenta printre elementele unei liste folosind operatorii in, respectiv\n",
    "not in."
   ],
   "metadata": {
    "collapsed": false,
    "pycharm": {
     "name": "#%% md\n"
    }
   }
  },
  {
   "cell_type": "code",
   "execution_count": null,
   "outputs": [],
   "source": [
    "'Timisoara' in orase"
   ],
   "metadata": {
    "collapsed": false,
    "pycharm": {
     "name": "#%%\n"
    }
   }
  },
  {
   "cell_type": "code",
   "execution_count": null,
   "outputs": [],
   "source": [
    "'Londra' not in orase"
   ],
   "metadata": {
    "collapsed": false,
    "pycharm": {
     "name": "#%%\n"
    }
   }
  },
  {
   "cell_type": "markdown",
   "source": [
    "## Crearea unei liste\n",
    "\n",
    "Crearea unei structuri de date de tip lista se realizeaza prin precizarea elementelor acesteia intre paranteze drepte.\n",
    "Despartirea elementelor in lista se face prin virgula. Elementele de la nivelul unei liste nu trebuie sa detina acelasi\n",
    "tip de date."
   ],
   "metadata": {
    "collapsed": false
   }
  },
  {
   "cell_type": "code",
   "execution_count": null,
   "outputs": [],
   "source": [
    "a1 = ['Timisoara', 3.14, 'Ioana', 1024]\n",
    "type(a1)"
   ],
   "metadata": {
    "collapsed": false,
    "pycharm": {
     "name": "#%%\n"
    }
   }
  },
  {
   "cell_type": "code",
   "execution_count": null,
   "outputs": [],
   "source": [
    "a2 = list(['Timisoara', 'Sofia', 'Budapesta'])\n",
    "type(a2)"
   ],
   "metadata": {
    "collapsed": false,
    "pycharm": {
     "name": "#%%\n"
    }
   }
  },
  {
   "cell_type": "markdown",
   "source": [
    "Crearea unei liste se poate face si prin intermediul constructorului list(). In cazul in care nu sunt precizate\n",
    "elemente ale listei, se creeaza o lista goala."
   ],
   "metadata": {
    "collapsed": false
   }
  },
  {
   "cell_type": "code",
   "execution_count": null,
   "outputs": [],
   "source": [
    "empty1 = list()\n",
    "empty1\n"
   ],
   "metadata": {
    "collapsed": false,
    "pycharm": {
     "name": "#%%\n"
    }
   }
  },
  {
   "cell_type": "code",
   "execution_count": null,
   "outputs": [],
   "source": [
    "empty2 = []\n",
    "empty2"
   ],
   "metadata": {
    "collapsed": false,
    "pycharm": {
     "name": "#%%\n"
    }
   }
  },
  {
   "cell_type": "markdown",
   "source": [
    "## Accesarea elementelor unei liste\n",
    "\n",
    "Elementele unei liste sunt indexate numeric, primul element al unei liste avand indexul 0. Accesarea unui anumit\n",
    "element al listei se face prin precizarea indexului elementului, intre paranteze drepte, dupa numele listei."
   ],
   "metadata": {
    "collapsed": false
   }
  },
  {
   "cell_type": "code",
   "execution_count": null,
   "outputs": [],
   "source": [
    "orase[0]"
   ],
   "metadata": {
    "collapsed": false,
    "pycharm": {
     "name": "#%%\n"
    }
   }
  },
  {
   "cell_type": "markdown",
   "source": [
    "Daca indexul asociat unui element al listei este mai mare sau egal cu lungimea listei, atunci va fi generata o\n",
    "exceptie de tipul IndexError."
   ],
   "metadata": {
    "collapsed": false
   }
  },
  {
   "cell_type": "code",
   "execution_count": null,
   "outputs": [],
   "source": [
    "orase = ['Timisoara', 'Londra', 'Budapesta', 'New York']\n",
    "orase[4]"
   ],
   "metadata": {
    "collapsed": false,
    "pycharm": {
     "name": "#%%\n"
    }
   }
  },
  {
   "cell_type": "markdown",
   "source": [
    "Accesarea elementelor unei liste se poate realiza si prin intermediul unor indecsi cu valori negative, caz in care\n",
    "evaluare se face incepand cu ultimul element din lista. De exemplu, pentru accesarea ultimului element din lista\n",
    "trebuie precizata valoarea -1 pentru index."
   ],
   "metadata": {
    "collapsed": false
   }
  },
  {
   "cell_type": "code",
   "execution_count": null,
   "outputs": [],
   "source": [
    "orase[-1]"
   ],
   "metadata": {
    "collapsed": false,
    "pycharm": {
     "name": "#%%\n"
    }
   }
  },
  {
   "cell_type": "markdown",
   "source": [
    "## Adaugarea si actualizarea elementelor unei liste\n",
    "\n",
    "Adaugarea unui element la o lista existenta se realizeaza prin intermediul metodei append() si presupune pozitionarea\n",
    "noului element la finalul acesteia."
   ],
   "metadata": {
    "collapsed": false
   }
  },
  {
   "cell_type": "code",
   "execution_count": null,
   "outputs": [],
   "source": [
    "orase = ['Timisoara', 'Londra', 'Budapesta', 'New York']\n",
    "orase.append('Sofia')\n",
    "orase"
   ],
   "metadata": {
    "collapsed": false,
    "pycharm": {
     "name": "#%%\n"
    }
   }
  },
  {
   "cell_type": "markdown",
   "source": [
    "Un element nou poate fi inserat si la o anumita pozitie, caz in care restul elementelor din lista sunt deplasate\n",
    "incepand cu pozitia specificata."
   ],
   "metadata": {
    "collapsed": false
   }
  },
  {
   "cell_type": "code",
   "execution_count": null,
   "outputs": [],
   "source": [
    "orase = ['Timisoara', 'Londra', 'Budapesta', 'New York']\n",
    "orase.insert(1, 'Sofia')\n",
    "orase"
   ],
   "metadata": {
    "collapsed": false,
    "pycharm": {
     "name": "#%%\n"
    }
   }
  },
  {
   "cell_type": "markdown",
   "source": [
    "O alta metoda predefinita pentru lucrul cu liste o reprezinta extend(). Aceasta metoda ofera posibilitatea adaugarii\n",
    "la finalul unei liste a tuturor elementelor unei alte liste, furnizate ca si argument."
   ],
   "metadata": {
    "collapsed": false,
    "pycharm": {
     "name": "#%% md\n"
    }
   }
  },
  {
   "cell_type": "code",
   "execution_count": null,
   "outputs": [],
   "source": [
    "orase = ['Timisoara', 'Londra', 'Budapesta', 'New York']\n",
    "orase.extend(['Bucuresti', 'Iasi'])\n",
    "orase"
   ],
   "metadata": {
    "collapsed": false,
    "pycharm": {
     "name": "#%%\n"
    }
   }
  },
  {
   "cell_type": "markdown",
   "source": [
    "Pe langa adaugare si inserare, listele pot aparea si in operatii de actualizare a unui element, a unui sir de elemente\n",
    "sau a tuturor elementelor listei."
   ],
   "metadata": {
    "collapsed": false,
    "pycharm": {
     "name": "#%% md\n"
    }
   }
  },
  {
   "cell_type": "code",
   "execution_count": null,
   "outputs": [],
   "source": [
    "orase = ['Timisoara', 'Londra', 'Budapesta', 'New York']\n",
    "orase[1] = 'Sofia'\n",
    "orase"
   ],
   "metadata": {
    "collapsed": false,
    "pycharm": {
     "name": "#%%\n"
    }
   }
  },
  {
   "cell_type": "code",
   "execution_count": null,
   "outputs": [],
   "source": [
    "orase[1:3] = ['Amsterdam', 'Paris']\n",
    "orase"
   ],
   "metadata": {
    "collapsed": false,
    "pycharm": {
     "name": "#%%\n"
    }
   }
  },
  {
   "cell_type": "code",
   "execution_count": null,
   "outputs": [],
   "source": [
    "orase[:] = ['Remetea Mare', 'Bacau', 'Praga', 'Alexandria']\n",
    "orase"
   ],
   "metadata": {
    "collapsed": false,
    "pycharm": {
     "name": "#%%\n"
    }
   }
  },
  {
   "cell_type": "markdown",
   "source": [
    "## Stergerea listelor si eliminarea elementelor\n",
    "\n",
    "Pentru stergerea unei liste este necesara precizarea cuvantului cheie del inaintea numelui listei ce urmeaza a fi\n",
    "sterse."
   ],
   "metadata": {
    "collapsed": false,
    "pycharm": {
     "name": "#%% md\n"
    }
   }
  },
  {
   "cell_type": "code",
   "execution_count": null,
   "outputs": [],
   "source": [
    "orase = ['Timisoara', 'Londra', 'Budapesta', 'New York']\n",
    "del orase\n",
    "orase"
   ],
   "metadata": {
    "collapsed": false,
    "pycharm": {
     "name": "#%%\n"
    }
   }
  },
  {
   "cell_type": "markdown",
   "source": [
    "In mod similar, poate fi realizata si stergerea unui singur element din lista. De acesata data cuvantul cheie del va fi\n",
    "precizat pentru elementul care urmeaza a fi sters."
   ],
   "metadata": {
    "collapsed": false,
    "pycharm": {
     "name": "#%% md\n"
    }
   }
  },
  {
   "cell_type": "code",
   "execution_count": null,
   "outputs": [],
   "source": [
    "orase = ['Timisoara', 'Londra', 'Budapesta', 'New York']\n",
    "del orase[0]\n",
    "orase"
   ],
   "metadata": {
    "collapsed": false,
    "pycharm": {
     "name": "#%%\n"
    }
   }
  },
  {
   "cell_type": "markdown",
   "source": [
    "Stergerea tuturor elementelor unei liste poate fi obtinuta prin intermediul metodei predefinite clear()."
   ],
   "metadata": {
    "collapsed": false,
    "pycharm": {
     "name": "#%% md\n"
    }
   }
  },
  {
   "cell_type": "code",
   "execution_count": null,
   "outputs": [],
   "source": [
    "orase = ['Timisoara', 'Londra', 'Budapesta', 'New York']\n",
    "orase.clear()\n",
    "orase"
   ],
   "metadata": {
    "collapsed": false,
    "pycharm": {
     "name": "#%%\n"
    }
   }
  },
  {
   "cell_type": "markdown",
   "source": [
    "Alte metode care au in vedere stergerea elementelor sunt: remove(), metoda care sterge prima aparitie a elementului\n",
    "specificat ca si argument, respectiv pop(), metoda care permite stergerea elementului de la pozitia specificata,\n",
    "returnandu-i valoarea in acelasi timp."
   ],
   "metadata": {
    "collapsed": false,
    "pycharm": {
     "name": "#%% md\n"
    }
   }
  },
  {
   "cell_type": "code",
   "execution_count": null,
   "outputs": [],
   "source": [
    "orase = ['Timisoara', 'Londra', 'Budapesta', 'New York']\n",
    "orase.remove('Budapesta')\n",
    "orase"
   ],
   "metadata": {
    "collapsed": false,
    "pycharm": {
     "name": "#%%\n"
    }
   }
  },
  {
   "cell_type": "code",
   "execution_count": null,
   "outputs": [],
   "source": [
    "orase.pop(2)\n",
    "orase"
   ],
   "metadata": {
    "collapsed": false,
    "pycharm": {
     "name": "#%%\n"
    }
   }
  },
  {
   "cell_type": "markdown",
   "source": [
    "Daca se doreste stergerea mai multor elemente din lista sau stergerea tuturor elementelor listei, se poate utiliza si\n",
    "operatorul de feliere. In primul exemplu sunt sterse doar elementele de pe pozitiile 1 si 2. In cel de-al doilea\n",
    "exemplu toate elementele listei sunt sterse prin inlocuirea listei cu una vida."
   ],
   "metadata": {
    "collapsed": false,
    "pycharm": {
     "name": "#%% md\n"
    }
   }
  },
  {
   "cell_type": "code",
   "execution_count": null,
   "outputs": [],
   "source": [
    "orase = ['Timisoara', 'Londra', 'Budapesta', 'New York', 'Bucuresti', 'Cluj-Napoca', 'Iasi']\n",
    "orase[1:3] = []\n",
    "orase"
   ],
   "metadata": {
    "collapsed": false,
    "pycharm": {
     "name": "#%%\n"
    }
   }
  },
  {
   "cell_type": "code",
   "execution_count": null,
   "outputs": [],
   "source": [
    "orase[:] = []\n",
    "orase"
   ],
   "metadata": {
    "collapsed": false,
    "pycharm": {
     "name": "#%%\n"
    }
   }
  },
  {
   "cell_type": "markdown",
   "source": [
    "## Felierea listelor\n",
    "\n",
    "Structurile de date de tip lista fac parte din categoria datelor de tip secventa (liste, siruri, tupluri), motiv pentru\n",
    "care pot fi indexate, concatenate, respectiv feliate.\n",
    "\n",
    "Operatia de feliere are in vedere accesarea unui sir de valori de la nivelul listei prin intermediul operatorului doua\n",
    "puncte :. In acest fel putem genera o noua lista care contine primele 2 elemente de la nivelul listei orase, sau\n",
    "elementele ce au indecsi cu valori in intervalul 1-3. In cel de-al doilea caz operatorul de feliere va preciza\n",
    "valoarea [1:4]."
   ],
   "metadata": {
    "collapsed": false,
    "pycharm": {
     "name": "#%% md\n"
    }
   }
  },
  {
   "cell_type": "code",
   "execution_count": null,
   "outputs": [],
   "source": [
    "orase = ['Timisoara', 'Londra', 'Budapesta', 'New York']\n",
    "orase[0:2]"
   ],
   "metadata": {
    "collapsed": false,
    "pycharm": {
     "name": "#%%\n"
    }
   }
  },
  {
   "cell_type": "code",
   "execution_count": null,
   "outputs": [],
   "source": [
    "orase[1:4]"
   ],
   "metadata": {
    "collapsed": false,
    "pycharm": {
     "name": "#%%\n"
    }
   }
  },
  {
   "cell_type": "markdown",
   "source": [
    "Daca operatorul pentru feliere este precizat fara valori, este returnata o noua lista care contine toate elementele\n",
    "listei initiale."
   ],
   "metadata": {
    "collapsed": false,
    "pycharm": {
     "name": "#%% md\n"
    }
   }
  },
  {
   "cell_type": "code",
   "execution_count": null,
   "outputs": [],
   "source": [
    "orase = ['Timisoara', 'Londra', 'Budapesta', 'New York']\n",
    "orase[:]"
   ],
   "metadata": {
    "collapsed": false,
    "pycharm": {
     "name": "#%%\n"
    }
   }
  },
  {
   "cell_type": "markdown",
   "source": [
    "Indecsii precizati la nivelul operatiei de feliere pot avea inclusiv valori negative, acestia pastrandu-si semnificatia\n",
    "de la accesarea elementelor unei liste prin intermedul unor indecsi negativi. Si in acest caz, evaluarea elementelor se\n",
    "va realiza incepand cu ultimul element din lista. Urmatorul exemplu returneaza o noua lista care contine ultimele trei\n",
    "elemente din lista orase."
   ],
   "metadata": {
    "collapsed": false,
    "pycharm": {
     "name": "#%% md\n"
    }
   }
  },
  {
   "cell_type": "code",
   "execution_count": null,
   "outputs": [],
   "source": [
    "orase[-3:]"
   ],
   "metadata": {
    "collapsed": false,
    "pycharm": {
     "name": "#%%\n"
    }
   }
  },
  {
   "cell_type": "markdown",
   "source": [
    "In sintaxa operatiei de feliere poate aparea si un al treilea argument numeric optional, care are semnificatia de pas\n",
    "in evaluarea elementelor. Primul exemplu din secventa de mai jos returneaza o copie a listei in care elementele sunt\n",
    "precizate in ordine inversa."
   ],
   "metadata": {
    "collapsed": false,
    "pycharm": {
     "name": "#%% md\n"
    }
   }
  },
  {
   "cell_type": "code",
   "execution_count": null,
   "outputs": [],
   "source": [
    "orase[::-1]"
   ],
   "metadata": {
    "collapsed": false,
    "pycharm": {
     "name": "#%%\n"
    }
   }
  },
  {
   "cell_type": "code",
   "execution_count": null,
   "outputs": [],
   "source": [
    "orase[::1]"
   ],
   "metadata": {
    "collapsed": false,
    "pycharm": {
     "name": "#%%\n"
    }
   }
  },
  {
   "cell_type": "code",
   "execution_count": null,
   "outputs": [],
   "source": [
    "orase[::2]"
   ],
   "metadata": {
    "collapsed": false,
    "pycharm": {
     "name": "#%%\n"
    }
   }
  },
  {
   "cell_type": "code",
   "execution_count": null,
   "outputs": [],
   "source": [
    "orase[::3]"
   ],
   "metadata": {
    "collapsed": false,
    "pycharm": {
     "name": "#%%\n"
    }
   }
  },
  {
   "cell_type": "markdown",
   "source": [
    "Inserarea de valori intr-o lista, la o anumita pozitie, se poate face si prin intermediul operatorului de feliere, daca\n",
    "este precizat un interval vid [1:1]. La pozitia 1 sunt inserate cele doua valori de la nivelul listei [‘Roma’, ‘Praga’]."
   ],
   "metadata": {
    "collapsed": false,
    "pycharm": {
     "name": "#%% md\n"
    }
   }
  },
  {
   "cell_type": "code",
   "execution_count": null,
   "outputs": [],
   "source": [
    "orase = ['Timisoara', 'Londra', 'Budapesta', 'New York']\n",
    "orase[1:1] = ['Roma', 'Praga']\n",
    "orase"
   ],
   "metadata": {
    "collapsed": false,
    "pycharm": {
     "name": "#%%\n"
    }
   }
  },
  {
   "cell_type": "markdown",
   "source": [
    "## Parcurgerea elementelor unei liste\n",
    "\n",
    "Elementele de la nivelul unei structuri de date de tip lista pot fi parcurse prin intermediul unei iteratii for."
   ],
   "metadata": {
    "collapsed": false,
    "pycharm": {
     "name": "#%% md\n"
    }
   }
  },
  {
   "cell_type": "code",
   "execution_count": null,
   "outputs": [],
   "source": [
    "for oras in ['Timisoara', 'Londra', 'Budapesta', 'New York']:\n",
    "    print(oras)"
   ],
   "metadata": {
    "collapsed": false,
    "pycharm": {
     "name": "#%%\n"
    }
   }
  },
  {
   "cell_type": "markdown",
   "source": [
    "## Metode predefinite pentru liste\n",
    "\n",
    "Limbajul Python ofera metode predefinite ce pot fi referite de obiectele de tip lista. Acestea permit si adaugarea de\n",
    "elemente la o lista, stergerea anumitor elemente din lista sau ordonerea elementelor listei.\n",
    "\n",
    "Lista metodelor o gasiti in documentul original\n",
    "[Structuri de date de tip lista in Python](https://uncoded.ro/structuri-de-date-de-tip-lista-in-python/)"
   ],
   "metadata": {
    "collapsed": false,
    "pycharm": {
     "name": "#%% md\n"
    }
   }
  },
  {
   "cell_type": "code",
   "execution_count": null,
   "outputs": [],
   "source": [
    "orase = ['Timisoara', 'Londra', 'Budapesta', 'New York']\n",
    "orase.sort()\n",
    "orase"
   ],
   "metadata": {
    "collapsed": false,
    "pycharm": {
     "name": "#%%\n"
    }
   }
  },
  {
   "cell_type": "code",
   "execution_count": null,
   "outputs": [],
   "source": [
    "orase = ['Timisoara', 'Londra', 'Budapesta', 'New York']\n",
    "orase.reverse()\n",
    "orase"
   ],
   "metadata": {
    "collapsed": false,
    "pycharm": {
     "name": "#%%\n"
    }
   }
  },
  {
   "cell_type": "markdown",
   "source": [
    "Metoda index() realizeaza identificarea unui element la nivelul unei liste si returneaza pozitia primei aparitii a\n",
    "elementului la nivelul listei. Daca elementul nu este prezent la nivelul listei este generata o exceptie de tipul\n",
    "ValueError."
   ],
   "metadata": {
    "collapsed": false,
    "pycharm": {
     "name": "#%% md\n"
    }
   }
  },
  {
   "cell_type": "code",
   "execution_count": null,
   "outputs": [],
   "source": [
    "orase = ['Timisoara', 'Londra', 'Budapesta', 'New York']\n",
    "orase.index('Londra')"
   ],
   "metadata": {
    "collapsed": false,
    "pycharm": {
     "name": "#%%\n"
    }
   }
  },
  {
   "cell_type": "code",
   "execution_count": null,
   "outputs": [],
   "source": [
    "orase.index('Sofia')"
   ],
   "metadata": {
    "collapsed": false,
    "pycharm": {
     "name": "#%%\n"
    }
   }
  },
  {
   "cell_type": "markdown",
   "source": [
    "Metoda count() returneaza numarul de aparitii al elementului precizat ca si argument la nivelul unei liste."
   ],
   "metadata": {
    "collapsed": false,
    "pycharm": {
     "name": "#%% md\n"
    }
   }
  },
  {
   "cell_type": "code",
   "execution_count": null,
   "outputs": [],
   "source": [
    "orase.count('Budapesta')"
   ],
   "metadata": {
    "collapsed": false,
    "pycharm": {
     "name": "#%%\n"
    }
   }
  },
  {
   "cell_type": "markdown",
   "source": [
    "## Functii predefinite pentru liste\n",
    "Structurile de date de tip lista beneficiaza de o serie de functii predefinite care permit, printre altele,\n",
    "determinarea numarului de elemente de la nivelul listei, a valorii maxime sau minime de la nivelul elementelor listei,\n",
    "a sumei elementelor listei.\n",
    "\n",
    "Lista functiilor o gasiti in documentul original\n",
    "[Structuri de date de tip lista in Python](https://uncoded.ro/structuri-de-date-de-tip-lista-in-python/)"
   ],
   "metadata": {
    "collapsed": false,
    "pycharm": {
     "name": "#%% md\n"
    }
   }
  },
  {
   "cell_type": "code",
   "execution_count": null,
   "outputs": [],
   "source": [
    "numere = [10, 4, 7, 5, 34, 6, 78]\n",
    "len(numere)"
   ],
   "metadata": {
    "collapsed": false,
    "pycharm": {
     "name": "#%%\n"
    }
   }
  },
  {
   "cell_type": "code",
   "execution_count": null,
   "outputs": [],
   "source": [
    "max(numere)\n",
    "min(numere)\n",
    "sum(numere)"
   ],
   "metadata": {
    "collapsed": false,
    "pycharm": {
     "name": "#%%\n"
    }
   }
  },
  {
   "cell_type": "markdown",
   "source": [
    "Functia sorted returneaza o noua lista care contine elementele listei primite ca argument ordonate crescator."
   ],
   "metadata": {
    "collapsed": false,
    "pycharm": {
     "name": "#%% md\n"
    }
   }
  },
  {
   "cell_type": "code",
   "execution_count": null,
   "outputs": [],
   "source": [
    "sorted([10, 4, 7, 5, 34, 6, 78])"
   ],
   "metadata": {
    "collapsed": false,
    "pycharm": {
     "name": "#%%\n"
    }
   }
  },
  {
   "cell_type": "markdown",
   "source": [
    "Functiile any() si all() returneaza True daca cel putin un element de la nivelul listei are valoarea True, sau daca\n",
    "toate elementele de la nivelul listei se evalueaza la True."
   ],
   "metadata": {
    "collapsed": false,
    "pycharm": {
     "name": "#%% md\n"
    }
   }
  },
  {
   "cell_type": "code",
   "source": [
    "any([0, False, 0.0, ''])"
   ],
   "metadata": {
    "collapsed": false,
    "pycharm": {
     "name": "#%%\n"
    }
   },
   "execution_count": null,
   "outputs": []
  },
  {
   "cell_type": "code",
   "execution_count": null,
   "outputs": [],
   "source": [
    "all([0, 1, 2, 3, 4])"
   ],
   "metadata": {
    "collapsed": false,
    "pycharm": {
     "name": "#%%\n"
    }
   }
  },
  {
   "cell_type": "markdown",
   "source": [
    "## Python List Comprehension\n",
    "\n",
    "Termenul list comprehension se refera la crearea unei liste noi dintr-o lista existenta pe baza unei expresii urmate de\n",
    "una sau mai multe instructiuni for si/sau if.\n",
    "\n",
    "Daca se doreste crearea unei liste care contine toate orasele care incep cu litere din prima parte a alfabetului, putem\n",
    "avea in vedere urmatorul script."
   ],
   "metadata": {
    "collapsed": false,
    "pycharm": {
     "name": "#%% md\n"
    }
   }
  },
  {
   "cell_type": "code",
   "execution_count": null,
   "outputs": [],
   "source": [
    "orase = ['Timisoara', 'Amsterdam', 'Paris', 'Caransebes', 'Cluj-Napoca', 'Iasi']\n",
    "orase_new = []\n",
    "for oras in orase:\n",
    "    if oras[0] < 'M':\n",
    "        orase_new.append(oras)\n",
    "print(orase_new)"
   ],
   "metadata": {
    "collapsed": false,
    "pycharm": {
     "name": "#%%\n"
    }
   }
  },
  {
   "cell_type": "markdown",
   "source": [
    "Secventa de cod precedenta poate fi rescrisa folosind list comprehension, astfel:"
   ],
   "metadata": {
    "collapsed": false,
    "pycharm": {
     "name": "#%% md\n"
    }
   }
  },
  {
   "cell_type": "code",
   "execution_count": null,
   "outputs": [],
   "source": [
    "orase_new = [oras for oras in orase if oras[0] < 'M']\n",
    "print(orase_new)"
   ],
   "metadata": {
    "collapsed": false,
    "pycharm": {
     "name": "#%%\n"
    }
   }
  },
  {
   "cell_type": "code",
   "execution_count": null,
   "outputs": [],
   "source": [
    "numere = [10, 4, 7, 5, 34, 6, 78]\n",
    "numere_pare = [elem for elem in numere if elem%2 == 0]\n",
    "numere_pare"
   ],
   "metadata": {
    "collapsed": false,
    "pycharm": {
     "name": "#%%\n"
    }
   }
  },
  {
   "cell_type": "code",
   "execution_count": null,
   "outputs": [],
   "source": [
    "numere2 = [(elem, elem**2) for elem in numere if elem%2 == 0]\n",
    "numere2\n",
    "\n"
   ],
   "metadata": {
    "collapsed": false,
    "pycharm": {
     "name": "#%%\n"
    }
   }
  }
 ],
 "metadata": {
  "kernelspec": {
   "display_name": "Python 3",
   "language": "python",
   "name": "python3"
  },
  "language_info": {
   "codemirror_mode": {
    "name": "ipython",
    "version": 2
   },
   "file_extension": ".py",
   "mimetype": "text/x-python",
   "name": "python",
   "nbconvert_exporter": "python",
   "pygments_lexer": "ipython2",
   "version": "2.7.6"
  }
 },
 "nbformat": 4,
 "nbformat_minor": 0
}