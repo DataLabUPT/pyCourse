{
 "cells": [
  {
   "cell_type": "markdown",
   "metadata": {
    "collapsed": true,
    "pycharm": {
     "name": "#%% md\n"
    }
   },
   "source": [
    "<a href=\"https://colab.research.google.com/github/uncoded-ro/lp2/blob/main/modul_2/lp2_m2_02_tupluri.ipynb\"\n",
    " target=\"_parent\"><img src=\"https://colab.research.google.com/assets/colab-badge.svg\" alt=\"Open In Colab\"\n",
    " style=\"float: right;\"/></a>"
   ]
  },
  {
   "cell_type": "markdown",
   "source": [
    "# Limbaje de programare 2\n",
    "**Modul 2 - Structuri de date de tip tuplu in Python**\n",
    "\n",
    "*autor notebook:* [Bogdan Dragulescu](https://datalab.upt.ro/bogdan-dragulescu/)<br/>\n",
    "*continut original:* [Marian Bucos](https://datalab.upt.ro/marian-bucos/),\n",
    "*sub format text* [Structuri de date de tip tuplu in Python](https://medium.com/virtual-campus/structuri-de-date-de-tip-tuplu-in-python-bb07552d2c9)"
   ],
   "metadata": {
    "collapsed": false
   }
  },
  {
   "cell_type": "markdown",
   "source": [
    "## Obiective\n",
    "\n",
    "* Tupluri in Python\n",
    "* Crearea unui tuplu\n",
    "* Accesarea elementelor unui tuplu\n",
    "* Stergerea tuplurilor\n",
    "* Felierea tuplurilor\n",
    "* Parcurgerea elementelor unui tuplu\n",
    "* Metode predefinite pentru tupluri\n",
    "* Functii predefinite pentru tupluri"
   ],
   "metadata": {
    "collapsed": false
   }
  },
  {
   "cell_type": "markdown",
   "source": [
    "## Tupluri in Python\n",
    "\n",
    "In limbajul Python, tuplurile sunt structuri de date similare listelor, dar care nu beneficiaza de caracterul mutabil\n",
    "al acestora. Prin urmare, elementele unui tuplu nu pot fi modificate. Declararea tuplurilor se realizeaza prin\n",
    "intermediul parantezelor rotunde, cum poate fi observat si in exemplul urmator."
   ],
   "metadata": {
    "collapsed": false,
    "pycharm": {
     "name": "#%% md\n"
    }
   }
  },
  {
   "cell_type": "code",
   "execution_count": null,
   "outputs": [],
   "source": [
    "zile = ('luni', 'marti', 'miercuri', 'joi', 'vineri', 'sambata', 'duminica')\n",
    "type(zile)"
   ],
   "metadata": {
    "collapsed": false,
    "pycharm": {
     "name": "#%%\n"
    }
   }
  },
  {
   "cell_type": "code",
   "execution_count": null,
   "outputs": [],
   "source": [
    "zile[0] = 'Monday'"
   ],
   "metadata": {
    "collapsed": false,
    "pycharm": {
     "name": "#%%\n"
    }
   }
  },
  {
   "cell_type": "markdown",
   "source": [
    "Si tuplurile fac parte din categoria datelor de tip secventa, alaturi de liste si siruri, preluand caracteristicile\n",
    "acestora (indexarea elementelor, concatenarea, multiplicarea cu valori numerice si felierea.\n",
    "\n",
    "Elementele unui tuplu sunt indexate numeric, primul element avand indexul 0. Elementele de la nivelul unui tuplu pot\n",
    "avea orice tip de date, existand chiar posibilitatea imbricarii tuplurilor."
   ],
   "metadata": {
    "collapsed": false,
    "pycharm": {
     "name": "#%% md\n"
    }
   }
  },
  {
   "cell_type": "code",
   "execution_count": null,
   "outputs": [],
   "source": [
    "impar = (1, 3, 5, 7, 9, 11)\n",
    "par = (2, 4, 6, 8, 10, 12)\n",
    "numere = (par, impar)\n",
    "numere[0]"
   ],
   "metadata": {
    "collapsed": false,
    "pycharm": {
     "name": "#%%\n"
    }
   }
  },
  {
   "cell_type": "code",
   "execution_count": null,
   "outputs": [],
   "source": [
    "numere[0][1]"
   ],
   "metadata": {
    "collapsed": false,
    "pycharm": {
     "name": "#%%\n"
    }
   }
  },
  {
   "cell_type": "markdown",
   "source": [
    "Operatia de concatenare a doua tupluri presupune plasarea elementelor acestora la nivelul unui tuplu rezultat. In mod\n",
    "similar listelor, prin intermediul operatiei de multiplicare a unui tuplu cu valori numerice se obtine un nou tuplu,\n",
    "care cuprinde continutul tuplului initial repetat de un numar de ori egal cu valoare numerica cu care a fost\n",
    "multiplicat tuplul initial."
   ],
   "metadata": {
    "collapsed": false,
    "pycharm": {
     "name": "#%% md\n"
    }
   }
  },
  {
   "cell_type": "code",
   "execution_count": null,
   "outputs": [],
   "source": [
    "impar + par"
   ],
   "metadata": {
    "collapsed": false,
    "pycharm": {
     "name": "#%%\n"
    }
   }
  },
  {
   "cell_type": "code",
   "execution_count": null,
   "outputs": [],
   "source": [
    "par * 2"
   ],
   "metadata": {
    "collapsed": false,
    "pycharm": {
     "name": "#%%\n"
    }
   }
  },
  {
   "cell_type": "markdown",
   "source": [
    "De asemenea, exista posibilitatea verificarii unei valori printre elementele unui tuplu prin intermediul operatorului\n",
    "de verificare a apartenentei."
   ],
   "metadata": {
    "collapsed": false,
    "pycharm": {
     "name": "#%% md\n"
    }
   }
  },
  {
   "cell_type": "code",
   "execution_count": null,
   "outputs": [],
   "source": [
    "'vineri' in zile"
   ],
   "metadata": {
    "collapsed": false,
    "pycharm": {
     "name": "#%%\n"
    }
   }
  },
  {
   "cell_type": "code",
   "execution_count": null,
   "outputs": [],
   "source": [
    "'monday' in zile"
   ],
   "metadata": {
    "collapsed": false,
    "pycharm": {
     "name": "#%%\n"
    }
   }
  },
  {
   "cell_type": "markdown",
   "source": [
    "## Crearea unui tuplu\n",
    "\n",
    "Crearea unui tuplu se face prin precizarea elementelor acestuia intre paranteze rotunde. Despartirea elementelor de la\n",
    "nivelul unui tuplu se realizeaza prin virgula."
   ],
   "metadata": {
    "collapsed": false,
    "pycharm": {
     "name": "#%% md\n"
    }
   }
  },
  {
   "cell_type": "code",
   "execution_count": null,
   "outputs": [],
   "source": [
    "a = ('Timisoara', 3.14, 'Ioana', 1024)\n",
    "type(a)"
   ],
   "metadata": {
    "collapsed": false,
    "pycharm": {
     "name": "#%%\n"
    }
   }
  },
  {
   "cell_type": "markdown",
   "source": [
    "Tuplurile pot fi create si fara paranteze rotunde, prin precizarea unei secvente de elemente despartite prin virgula.\n",
    "Acest proces poarta numele de impachetare a valorilor sau tuple packing. Procesul invers, denumit despachetare tuplu\n",
    "(tuple unpacking) are in vedere distribuirea valorilor de la nivelul unui tuplu unei secvente de variabile."
   ],
   "metadata": {
    "collapsed": false,
    "pycharm": {
     "name": "#%% md\n"
    }
   }
  },
  {
   "cell_type": "code",
   "execution_count": null,
   "outputs": [],
   "source": [
    "t = 23, 17, 30\n",
    "type(t)\n",
    "t"
   ],
   "metadata": {
    "collapsed": false,
    "pycharm": {
     "name": "#%%\n"
    }
   }
  },
  {
   "cell_type": "code",
   "execution_count": null,
   "outputs": [],
   "source": [
    "a, b, c = 12, 8, 13\n",
    "a, b, c = t\n",
    "a"
   ],
   "metadata": {
    "collapsed": false,
    "pycharm": {
     "name": "#%%\n"
    }
   }
  },
  {
   "cell_type": "markdown",
   "source": [
    "Crearea unui tuplu se face si prin intermediul constructorului tuple(). Daca nu sunt precizate elementele tuplului,\n",
    "se creeaza un tuplu vid."
   ],
   "metadata": {
    "collapsed": false,
    "pycharm": {
     "name": "#%% md\n"
    }
   }
  },
  {
   "cell_type": "code",
   "execution_count": null,
   "outputs": [],
   "source": [
    "empty1 = ()\n",
    "type(empty1)"
   ],
   "metadata": {
    "collapsed": false,
    "pycharm": {
     "name": "#%%\n"
    }
   }
  },
  {
   "cell_type": "code",
   "execution_count": null,
   "outputs": [],
   "source": [
    "empty2 = tuple()\n",
    "type(empty2)"
   ],
   "metadata": {
    "collapsed": false,
    "pycharm": {
     "name": "#%%\n"
    }
   }
  },
  {
   "cell_type": "markdown",
   "source": [
    "Pentru un tuplu cu un singur element este obligatorie precizarea virgulei dupa primul element. Daca nu este respectata\n",
    "aceasta regula, nu vor fi create structuri de date de tip tuplu."
   ],
   "metadata": {
    "collapsed": false,
    "pycharm": {
     "name": "#%% md\n"
    }
   }
  },
  {
   "cell_type": "code",
   "execution_count": null,
   "outputs": [],
   "source": [
    "t1 = 2,\n",
    "type(t1)"
   ],
   "metadata": {
    "collapsed": false,
    "pycharm": {
     "name": "#%%\n"
    }
   }
  },
  {
   "cell_type": "code",
   "execution_count": null,
   "outputs": [],
   "source": [
    "n1 = 2\n",
    "type(n1)"
   ],
   "metadata": {
    "collapsed": false,
    "pycharm": {
     "name": "#%%\n"
    }
   }
  },
  {
   "cell_type": "code",
   "execution_count": null,
   "outputs": [],
   "source": [
    "t2 = ('Timisoara',)\n",
    "type(t2)"
   ],
   "metadata": {
    "collapsed": false,
    "pycharm": {
     "name": "#%%\n"
    }
   }
  },
  {
   "cell_type": "code",
   "execution_count": null,
   "outputs": [],
   "source": [
    "s2 = 'Timisoara'\n",
    "type(s2)"
   ],
   "metadata": {
    "collapsed": false,
    "pycharm": {
     "name": "#%%\n"
    }
   }
  },
  {
   "cell_type": "code",
   "execution_count": null,
   "outputs": [],
   "source": [
    "s3 = ('Timisoara')\n",
    "type(s3)"
   ],
   "metadata": {
    "collapsed": false,
    "pycharm": {
     "name": "#%%\n"
    }
   }
  },
  {
   "cell_type": "markdown",
   "source": [
    "## Accesarea elementelor unui tuplu\n",
    "\n",
    "Elementele unui tuplu sunt indexate numeric, primul element al unui tuplu avand indexul 0. Accesarea unui anumit\n",
    "element al tuplului se face prin precizarea indexului elementului, intre paranteze drepte, dupa numele tuplului."
   ],
   "metadata": {
    "collapsed": false,
    "pycharm": {
     "name": "#%% md\n"
    }
   }
  },
  {
   "cell_type": "code",
   "execution_count": null,
   "outputs": [],
   "source": [
    "zile = ('luni', 'marti', 'miercuri', 'joi', 'vineri', 'sambata', 'duminica')\n",
    "zile[6]"
   ],
   "metadata": {
    "collapsed": false,
    "pycharm": {
     "name": "#%%\n"
    }
   }
  },
  {
   "cell_type": "markdown",
   "source": [
    "Daca indexul asociat unui element al tuplului este mai mare sau egal cu lungimea acestuia, atunci va fi generata o\n",
    "exceptie de tipul IndexError."
   ],
   "metadata": {
    "collapsed": false,
    "pycharm": {
     "name": "#%% md\n"
    }
   }
  },
  {
   "cell_type": "code",
   "execution_count": null,
   "outputs": [],
   "source": [
    "zile[7]"
   ],
   "metadata": {
    "collapsed": false,
    "pycharm": {
     "name": "#%%\n"
    }
   }
  },
  {
   "cell_type": "markdown",
   "source": [
    "In mod similar listelor, accesarea elementelor unui tuplu se poate realiza si prin intermediul unor indecsi cu valori\n",
    "negative, caz in care evaluare se face incepand cu ultimul element din tuplu. De exemplu, pentru accesarea ultimului\n",
    "element din tuplu trebuie precizata valoarea -1 pentru index."
   ],
   "metadata": {
    "collapsed": false,
    "pycharm": {
     "name": "#%% md\n"
    }
   }
  },
  {
   "cell_type": "code",
   "execution_count": null,
   "outputs": [],
   "source": [
    "zile[-1]"
   ],
   "metadata": {
    "collapsed": false,
    "pycharm": {
     "name": "#%%\n"
    }
   }
  },
  {
   "cell_type": "markdown",
   "source": [
    "## Stergerea tuplurilor\n",
    "\n",
    "Stergerea unei structuri de tip tuplu poate fi realizata prin plasarea cuvantului cheie del inaintea numelui tuplului\n",
    "ce urmeaza a fi sters."
   ],
   "metadata": {
    "collapsed": false,
    "pycharm": {
     "name": "#%% md\n"
    }
   }
  },
  {
   "cell_type": "code",
   "execution_count": null,
   "outputs": [],
   "source": [
    "zile = ('luni', 'marti', 'miercuri', 'joi', 'vineri', 'sambata', 'duminica')\n",
    "del zile\n",
    "zile"
   ],
   "metadata": {
    "collapsed": false,
    "pycharm": {
     "name": "#%%\n"
    }
   }
  },
  {
   "cell_type": "markdown",
   "source": [
    "Deoarece tuplurile sunt structuri de date imutabile, elementele de la nivelul unui tuplu nu pot fi sterse. Cel mult pot\n",
    " fi sterse elemente de la nivelul unor structuri mutabile precizate ca si elemente ale unui tuplu."
   ],
   "metadata": {
    "collapsed": false,
    "pycharm": {
     "name": "#%% md\n"
    }
   }
  },
  {
   "cell_type": "code",
   "execution_count": null,
   "outputs": [],
   "source": [
    "zile = ('luni', 'marti', 'miercuri', 'joi', 'vineri', 'sambata', 'duminica')\n",
    "del zile[0]"
   ],
   "metadata": {
    "collapsed": false,
    "pycharm": {
     "name": "#%%\n"
    }
   }
  },
  {
   "cell_type": "code",
   "execution_count": null,
   "outputs": [],
   "source": [
    "numere = (2, 3, [4, 5])\n",
    "del numere[2][1]\n",
    "numere"
   ],
   "metadata": {
    "collapsed": false,
    "pycharm": {
     "name": "#%%\n"
    }
   }
  },
  {
   "cell_type": "markdown",
   "source": [
    "## Felierea tuplurilor\n",
    "\n",
    "Operatia de feliere are in vedere accesarea unui sir de valori de la nivelul unui tuplu prin intermediul operatorului\n",
    "doua puncte :. De exemplu, in acest fel putem genera un nou tuplu care contine primele 2 elemente de la nivelul\n",
    "tuplului zile."
   ],
   "metadata": {
    "collapsed": false,
    "pycharm": {
     "name": "#%% md\n"
    }
   }
  },
  {
   "cell_type": "code",
   "execution_count": null,
   "outputs": [],
   "source": [
    "zile = ('luni', 'marti', 'miercuri', 'joi', 'vineri', 'sambata', 'duminica')\n",
    "zile[0:2]"
   ],
   "metadata": {
    "collapsed": false,
    "pycharm": {
     "name": "#%%\n"
    }
   }
  },
  {
   "cell_type": "markdown",
   "source": [
    "Indecsii precizati la nivelul operatiei de feliere pot avea inclusiv valori negative, acestia pastrandu-si semnificatia\n",
    "de la accesarea elementelor unui tuplu prin intermedul unor indecsi negativi. Si in acest caz, evaluarea elementelor\n",
    "se va realiza incepand cu ultimul element din tuplu. Urmatorul exemplu returneaza un nou tuplu care contine ultimele\n",
    "doua elemente din tuplul zile (weekend)."
   ],
   "metadata": {
    "collapsed": false,
    "pycharm": {
     "name": "#%% md\n"
    }
   }
  },
  {
   "cell_type": "code",
   "execution_count": null,
   "outputs": [],
   "source": [
    "weekend = zile[-2:]\n",
    "weekend"
   ],
   "metadata": {
    "collapsed": false,
    "pycharm": {
     "name": "#%%\n"
    }
   }
  },
  {
   "cell_type": "markdown",
   "source": [
    "In sintaxa operatiei de feliere poate aparea si un al treilea argument numeric optional, care are semnificatia de pas\n",
    "in evaluarea elementelor. Primul exemplu din secventa de mai jos returneaza o copie a tuplului original in care\n",
    "elementele sunt precizate in ordine inversa."
   ],
   "metadata": {
    "collapsed": false,
    "pycharm": {
     "name": "#%% md\n"
    }
   }
  },
  {
   "cell_type": "code",
   "execution_count": null,
   "outputs": [],
   "source": [
    "zile[::-1]"
   ],
   "metadata": {
    "collapsed": false,
    "pycharm": {
     "name": "#%%\n"
    }
   }
  },
  {
   "cell_type": "markdown",
   "source": [
    "## Parcurgerea elementelor unui tuplu\n",
    "\n",
    "Elementele de la nivelul unei structuri de date de tip tuplu pot fi parcurse prin intermediul unei iteratii for,\n",
    "specifica secventelor (liste, tupluri, siruri)."
   ],
   "metadata": {
    "collapsed": false,
    "pycharm": {
     "name": "#%% md\n"
    }
   }
  },
  {
   "cell_type": "code",
   "execution_count": null,
   "outputs": [],
   "source": [
    "zile = ('luni', 'marti', 'miercuri', 'joi', 'vineri', 'sambata', 'duminica')\n",
    "for zi in zile:\n",
    "    print(zi)"
   ],
   "metadata": {
    "collapsed": false,
    "pycharm": {
     "name": "#%%\n"
    }
   }
  },
  {
   "cell_type": "markdown",
   "source": [
    "## Metode predefinite pentru tupluri\n",
    "\n",
    "Metodele predefinite disponibile in limbajul Python pentru obiectele de tip tuplu sunt index() si count(). Aceste metode\n",
    " permit identificarea indexului corespunzator primei aparitii a unui element la nivelul tuplului index(), respectiv\n",
    " determinarea numarului de aparitii al elementului precizat ca si argument la nivelul tuplului count().\n",
    "\n",
    "Lista metodelor o gasiti in documentul original\n",
    "[Structuri de date de tip tuplu in Python](https://uncoded.ro/structuri-de-date-de-tip-tuplu-in-python/)"
   ],
   "metadata": {
    "collapsed": false,
    "pycharm": {
     "name": "#%% md\n"
    }
   }
  },
  {
   "cell_type": "code",
   "execution_count": null,
   "outputs": [],
   "source": [
    "zile = ('luni', 'marti', 'miercuri', 'joi', 'vineri', 'sambata', 'duminica')\n",
    "zile.index('marti')"
   ],
   "metadata": {
    "collapsed": false,
    "pycharm": {
     "name": "#%%\n"
    }
   }
  },
  {
   "cell_type": "code",
   "execution_count": null,
   "outputs": [],
   "source": [
    "zile.index('monday')"
   ],
   "metadata": {
    "collapsed": false,
    "pycharm": {
     "name": "#%%\n"
    }
   }
  },
  {
   "cell_type": "code",
   "execution_count": null,
   "outputs": [],
   "source": [
    "numere = (2, 4, 2, 3, 5, 6)\n",
    "numere.count(2)"
   ],
   "metadata": {
    "collapsed": false,
    "pycharm": {
     "name": "#%%\n"
    }
   }
  },
  {
   "cell_type": "code",
   "execution_count": null,
   "outputs": [],
   "source": [
    "numere.count(12)"
   ],
   "metadata": {
    "collapsed": false,
    "pycharm": {
     "name": "#%%\n"
    }
   }
  },
  {
   "cell_type": "markdown",
   "source": [
    "## Functii predefinite pentru tupluri\n",
    "\n",
    "Structurile de date de tip tuplu beneficiaza de o serie de functii predefinite care permit, printre altele, determinarea\n",
    " numarului de elemente de la nivelul tuplului, a valorii maxime sau minime de la nivelul elementelor tuplului, a sumei\n",
    " elementelor tuplului.\n",
    "\n",
    "Lista functiilor o gasiti in documentul original\n",
    "[Structuri de date de tip tuplu in Python](https://uncoded.ro/structuri-de-date-de-tip-tuplu-in-python/)"
   ],
   "metadata": {
    "collapsed": false,
    "pycharm": {
     "name": "#%% md\n"
    }
   }
  },
  {
   "cell_type": "code",
   "execution_count": null,
   "outputs": [],
   "source": [
    "numere = (10, 4, 7, 5, 34, 6, 78)\n",
    "len(numere)"
   ],
   "metadata": {
    "collapsed": false,
    "pycharm": {
     "name": "#%%\n"
    }
   }
  },
  {
   "cell_type": "code",
   "execution_count": null,
   "outputs": [],
   "source": [
    "max(numere)"
   ],
   "metadata": {
    "collapsed": false,
    "pycharm": {
     "name": "#%%\n"
    }
   }
  },
  {
   "cell_type": "code",
   "execution_count": null,
   "outputs": [],
   "source": [
    "min(numere)"
   ],
   "metadata": {
    "collapsed": false,
    "pycharm": {
     "name": "#%%\n"
    }
   }
  },
  {
   "cell_type": "code",
   "execution_count": null,
   "outputs": [],
   "source": [
    "sum(numere)"
   ],
   "metadata": {
    "collapsed": false,
    "pycharm": {
     "name": "#%%\n"
    }
   }
  },
  {
   "cell_type": "code",
   "execution_count": null,
   "outputs": [],
   "source": [
    "sorted(numere)"
   ],
   "metadata": {
    "collapsed": false,
    "pycharm": {
     "name": "#%%\n"
    }
   }
  },
  {
   "cell_type": "code",
   "execution_count": null,
   "outputs": [],
   "source": [
    "any(numere)"
   ],
   "metadata": {
    "collapsed": false,
    "pycharm": {
     "name": "#%%\n"
    }
   }
  },
  {
   "cell_type": "code",
   "execution_count": null,
   "outputs": [],
   "source": [
    "all(numere)"
   ],
   "metadata": {
    "collapsed": false,
    "pycharm": {
     "name": "#%%\n"
    }
   }
  }
 ],
 "metadata": {
  "kernelspec": {
   "display_name": "Python 3",
   "language": "python",
   "name": "python3"
  },
  "language_info": {
   "codemirror_mode": {
    "name": "ipython",
    "version": 2
   },
   "file_extension": ".py",
   "mimetype": "text/x-python",
   "name": "python",
   "nbconvert_exporter": "python",
   "pygments_lexer": "ipython2",
   "version": "2.7.6"
  }
 },
 "nbformat": 4,
 "nbformat_minor": 0
}
