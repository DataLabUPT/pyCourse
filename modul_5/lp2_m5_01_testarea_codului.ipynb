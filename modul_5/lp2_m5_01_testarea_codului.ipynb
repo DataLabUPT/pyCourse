{
 "cells": [
  {
   "cell_type": "markdown",
   "metadata": {
    "collapsed": true,
    "pycharm": {
     "name": "#%% md\n"
    }
   },
   "source": [
    "<a href=\"https://colab.research.google.com/github/DataLabUPT/pyCourse/blob/main/modul_5/lp2_m5_01_testarea_codului.ipynb\"\n",
    " target=\"_parent\"><img src=\"https://colab.research.google.com/assets/colab-badge.svg\" alt=\"Open In Colab\"\n",
    " style=\"float: right;\"/></a>"
   ]
  },
  {
   "cell_type": "markdown",
   "metadata": {},
   "source": [
    "# Limbaje de programare 3\n",
    "**Modul 5 - Testarea automata a codului in aplicatii Python**\n",
    "\n",
    "*autor notebook:* [Bogdan Dragulescu](https://datalab.upt.ro/bogdan-dragulescu/)<br/>\n",
    "*continut original:* [Marian Bucos](https://datalab.upt.ro/marian-bucos/),\n",
    "*sub format text* [Testarea automata a codului in aplicatii Python](https://medium.com/virtual-campus/testarea-automata-a-codului-in-aplicatii-python-bbdea7e87235)"
   ]
  },
  {
   "cell_type": "markdown",
   "metadata": {},
   "source": [
    "## Obiective\n",
    "\n",
    "* Testarea unitara\n",
    "* Framework-ul PyUnit\n",
    "* Organizarea testelor\n",
    "* Modulul Doctest"
   ]
  },
  {
   "cell_type": "markdown",
   "metadata": {},
   "source": [
    "## Testarea unitara\n",
    "Testarea unitara este un proces care permite evaluarea automata a codului de la nivelul unei aplicatii. Reprezinta un\n",
    "aspect foarte important, mai ales daca avem in vedere modificarile/actualizarile care pot fi aduse unei aplicatii.\n",
    "\n",
    "Caracteristicile de baza ale procesului de testare unitara includ urmatoarela aspecte:\n",
    "* fiecare test valideaza o functionalitatea de la nivelul aplicatiei;\n",
    "* testele trebuie sa ruleze rapid, sa fie scurte si usor de inteles;\n",
    "* sa nu fie necesare configurari suplimentare.\n",
    "\n",
    "Printre avantajele testarii unitare se numara cresterea vitezei de scriere a codului, cresterea performantelor\n",
    "codului, identificarea mult mai rapida a erorilor si reducerea timpului necesar depanarii/intretinerii unei aplicatii.\n",
    "\n",
    "Modulele uzuale pentru testare unitară sunt: unittest, nose, doctest.\n",
    "Descrierea lor o gasiti in documentul original:\n",
    "[Testarea automata a codului in aplicatii Python](https://uncoded.ro/testarea-automata-a-codului-in-aplicatii-python/)"
   ]
  },
  {
   "cell_type": "markdown",
   "metadata": {
    "pycharm": {
     "name": "#%% md\n"
    }
   },
   "source": [
    "## Framework-ul PyUnit\n",
    "\n",
    "PyUnit este un framework pentru testare unitara, similar cu JUnit (testare unitara pentru limbajul Java). Permite\n",
    "testarea automata, distributia codului de initializare sau eliberare a resurselor pentru teste si agregarea testelor\n",
    "in colectii.\n",
    "\n",
    "Testarea unitara realizata prin intermediul framework-ului PyUnit (modulul unittest) are in vedere urmatoarele\n",
    "concepte: test fixture, test case, test suite si test runner. Pregatirile necesare pentru realizarea testelor, dar si\n",
    "actiunile de eliberare a resurselor sunt grupate sub numele de test fixture.\n",
    "\n",
    "Un test sau test case reprezinta o unitate de testare care verifica raspunsul pentru un set de valori de intrare\n",
    "specificate. Modulul unittest ofera o clasa de baza, numita TestCase, clasa care poate fi utilizata pentru a\n",
    "implementa teste. Agregarea testelor care trebuie sa fie rulate impreuna se realizeaza prin intermediul unei colectii\n",
    "de teste unitare cunoscuta sub numele de test suite.\n",
    "\n",
    "Componenta care orchestreaza executia testelor si ofera rezultatul utilizatorului porta numele de test runner.\n",
    "Poate rula in interfata grafica sau in mod text, si poate returna o valoare pentru a indica rezultatul executiei\n",
    "testelor."
   ]
  },
  {
   "cell_type": "code",
   "execution_count": null,
   "outputs": [],
   "source": [
    "# Descarcarea fisierului utilizat in Colab\n",
    "!wget https://raw.githubusercontent.com/DataLabUPT/pyCourse/main/modul_5/hello.py"
   ],
   "metadata": {
    "collapsed": false,
    "pycharm": {
     "name": "#%%\n"
    }
   }
  },
  {
   "cell_type": "code",
   "execution_count": null,
   "metadata": {
    "pycharm": {
     "name": "#%%\n"
    }
   },
   "outputs": [],
   "source": [
    "# afiseaza continutul fisierului ce se doreste a fi testat\n",
    "!cat hello.py"
   ]
  },
  {
   "cell_type": "markdown",
   "metadata": {},
   "source": [
    "Modulul unittest ofera o colectie importanta de unelte ce permit constructia si rularea de teste. O unitate de\n",
    "testare/evaluare este creata prin derivarea clasei TestCase din modulul unittest.\n",
    "\n",
    "Metode individuale pentru evaluarea functiilor de la nivelul modulului hello sunt introduse la nivelul clasei de test\n",
    "TestHello. Prin conventie, denumirea metodelor de test incepe cu termenul test_. In acest fel este instiintata si\n",
    "componenta care orchestreaza executia testelor si ofera rezultatul utilizatorului (test runner) cu privire la metodele\n",
    "de test.\n",
    "\n",
    "Punctul central al fiecarui test este un apel al unor metode, precum: assertEqual() pentru a verifica un rezultat\n",
    "asteptat, assertTrue() sau assertFalse() pentru a verifica o conditie, sau assertRaises() pentru a verifica daca este\n",
    "generata o anumita exceptie. Astfel de metode sunt utilizate pentru ca test runner-ul sa poata obtine rezultatele\n",
    "rularii testelor si sa genereze un raport.\n",
    "\n",
    "Clasa de test poate contine metode de tip setUp() si/sau tearDown() care se executa inainte si dupa fiecare metoda de\n",
    "tip test pentru a initializa/configura, respectiv elibera resursele utilizate in procesul de testare."
   ]
  },
  {
   "cell_type": "code",
   "execution_count": null,
   "outputs": [],
   "source": [
    "# Descarcarea fisierului in care sunt scrise testele\n",
    "!wget https://raw.githubusercontent.com/DataLabUPT/pyCourse/main/modul_5/test_hello.py"
   ],
   "metadata": {
    "collapsed": false,
    "pycharm": {
     "name": "#%%\n"
    }
   }
  },
  {
   "cell_type": "code",
   "execution_count": null,
   "metadata": {
    "pycharm": {
     "name": "#%%\n"
    }
   },
   "outputs": [],
   "source": [
    "# afiseaza continutul fisierului ce contine clasa TestHello\n",
    "!cat test_hello.py"
   ]
  },
  {
   "cell_type": "markdown",
   "source": [
    "O modalitatea simpla de rularea a testelor o reprezinta unittest.main(), secventa care asigura o interfata in linia de\n",
    "comanda corespunzatoare rularii testelor."
   ],
   "metadata": {
    "collapsed": false,
    "pycharm": {
     "name": "#%% md\n"
    }
   }
  },
  {
   "cell_type": "code",
   "execution_count": null,
   "outputs": [],
   "source": [
    "# rularea testelor\n",
    "!python -m unittest test_hello.py"
   ],
   "metadata": {
    "collapsed": false,
    "pycharm": {
     "name": "#%%\n"
    }
   }
  },
  {
   "cell_type": "code",
   "execution_count": null,
   "outputs": [],
   "source": [
    "# rularea unui singur test\n",
    "!python -m unittest test_hello.TestHello.test_hello_name"
   ],
   "metadata": {
    "collapsed": false,
    "pycharm": {
     "name": "#%%\n"
    }
   }
  },
  {
   "cell_type": "markdown",
   "source": [
    "## Organizarea testelor\n",
    "\n",
    "Unitatile de baza din testarea unitara poarta numele de test cases si reprezinta scenarii individuale care trebuie\n",
    "initializate si evaluate. O astfel de unitate de testare este o instanta a clasei unittest.TestCase."
   ],
   "metadata": {
    "collapsed": false,
    "pycharm": {
     "name": "#%% md\n"
    }
   }
  },
  {
   "cell_type": "code",
   "execution_count": null,
   "outputs": [],
   "source": [
    "# Descarcarea fisierul facultate.py\n",
    "!wget https://raw.githubusercontent.com/DataLabUPT/pyCourse/main/modul_5/facultate.py"
   ],
   "metadata": {
    "collapsed": false,
    "pycharm": {
     "name": "#%%\n"
    }
   }
  },
  {
   "cell_type": "code",
   "execution_count": null,
   "outputs": [],
   "source": [
    "# afiseaza continutul fisierului facultate.py\n",
    "!cat facultate.py"
   ],
   "metadata": {
    "collapsed": false,
    "pycharm": {
     "name": "#%%\n"
    }
   }
  },
  {
   "cell_type": "markdown",
   "source": [
    "Codul de testare al unei instante TestCase trebuie să fie complet autonom, astfel incat sa poata fi executat fie in mod\n",
    "izolat, fie in combinatie arbitrara cu orice numar de alte unitati de testare. Cea mai simpla subclasa TestCase va\n",
    "implementa pur si simplu o metoda de testare (a carei denumire incepe cu test) pentru a executa un cod de testare\n",
    "specific.\n",
    "\n",
    "Cum testele pot fi numeroase, iar configurarea lor poate fi repetitiva, exista posibilitatea izolarii codului de\n",
    "initializare intr-o metoda specifica, numita setUp(), pe care cadrul de testare o va solicita automat pentru fiecare\n",
    "test pe care il executam.\n",
    "\n",
    "In mod similar, putem implementa o metoda tearDown() care se executa dupa executia fiecarei metode de test. Un astfel\n",
    "de mediu de lucru stabilit la nivelul codului de test poarta numele de fixture."
   ],
   "metadata": {
    "collapsed": false
   }
  },
  {
   "cell_type": "code",
   "execution_count": null,
   "outputs": [],
   "source": [
    "# Descarcarea fisierul test_facultate.py\n",
    "!wget https://raw.githubusercontent.com/DataLabUPT/pyCourse/main/modul_5/test_facultate.py"
   ],
   "metadata": {
    "collapsed": false,
    "pycharm": {
     "name": "#%%\n"
    }
   }
  },
  {
   "cell_type": "code",
   "execution_count": null,
   "outputs": [],
   "source": [
    "# afiseaza continutul fisierului test_facultate.py\n",
    "!cat test_facultate.py"
   ],
   "metadata": {
    "collapsed": false,
    "pycharm": {
     "name": "#%%\n"
    }
   }
  },
  {
   "cell_type": "code",
   "execution_count": null,
   "outputs": [],
   "source": [
    "# rularea testelor\n",
    "!python -m unittest test_facultate.py"
   ],
   "metadata": {
    "collapsed": false,
    "pycharm": {
     "name": "#%%\n"
    }
   }
  },
  {
   "cell_type": "markdown",
   "source": [
    "Executia metodelor de test se face in ordinea alfabetica a numelor acestora. Mai multe instante de tip TestCase pot fi\n",
    "grupate in functie de caracteristicile testate. Modulul unittest ofera un mecanism pentru gruparea mai multor elemente\n",
    "de tip TestCase prin intermediul clasei TestSuite."
   ],
   "metadata": {
    "collapsed": false,
    "pycharm": {
     "name": "#%% md\n"
    }
   }
  },
  {
   "cell_type": "code",
   "execution_count": null,
   "outputs": [],
   "source": [
    "# Descarcarea fisierul test_Facultate.py\n",
    "!wget https://raw.githubusercontent.com/DataLabUPT/pyCourse/main/modul_5/testsuite_facultate.py"
   ],
   "metadata": {
    "collapsed": false,
    "pycharm": {
     "name": "#%%\n"
    }
   }
  },
  {
   "cell_type": "code",
   "execution_count": null,
   "outputs": [],
   "source": [
    "# afiseaza continutul fisierului testsuite_facultate.py\n",
    "!cat testsuite_facultate.py"
   ],
   "metadata": {
    "collapsed": false,
    "pycharm": {
     "name": "#%%\n"
    }
   }
  },
  {
   "cell_type": "code",
   "execution_count": null,
   "outputs": [],
   "source": [
    "# rularea testelor\n",
    "!python -m unittest testsuite_facultate.py"
   ],
   "metadata": {
    "collapsed": false,
    "pycharm": {
     "name": "#%%\n"
    }
   }
  },
  {
   "cell_type": "markdown",
   "source": [
    "In marea majoritate a cazurilor, apelul lui unittest.main() va determina colectarea tuturor instantelor de tip TestCase\n",
    "de la nivelul unui modul. Cu toate acestea, daca se doreste implementarea unui astfel de grup (suite) de teste, acest\n",
    "lucru poate fi realizat si manual.\n",
    "\n",
    "Definitiile unitatilor de testare si grupurile de testare pot fi introduse si la nivelul modulelor ce introduc codul\n",
    "care urmeaza a fi testat, dar sunt o serie de avantaje cu privire la plasarea acestora in module separate:\n",
    "* modulul de testare poate fi rulat individual din linia de comanda;\n",
    "* codul de test trebuie modificat mult mai rar fata de codul pe care il evalueaza;\n",
    "* codul de test poate fi mult mai usor separat de codul testat;\n",
    "* daca strategia de testare se modifica, nu este necesara modificarea codului sursa."
   ],
   "metadata": {
    "collapsed": false,
    "pycharm": {
     "name": "#%% md\n"
    }
   }
  },
  {
   "cell_type": "markdown",
   "source": [
    "## Modulul Doctest\n",
    "\n",
    "Modulul doctest identifica comentarii de documentare care seamana cu sesiuni interactive Python si le executa pentru a\n",
    "verifica daca codul este evaluat corect. Testele de tip doctest au o alta arie de utilizare fata de testele unitare."
   ],
   "metadata": {
    "collapsed": false,
    "pycharm": {
     "name": "#%% md\n"
    }
   }
  },
  {
   "cell_type": "code",
   "execution_count": null,
   "outputs": [],
   "source": [
    "# Descarcarea fisierul patrat.py\n",
    "!wget https://raw.githubusercontent.com/DataLabUPT/pyCourse/main/modul_5/patrat.py"
   ],
   "metadata": {
    "collapsed": false,
    "pycharm": {
     "name": "#%%\n"
    }
   }
  },
  {
   "cell_type": "code",
   "execution_count": null,
   "outputs": [],
   "source": [
    "# afiseaza continutul fisierului testsuite_facultate.py\n",
    "!cat patrat.py"
   ],
   "metadata": {
    "collapsed": false,
    "pycharm": {
     "name": "#%%\n"
    }
   }
  },
  {
   "cell_type": "code",
   "execution_count": null,
   "outputs": [],
   "source": [
    "# rularea testelor\n",
    "!python -m doctest -v patrat.py"
   ],
   "metadata": {
    "collapsed": false,
    "pycharm": {
     "name": "#%%\n"
    }
   }
  }
 ],
 "metadata": {
  "kernelspec": {
   "display_name": "Python 3",
   "language": "python",
   "name": "python3"
  },
  "language_info": {
   "codemirror_mode": {
    "name": "ipython",
    "version": 3
   },
   "file_extension": ".py",
   "mimetype": "text/x-python",
   "name": "python",
   "nbconvert_exporter": "python",
   "pygments_lexer": "ipython3",
   "version": "3.9.2"
  }
 },
 "nbformat": 4,
 "nbformat_minor": 1
}
