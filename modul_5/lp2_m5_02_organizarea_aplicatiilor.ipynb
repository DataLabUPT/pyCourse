{
 "cells": [
  {
   "cell_type": "markdown",
   "metadata": {
    "collapsed": true,
    "pycharm": {
     "name": "#%% md\n"
    }
   },
   "source": [
    "<a href=\"https://colab.research.google.com/github/uncoded-ro/lp2/blob/main/modul_5/lp2_m5_01_organizarea_aplicatiilor.ipynb\"\n",
    " target=\"_parent\"><img src=\"https://colab.research.google.com/assets/colab-badge.svg\" alt=\"Open In Colab\"\n",
    " style=\"float: right;\"/></a>"
   ]
  },
  {
   "cell_type": "markdown",
   "source": [
    "# Limbaje de programare 2\n",
    "**Modul 5 - Organizarea aplicatiilor Python folosind module si pachete**\n",
    "\n",
    "*autor notebook:* [Bogdan Dragulescu](https://ti.etcti.upt.ro/bogdan-dragulescu/)<br/>\n",
    "*continut original:* [Marian Bucos](https://ti.etcti.upt.ro/marian-bucos/),\n",
    "*sub format text* [Organizarea aplicatiilor Python folosind module si pachete](https://uncoded.ro/organizarea-aplicatiilor-python-folosind-module-si-pachete/)"
   ],
   "metadata": {
    "collapsed": false
   }
  },
  {
   "cell_type": "markdown",
   "source": [
    "## Obiective\n",
    "\n",
    "* Module Python\n",
    "* Includere module\n",
    "* Module standard\n",
    "* Pachete Python\n",
    "* Includere pachete"
   ],
   "metadata": {
    "collapsed": false
   }
  },
  {
   "cell_type": "markdown",
   "source": [
    "## Module Python\n",
    "\n",
    "Modulele sunt fisiere care contin instructiuni si definitii Python (variabile, functii, clase). Rolul modulelor este\n",
    "acela de a imparti programele in unitati care pot fi gestionate mult mai usor.\n",
    "\n",
    "De exemplu, putem defini un modul care poate contine functii utilizate frecvent, functii ce pot fi astfel incluse in\n",
    "diverse aplicatii in locul copierii codului de definire."
   ],
   "metadata": {
    "collapsed": false
   }
  },
  {
   "cell_type": "code",
   "execution_count": null,
   "outputs": [],
   "source": [
    "# Descarcarea fisierului utilizat in Colab\n",
    "!wget https://raw.githubusercontent.com/uncoded-ro/lp2/main/modul_5/hello.py"
   ],
   "metadata": {
    "collapsed": false,
    "pycharm": {
     "name": "#%%\n"
    }
   }
  },
  {
   "cell_type": "code",
   "execution_count": null,
   "outputs": [],
   "source": [
    "# afiseaza continutul fisierului ce se doreste a fi testat\n",
    "!cat hello.py"
   ],
   "metadata": {
    "collapsed": false,
    "pycharm": {
     "name": "#%%\n"
    }
   }
  },
  {
   "cell_type": "markdown",
   "source": [
    "Spatiul de nume de la nivelul unui modul introduce o serie de atribute predefinite, precum __doc__, __file__ sau\n",
    "__name__. Aceste atribute predefinite precizeaza informatii despre modul: descrierea/documentatia, locatia fisierul\n",
    "sursa sau numele modulului."
   ],
   "metadata": {
    "collapsed": false,
    "pycharm": {
     "name": "#%% md\n"
    }
   }
  },
  {
   "cell_type": "code",
   "execution_count": null,
   "outputs": [],
   "source": [
    "import hello\n",
    "print(hello.__doc__)"
   ],
   "metadata": {
    "collapsed": false,
    "pycharm": {
     "name": "#%%\n"
    }
   }
  },
  {
   "cell_type": "code",
   "execution_count": null,
   "outputs": [],
   "source": [
    "print(hello.__file__)"
   ],
   "metadata": {
    "collapsed": false,
    "pycharm": {
     "name": "#%%\n"
    }
   }
  },
  {
   "cell_type": "code",
   "execution_count": null,
   "outputs": [],
   "source": [
    "print(hello.__name__)"
   ],
   "metadata": {
    "collapsed": false,
    "pycharm": {
     "name": "#%%\n"
    }
   }
  },
  {
   "cell_type": "markdown",
   "source": [
    "## Includere module\n",
    "\n",
    "Definitiile de la nivelul unui modul Python pot fi incluse intr-un alt modul sau direct in interpretorul Python prin\n",
    "intermediul instructiunii import.\n",
    "\n",
    "De exemplu pentru a include modulul hello este necesara linia import hello. Numele modulului este astfel introdus la\n",
    "nivelul spatiului de nume curent. Acest nume poate fi utilizat pentru a referi/accesa elemente definite la nivelul\n",
    "modulului."
   ],
   "metadata": {
    "collapsed": false,
    "pycharm": {
     "name": "#%% md\n"
    }
   }
  },
  {
   "cell_type": "code",
   "execution_count": null,
   "outputs": [],
   "source": [
    "import hello\n",
    "hello.default_name"
   ],
   "metadata": {
    "collapsed": false,
    "pycharm": {
     "name": "#%%\n"
    }
   }
  },
  {
   "cell_type": "code",
   "execution_count": null,
   "outputs": [],
   "source": [
    "hello.hello_name()"
   ],
   "metadata": {
    "collapsed": false,
    "pycharm": {
     "name": "#%%\n"
    }
   }
  },
  {
   "cell_type": "code",
   "execution_count": null,
   "outputs": [],
   "source": [
    "hello.hello_name('Zaya')"
   ],
   "metadata": {
    "collapsed": false,
    "pycharm": {
     "name": "#%%\n"
    }
   }
  },
  {
   "cell_type": "code",
   "execution_count": null,
   "outputs": [],
   "source": [
    "hello.hello_python()"
   ],
   "metadata": {
    "collapsed": false,
    "pycharm": {
     "name": "#%%\n"
    }
   }
  },
  {
   "cell_type": "markdown",
   "source": [
    "Includerea standard a unui modul permite referirea definitiilor de la nivelul acestuia prin intermediul operatorului .,\n",
    "dupa finalizarea operatiei."
   ],
   "metadata": {
    "collapsed": false
   }
  },
  {
   "cell_type": "code",
   "execution_count": null,
   "outputs": [],
   "source": [
    "import math\n",
    "math.pi"
   ],
   "metadata": {
    "collapsed": false,
    "pycharm": {
     "name": "#%%\n"
    }
   }
  },
  {
   "cell_type": "markdown",
   "source": [
    "Includerea unui modul se poate realiza si cu redenumirea modulului. Referirea definitiilor de la nivelul modulului se\n",
    "va face, in acest caz, doar prin intermediul noului nume al modulului."
   ],
   "metadata": {
    "collapsed": false
   }
  },
  {
   "cell_type": "code",
   "execution_count": null,
   "outputs": [],
   "source": [
    "import math as m\n",
    "m.pi"
   ],
   "metadata": {
    "collapsed": false,
    "pycharm": {
     "name": "#%%\n"
    }
   }
  },
  {
   "cell_type": "code",
   "execution_count": null,
   "outputs": [],
   "source": [
    "math.pi"
   ],
   "metadata": {
    "collapsed": false,
    "pycharm": {
     "name": "#%%\n"
    }
   }
  },
  {
   "cell_type": "markdown",
   "source": [
    "De asemenea, anumite elemente de la nivelul unui modul pot fi incluse explicit prin intermediul clauzei from."
   ],
   "metadata": {
    "collapsed": false
   }
  },
  {
   "cell_type": "code",
   "execution_count": null,
   "outputs": [],
   "source": [
    "from math import pi\n",
    "pi"
   ],
   "metadata": {
    "collapsed": false,
    "pycharm": {
     "name": "#%%\n"
    }
   }
  },
  {
   "cell_type": "markdown",
   "source": [
    "Chiar daca nu este recomandata includerea tuturor elementelor de la nivelul unui modul, aceasta poate fi realizata\n",
    "folosind *. Astfel, pot fi incluse toate elementele de la nivelul unui modul cu exceptia celor care incep cu\n",
    "underscore. Aceasta abordare poate determina aparitia unor definitii duplicat pentru identificatori."
   ],
   "metadata": {
    "collapsed": false
   }
  },
  {
   "cell_type": "code",
   "execution_count": null,
   "outputs": [],
   "source": [
    "from math import *\n",
    "pi"
   ],
   "metadata": {
    "collapsed": false,
    "pycharm": {
     "name": "#%%\n"
    }
   }
  },
  {
   "cell_type": "markdown",
   "source": [
    "La includerea unui modul, interpretorul Python are in vedere examinarea urmatoarelor locatii: directorul curent,\n",
    "locatiile definite la nivelul variabilei de mediu PYTHONPATH, directorul implicit de instalare. O modalitatea de\n",
    "actualizarea a locatiilor in care interpretorul Python cauta module o reprezinta sys.path. Noi locatii pot fi adaugate\n",
    "la nivelul acestei structuri de date (list) chiar inaintea rularii unei instructiuni import cu ajutorul metodei\n",
    "append().\n"
   ],
   "metadata": {
    "collapsed": false,
    "pycharm": {
     "name": "#%% md\n"
    }
   }
  },
  {
   "cell_type": "code",
   "execution_count": null,
   "outputs": [],
   "source": [
    "import sys\n",
    "sys.path"
   ],
   "metadata": {
    "collapsed": false,
    "pycharm": {
     "name": "#%%\n"
    }
   }
  },
  {
   "cell_type": "markdown",
   "source": [
    "Interpretorul Python include un modul doar o singura data pe parcursul unei sesiuni. Consideram urmatoarele doua linii\n",
    "la nivelul modulului testare (testare.py)."
   ],
   "metadata": {
    "collapsed": false
   }
  },
  {
   "cell_type": "code",
   "execution_count": null,
   "outputs": [],
   "source": [
    "# Descarcarea fisierului testare.py\n",
    "!wget https://raw.githubusercontent.com/uncoded-ro/lp2/main/modul_5/testare.py"
   ],
   "metadata": {
    "collapsed": false,
    "pycharm": {
     "name": "#%%\n"
    }
   }
  },
  {
   "cell_type": "code",
   "execution_count": null,
   "outputs": [],
   "source": [
    "# afiseaza continutul fisierului testare.py\n",
    "!cat testare.py"
   ],
   "metadata": {
    "collapsed": false,
    "pycharm": {
     "name": "#%%\n"
    }
   }
  },
  {
   "cell_type": "code",
   "execution_count": null,
   "outputs": [],
   "source": [
    "import testare"
   ],
   "metadata": {
    "collapsed": false,
    "pycharm": {
     "name": "#%%\n"
    }
   }
  },
  {
   "cell_type": "code",
   "execution_count": null,
   "outputs": [],
   "source": [
    "import testare"
   ],
   "metadata": {
    "collapsed": false,
    "pycharm": {
     "name": "#%%\n"
    }
   }
  },
  {
   "cell_type": "markdown",
   "source": [
    "Daca modulul se modifica in timpul executiei si este necesara reincluderea acestuia, se poate utiliza functia reload()\n",
    "de la nivelul modulului importlib."
   ],
   "metadata": {
    "collapsed": false
   }
  },
  {
   "cell_type": "code",
   "execution_count": null,
   "outputs": [],
   "source": [
    "import importlib\n",
    "import testare"
   ],
   "metadata": {
    "collapsed": false,
    "pycharm": {
     "name": "#%%\n"
    }
   }
  },
  {
   "cell_type": "code",
   "execution_count": null,
   "outputs": [],
   "source": [
    "importlib.reload(testare)\n"
   ],
   "metadata": {
    "collapsed": false,
    "pycharm": {
     "name": "#%%\n"
    }
   }
  },
  {
   "cell_type": "markdown",
   "source": [
    "## Module standard\n",
    "\n",
    "Python Standard Library contine un numar mare de module utile, ce sunt disponibile la instalarea Python. Lista completa\n",
    "a acestor module standard poate fi consultata in directorul Lib din directorul de instalare. In plus, lista modulelor\n",
    "este disponibila si prin intermediul interpretorului interactiv."
   ],
   "metadata": {
    "collapsed": false
   }
  },
  {
   "cell_type": "code",
   "execution_count": null,
   "outputs": [],
   "source": [
    "help('modules')"
   ],
   "metadata": {
    "collapsed": false,
    "pycharm": {
     "name": "#%%\n"
    }
   }
  },
  {
   "cell_type": "markdown",
   "source": [
    "In procesul de explorare a modulelor Python prezinta importanta functiile help() si dir(). Functia help() poate fi\n",
    "utilizata pentru a obtine informatii cu privire la definitiile de la nivelul modulelor."
   ],
   "metadata": {
    "collapsed": false
   }
  },
  {
   "cell_type": "code",
   "execution_count": null,
   "outputs": [],
   "source": [
    "import math\n",
    "help(math.pow)"
   ],
   "metadata": {
    "collapsed": false,
    "pycharm": {
     "name": "#%%\n"
    }
   }
  },
  {
   "cell_type": "markdown",
   "source": [
    "O functie predefinita foarte puternica de la nivelul Python3 este dir(), functie care poate fi utilizata pentru a\n",
    "obtine numele definitiilor (atribute si metode) ce corespund unui obiect (modul, functie, …)."
   ],
   "metadata": {
    "collapsed": false,
    "pycharm": {
     "name": "#%% md\n"
    }
   }
  },
  {
   "cell_type": "code",
   "execution_count": null,
   "outputs": [],
   "source": [
    "import math\n",
    "dir(math)"
   ],
   "metadata": {
    "collapsed": false,
    "pycharm": {
     "name": "#%%\n"
    }
   }
  },
  {
   "cell_type": "markdown",
   "source": [
    "Pentru a determina toate numele disponibile in spatiul de nume curent, poate fi utilizata functia dir() fara argumente."
   ],
   "metadata": {
    "collapsed": false,
    "pycharm": {
     "name": "#%% md\n"
    }
   }
  },
  {
   "cell_type": "code",
   "execution_count": null,
   "outputs": [],
   "source": [
    "dir()"
   ],
   "metadata": {
    "collapsed": false,
    "pycharm": {
     "name": "#%%\n"
    }
   }
  },
  {
   "cell_type": "markdown",
   "source": [
    "Exemplul urmator are in vedere determinarea numelor de la nivelul modulului re care contin un anumit termen (find)."
   ],
   "metadata": {
    "collapsed": false
   }
  },
  {
   "cell_type": "code",
   "execution_count": null,
   "outputs": [],
   "source": [
    "import re\n",
    "[e for e in dir(re) if 'find' in e]"
   ],
   "metadata": {
    "collapsed": false,
    "pycharm": {
     "name": "#%%\n"
    }
   }
  },
  {
   "cell_type": "markdown",
   "source": [
    "## Pachete Python\n",
    "\n",
    "Pachetele reprezinta entitati logice care permit organizarea modulelor de la nivelul unei aplicatii. In limbajul Python,\n",
    " pachetele reprezinta colectii de module similare/inrudite. Aplicatiile pot fi gestionate si intelese mult mai usor\n",
    " prin organizarea lor prin intermediul pachetelor.\n",
    "\n",
    "Unui pachet ii corespunde un director care poate contine fisiere sursa, subdirectoare, si care contine un tip special\n",
    "de fisier, numit __init__.py. Fisierul __init__.py poate fi gol, sau poate contine cod ce permite initializarea\n",
    "pachetului.\n",
    "\n",
    "Aceasta parte din documentul original este un pic mai complicat de simulat intr-un notebook.\n",
    "Prin urmare va sugerez sa urmati instructiunile din fisierul original:\n",
    "[Organizarea aplicatiilor Python folosind module si pachete](https://uncoded.ro/organizarea-aplicatiilor-python-folosind-module-si-pachete/)\n"
   ],
   "metadata": {
    "collapsed": false,
    "pycharm": {
     "name": "#%% md\n"
    }
   }
  }
 ],
 "metadata": {
  "kernelspec": {
   "display_name": "Python 3",
   "language": "python",
   "name": "python3"
  },
  "language_info": {
   "codemirror_mode": {
    "name": "ipython",
    "version": 2
   },
   "file_extension": ".py",
   "mimetype": "text/x-python",
   "name": "python",
   "nbconvert_exporter": "python",
   "pygments_lexer": "ipython2",
   "version": "2.7.6"
  }
 },
 "nbformat": 4,
 "nbformat_minor": 0
}