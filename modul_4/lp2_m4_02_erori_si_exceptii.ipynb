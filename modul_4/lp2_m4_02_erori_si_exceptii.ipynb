{
 "cells": [
  {
   "cell_type": "markdown",
   "metadata": {
    "collapsed": true,
    "pycharm": {
     "name": "#%% md\n"
    }
   },
   "source": [
    "<a href=\"https://colab.research.google.com/github/DataLabUPT/pyCourse/blob/main/modul_4/lp2_m4_02_erori_si_exceptii.ipynb\"\n",
    " target=\"_parent\"><img src=\"https://colab.research.google.com/assets/colab-badge.svg\" alt=\"Open In Colab\"\n",
    " style=\"float: right;\"/></a>"
   ]
  },
  {
   "cell_type": "markdown",
   "source": [
    "# Limbaje de programare 3\n",
    "**Modul 4 - Erori si exceptii in limbajul Python**\n",
    "\n",
    "*autor notebook:* [Bogdan Dragulescu](https://datalab.upt.ro/bogdan-dragulescu/)<br/>\n",
    "*continut original:* [Marian Bucos](https://datalab.upt.ro/marian-bucos/),\n",
    "*sub format text* [Erori si exceptii in limbajul Python](https://medium.com/virtual-campus/erori-si-exceptii-in-limbajul-python-9f8623089740)"
   ],
   "metadata": {
    "collapsed": false
   }
  },
  {
   "cell_type": "markdown",
   "source": [
    "## Obiective\n",
    "\n",
    "* Exceptii\n",
    "* Tratarea exceptiilor\n",
    "* Definirea de exceptii utilizator"
   ],
   "metadata": {
    "collapsed": false
   }
  },
  {
   "cell_type": "markdown",
   "source": [
    "## Exceptii\n",
    "\n",
    "La nivelul unei aplicatii Python pot fi intalnite doua tipuri de erori: erori de sintaxa si exceptii. Erorile de\n",
    "sintaxa, sau erorile de parsare, sunt determinate de nerespectarea sintaxei. In secventa de mai jos, lipsa caracterului\n",
    " : dupa instructiunea while determina aparitia unei astfel de erori."
   ],
   "metadata": {
    "collapsed": false
   }
  },
  {
   "cell_type": "code",
   "execution_count": null,
   "outputs": [],
   "source": [
    "while True print(\"hello\")"
   ],
   "metadata": {
    "collapsed": false,
    "pycharm": {
     "name": "#%%\n"
    }
   }
  },
  {
   "cell_type": "markdown",
   "source": [
    "Exceptiile reprezinta situatii care apar in timpul rularii unui program si care determina oprirea acestuia.\n",
    "De exemplu, pot fi generate exceptii in urmatoarele cazuri:\n",
    "* impartirea unui numar la zero ZeroDivisionError;\n",
    "* deschiderea unui fisier care nu exista FileNotFoundError;\n",
    "* accesarea unei variabile care nu a fost definita NameError;\n",
    "* includerea unui modul care nu exista ModuleNotFoundError;\n",
    "* realizarea de operatii cu valori de tipuri diferite TypeError."
   ],
   "metadata": {
    "collapsed": false
   }
  },
  {
   "cell_type": "code",
   "execution_count": null,
   "outputs": [],
   "source": [
    "2 * (3/0)"
   ],
   "metadata": {
    "collapsed": false,
    "pycharm": {
     "name": "#%%\n"
    }
   }
  },
  {
   "cell_type": "code",
   "execution_count": null,
   "outputs": [],
   "source": [
    "import modul"
   ],
   "metadata": {
    "collapsed": false,
    "pycharm": {
     "name": "#%%\n"
    }
   }
  },
  {
   "cell_type": "code",
   "execution_count": null,
   "outputs": [],
   "source": [
    "'3' + 2"
   ],
   "metadata": {
    "collapsed": false,
    "pycharm": {
     "name": "#%%\n"
    }
   }
  },
  {
   "cell_type": "markdown",
   "source": [
    "Exceptiile ofera un mecanism eficient de identificare si rezolvare a erorilor care apar in timpul executiei unui\n",
    "program. In limbajul Python exista posibilitatea tratarii exceptiilor prin stabilirea unei cai alternative de\n",
    "continuare a executiei programului.\n",
    "\n",
    "La aparitia unei exceptii sau erori de rulare (run-time error) este creat automat un obiect de tip exceptie.\n",
    "De asemenea, exista si posibilitatea generarii exceptiilor prin intermediul instructiunii raise.\n",
    "\n",
    "In limbajul Python, toate exceptiile sunt instante ale unor clase derivate din BaseException. Clasele corespunzatoare\n",
    "exceptiilor sunt definite prin intermediul unei ierarhii de clase.\n",
    "\n",
    "Ierarhia claselor in documentul original:\n",
    "[Erori si exceptii in limbajul Python](https://uncoded.ro/erori-si-exceptii-in-limbajul-python/)\n",
    "\n",
    "In plus, fata de beneficiile organizationale evidente, utilizarea acestei ierarhii este utila in tratarea exceptiilor.\n",
    "Tratarea unei exceptii de un anumit tip presupune si tratarea exceptiilor derivate din acest tip de exceptie."
   ],
   "metadata": {
    "collapsed": false
   }
  },
  {
   "cell_type": "markdown",
   "source": [
    "## Tratarea exceptiilor\n",
    "\n",
    "Limbajul Python ofera o solutie eficienta de rezolvare a exceptiilor care apar intr-un program prin intermediul\n",
    "mecanismului de tratare a exceptiilor. Implementarea acestei solutii se face folosind constructii de tipul\n",
    "try .. except .. finally.\n",
    "\n",
    "<pre>\n",
    "try:\n",
    "    # instructiuni urmarite\n",
    "except Exceptie:\n",
    "    # tratare exceptii de tip Exceptie\n",
    "...\n",
    "except:\n",
    "    # tratare pentru restul exceptiilor\n",
    "else:\n",
    "    # instructiuni executate daca nu sunt generate exceptii\n",
    "finally:\n",
    "    # instructiuni executate neconditionat\n",
    "</pre>\n",
    "\n",
    "Blocul try este utilizat pentru a delimita instructiunile care vor fi urmarite in vederea identificarii exceptiilor.\n",
    "Daca este lansata o exceptie, se suspenda executia restului de instructiuni din blocul try si sunt verificate\n",
    "blocurile except. Exceptia este tratata de primul bloc except care contine tipul exceptiei sau un supertip al acesteia."
   ],
   "metadata": {
    "collapsed": false,
    "pycharm": {
     "name": "#%% md\n"
    }
   }
  },
  {
   "cell_type": "code",
   "execution_count": null,
   "outputs": [],
   "source": [
    "try:\n",
    "    a = [1, 2, 3]\n",
    "    print(a[3])\n",
    "except LookupError:\n",
    "    print(\"Index out of bound error.\")\n",
    "else:\n",
    "    print(\"Success!\")"
   ],
   "metadata": {
    "collapsed": false,
    "pycharm": {
     "name": "#%%\n"
    }
   }
  },
  {
   "cell_type": "markdown",
   "source": [
    "Netratarea unei exceptii va determina in cele din urma oprirea programului si afisarea unui mesaj corespunzator.\n",
    "\n",
    "Daca nu este generata o exceptie si este prezent blocul else sunt executate instructiunile de la nivelul acestui bloc,\n",
    "dupa care se executa urmatoarea instructiune de dupa instructiunea try.\n"
   ],
   "metadata": {
    "collapsed": false
   }
  },
  {
   "cell_type": "code",
   "execution_count": null,
   "outputs": [],
   "source": [
    "try:\n",
    "    numar = int(input(\"Introdu un intreg pozitiv: \"))\n",
    "    if numar <= 0:\n",
    "        raise ValueError(\"Acesta nu este un numar pozitiv!\")\n",
    "except ValueError as e:\n",
    "    print(e)\n",
    "else:\n",
    "    print(\"Multumim!\")"
   ],
   "metadata": {
    "collapsed": false,
    "pycharm": {
     "name": "#%%\n"
    }
   }
  },
  {
   "cell_type": "markdown",
   "source": [
    "Se poate observa ca instructiunile din interiorul blocului finally sunt executate intotdeauna. Instructiunile de la\n",
    "nivelul blocului finally au in vedere, in general, eliberarea resurselor externe."
   ],
   "metadata": {
    "collapsed": false
   }
  },
  {
   "cell_type": "code",
   "execution_count": null,
   "outputs": [],
   "source": [
    "try:\n",
    "    f = open('fisier.txt', 'r')\n",
    "except IOError:\n",
    "    print(\"Fisierul nu exista!\")\n",
    "else:\n",
    "    print(\"Fisierul a fost identificat!\")\n",
    "    print(\"Acesta are {} linii.\".format(len(f.readlines())))\n",
    "    f.close()\n",
    "finally:\n",
    "    print(\"Secventa finalizata!\")"
   ],
   "metadata": {
    "collapsed": false,
    "pycharm": {
     "name": "#%%\n"
    }
   }
  },
  {
   "cell_type": "markdown",
   "source": [
    "## Definirea de exceptii utilizator\n",
    "\n",
    "Limbajul Python ofera posibilitatea definirii propriilor exceptii, pentru a pune in evidenta conditiile de eroare care\n",
    "nu au fost prevazute in ierarhia exceptiilor predefinite. Se recomanda derivarea de noi exceptii (de utilizator)\n",
    "pornind de la clasele de exceptii predefinite.\n",
    "\n",
    "Clasa exceptie trebuie sa fie derivata, direct sau indirect, din clasa Exception. Se recomanda crearea unei clase de\n",
    "baza pentru exceptiile definite la nivelul unui modul."
   ],
   "metadata": {
    "collapsed": false
   }
  },
  {
   "cell_type": "code",
   "execution_count": null,
   "outputs": [],
   "source": [
    "class Eroare(Exception):\n",
    "    \"Clasa de baza pentru exceptii de utilizator\"\n",
    "    pass\n",
    "\n",
    "\n",
    "class FonduriInsuficiente(Eroare):\n",
    "    \"Exceptie generata cand soldul unui cont este mai mic decat suma solicitata\"\n",
    "    pass\n",
    "\n",
    "\n",
    "class Cont:\n",
    "    def __init__(self, numar, sold):\n",
    "        self.numar = numar\n",
    "        self.sold = sold\n",
    "\n",
    "    def __str__(self):\n",
    "        return \"Contul {} are un  sold de {} RON.\".format(self.numar, round(self.sold, 2))\n",
    "\n",
    "    def depune(self, suma):\n",
    "        self.sold += suma\n",
    "\n",
    "    def retrage(self, suma):\n",
    "        try:\n",
    "            if self.sold >= suma:\n",
    "                self.sold -= suma\n",
    "            else:\n",
    "                necesar = suma - self.sold\n",
    "                raise FonduriInsuficiente(\"Fonduri insuficiente! Necesar {} RON.\".format(round(necesar, 2)))\n",
    "        except FonduriInsuficiente as e:\n",
    "            print(e)\n",
    "\n",
    "\n",
    "c = Cont(\"SV523BTV74635643\", 500.34)\n",
    "# Contul SV523BTV74635643 are un sold de 500.34 RON.\n",
    "print(c)\n",
    "c.depune(20.12)\n",
    "# Fonduri insuficiente! Necesar 502.63 RON.\n",
    "c.retrage(1023.09)\n"
   ],
   "metadata": {
    "collapsed": false,
    "pycharm": {
     "name": "#%%\n"
    }
   }
  },
  {
   "cell_type": "markdown",
   "source": [
    "Generarea unei exceptii se realizeaza prin intermediul instructiunii raise. Instructiunea raise poate fi utilizata fara\n",
    "argument intr-un bloc except pentru a rearunca exceptia prinsa de acel bloc."
   ],
   "metadata": {
    "collapsed": false
   }
  }
 ],
 "metadata": {
  "kernelspec": {
   "display_name": "Python 3",
   "language": "python",
   "name": "python3"
  },
  "language_info": {
   "codemirror_mode": {
    "name": "ipython",
    "version": 2
   },
   "file_extension": ".py",
   "mimetype": "text/x-python",
   "name": "python",
   "nbconvert_exporter": "python",
   "pygments_lexer": "ipython2",
   "version": "2.7.6"
  }
 },
 "nbformat": 4,
 "nbformat_minor": 0
}
