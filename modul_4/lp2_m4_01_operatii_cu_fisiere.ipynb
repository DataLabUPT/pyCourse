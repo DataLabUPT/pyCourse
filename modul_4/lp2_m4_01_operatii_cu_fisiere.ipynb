{
 "cells": [
  {
   "cell_type": "markdown",
   "metadata": {
    "collapsed": true,
    "pycharm": {
     "name": "#%% md\n"
    }
   },
   "source": [
    "<a href=\"https://colab.research.google.com/github/uncoded-ro/lp2/blob/main/modul_4/lp2_m4_01_operatii_cu_fisiere.ipynb\"\n",
    " target=\"_parent\"><img src=\"https://colab.research.google.com/assets/colab-badge.svg\" alt=\"Open In Colab\"\n",
    " style=\"float: right;\"/></a>"
   ]
  },
  {
   "cell_type": "markdown",
   "source": [
    "# Limbaje de programare 2\n",
    "**Modul 4 - Operatii cu fisiere in limbajul Python**\n",
    "\n",
    "*autor notebook:* [Bogdan Dragulescu](https://ti.etcti.upt.ro/bogdan-dragulescu/)<br/>\n",
    "*continut original:* [Marian Bucos](https://ti.etcti.upt.ro/marian-bucos/),\n",
    "*sub format text* [Operatii cu fisiere in limbajul Python](https://uncoded.ro/operatii-cu-fisiere-in-limbajul-python/)"
   ],
   "metadata": {
    "collapsed": false
   }
  },
  {
   "cell_type": "markdown",
   "source": [
    "## Obiective\n",
    "\n",
    "* Operatii cu fisiere\n",
    "* Citire din fisiere\n",
    "* Scriere in fisiere\n",
    "* Modulul pickle"
   ],
   "metadata": {
    "collapsed": false
   }
  },
  {
   "cell_type": "markdown",
   "source": [
    "## Operatii cu fisiere\n",
    "\n",
    "Un fisier reprezinta o locatie denumita de pe disk care este utilizata in stocarea persistenta a informtiei. Lucrul cu\n",
    "fisiere presupune urmatorii pasi: deschidere fisier, citire/scriere date, inchidere fisier după utilizare. Pentru a\n",
    "putea citi date dintr-un fisier sau scrie date intr-un fisier mai intai este necesara deschiderea acestuia."
   ],
   "metadata": {
    "collapsed": false
   }
  },
  {
   "cell_type": "code",
   "execution_count": null,
   "outputs": [],
   "source": [
    "# Descarcarea fisierului utilizat in Colab\n",
    "!wget https://raw.githubusercontent.com/uncoded-ro/lp2/main/modul_4/studenti.txt"
   ],
   "metadata": {
    "collapsed": false,
    "pycharm": {
     "name": "#%%\n"
    }
   }
  },
  {
   "cell_type": "code",
   "execution_count": null,
   "outputs": [],
   "source": [
    "f = open(\"studenti.txt\")\n",
    "print(f)"
   ],
   "metadata": {
    "collapsed": false,
    "pycharm": {
     "name": "#%%\n"
    }
   }
  },
  {
   "cell_type": "markdown",
   "source": [
    "La deschiderea unui fisier poate fi precizat modul in care urmeaza a fi utilizat fisierul: ‘r’ citire, ‘w’ scriere,\n",
    "‘a’ adaugare. De exemplu, pentru deschiderea unui fisier in vederea realizarii de operatii de citire si scriere in mod\n",
    "text este necesara urmatoarea implementare.\n",
    "\n",
    "Lista completa a modurilor o gasiti in documentul original:\n",
    "[Operatii cu fisiere in limbajul Python](https://uncoded.ro/operatii-cu-fisiere-in-limbajul-python/)"
   ],
   "metadata": {
    "collapsed": false,
    "pycharm": {
     "name": "#%% md\n"
    }
   }
  },
  {
   "cell_type": "code",
   "execution_count": null,
   "outputs": [],
   "source": [
    "f = open(\"studenti.txt\", 'r+')\n",
    "print(f)"
   ],
   "metadata": {
    "collapsed": false,
    "pycharm": {
     "name": "#%%\n"
    }
   }
  },
  {
   "cell_type": "markdown",
   "source": [
    "Pentru a preciza codarea pentru setul de caractere, se poate utiliza un al treilea argument in functia open()."
   ],
   "metadata": {
    "collapsed": false
   }
  },
  {
   "cell_type": "code",
   "execution_count": null,
   "outputs": [],
   "source": [
    "f = open(\"studenti.txt\", mode = 'r', encoding = 'utf-8')\n",
    "print(f)"
   ],
   "metadata": {
    "collapsed": false,
    "pycharm": {
     "name": "#%%\n"
    }
   }
  },
  {
   "cell_type": "markdown",
   "source": [
    "Se recomanda inchiderea fisierelor dupa utilizare pentru a elibera resursele ocupate de catre acestea. Inchiderea unui\n",
    " fisier, dupa utilizare, se realizeaza prin intermediul metodei close()."
   ],
   "metadata": {
    "collapsed": false
   }
  },
  {
   "cell_type": "code",
   "execution_count": null,
   "outputs": [],
   "source": [
    "f.close()"
   ],
   "metadata": {
    "collapsed": false,
    "pycharm": {
     "name": "#%%\n"
    }
   }
  },
  {
   "cell_type": "markdown",
   "source": [
    "Daca apare o exceptie la realizarea unor operatii cu fisierul deschis, acesta nu este inchis. O modalitatea mai\n",
    "eficienta de utilizare a unui fisier presupune deschiderea acestuia prin intermediul instructiunii with. In acest\n",
    "caz, apelarea metodei close() pentru fisierul deschis se realizeaza automat."
   ],
   "metadata": {
    "collapsed": false
   }
  },
  {
   "cell_type": "code",
   "source": [
    "with open('studenti.txt', 'r+', encoding = 'utf-8') as f:\n",
    "    print(f.readline(), end = '')"
   ],
   "metadata": {
    "collapsed": false,
    "pycharm": {
     "name": "#%%\n"
    }
   },
   "execution_count": null,
   "outputs": []
  },
  {
   "cell_type": "markdown",
   "source": [
    "Dupa inchiderea unui fisier, orice incercare de utilizarea a acestuia va esua."
   ],
   "metadata": {
    "collapsed": false
   }
  },
  {
   "cell_type": "code",
   "execution_count": null,
   "outputs": [],
   "source": [
    "with open('studenti.txt', 'r+', encoding = 'utf-8') as f:\n",
    "    for student in f.readlines():\n",
    "        print(student, end = '')\n",
    "\n",
    "f.read()"
   ],
   "metadata": {
    "collapsed": false,
    "pycharm": {
     "name": "#%%\n"
    }
   }
  },
  {
   "cell_type": "markdown",
   "source": [
    "## Citire din fisiere\n",
    "\n",
    "Operatia de citire de la nivelul unui fisier presupune deschiderea acestuia in mod citire. Citirea continutului\n",
    "fisierului se poate realiza prin apelul metodei read(), care citeste date de o anumita dimensiune si le returneaza\n",
    "ca si sir de caractere.\n",
    "\n",
    "Fisierul studenti.txt cuprinde nume de studenti si este deschis prin intermediul functiei open() in mod citire.\n",
    "La nivelul fisierului sunt derulate doua operatii de citire prin intermediul metodelor de tip read(); mai intai\n",
    "sunt citite 5 caractere din fisier, dupa care se citeste restul fisierului, pana la sfarsitul acestuia."
   ],
   "metadata": {
    "collapsed": false
   }
  },
  {
   "cell_type": "code",
   "execution_count": null,
   "outputs": [],
   "source": [
    "f = open('studenti.txt', 'r', encoding = 'utf-8')\n",
    "print(f.read(5))"
   ],
   "metadata": {
    "collapsed": false,
    "pycharm": {
     "name": "#%%\n"
    }
   }
  },
  {
   "cell_type": "code",
   "execution_count": null,
   "outputs": [],
   "source": [
    "print(f.read())"
   ],
   "metadata": {
    "collapsed": false,
    "pycharm": {
     "name": "#%%\n"
    }
   }
  },
  {
   "cell_type": "markdown",
   "source": [
    "Daca nu este precizata o valoare pentru dimensiune, intregul fisier este citit si returnat ca si sir de caractere.\n",
    "Pentru a modifica pozitia cursorului la nivelul fisierului citit se utilizeaza metoda seek(). Argumentul acesteia\n",
    "indica pozitia la care se realizeza deplasarea cursorului, 0 in cazul aducerii cursorului la inceputul fisierului."
   ],
   "metadata": {
    "collapsed": false
   }
  },
  {
   "cell_type": "code",
   "execution_count": null,
   "outputs": [],
   "source": [
    "f.seek(0)"
   ],
   "metadata": {
    "collapsed": false,
    "pycharm": {
     "name": "#%%\n"
    }
   }
  },
  {
   "cell_type": "markdown",
   "source": [
    "Pentru a determina pozitia curenta a cursorului la nivelul fisierului se poate utiliza metoda tell()."
   ],
   "metadata": {
    "collapsed": false
   }
  },
  {
   "cell_type": "code",
   "execution_count": null,
   "outputs": [],
   "source": [
    "f = open('studenti.txt', 'r', encoding = 'utf-8')\n",
    "f.read(5)\n",
    "f.tell()"
   ],
   "metadata": {
    "collapsed": false,
    "pycharm": {
     "name": "#%%\n"
    }
   }
  },
  {
   "cell_type": "code",
   "execution_count": null,
   "outputs": [],
   "source": [
    "f.read()\n",
    "f.tell()"
   ],
   "metadata": {
    "collapsed": false,
    "pycharm": {
     "name": "#%%\n"
    }
   }
  },
  {
   "cell_type": "markdown",
   "source": [
    "Citirea continutului unui fisier se poate face si linie cu linie, utilizand o constructie for."
   ],
   "metadata": {
    "collapsed": false
   }
  },
  {
   "cell_type": "code",
   "execution_count": null,
   "outputs": [],
   "source": [
    "f = open('studenti.txt', 'r', encoding = 'utf-8')\n",
    "for linie in f:\n",
    "    print(linie, end = '')"
   ],
   "metadata": {
    "collapsed": false,
    "pycharm": {
     "name": "#%%\n"
    }
   }
  },
  {
   "cell_type": "markdown",
   "source": [
    "O alta modalitate de citire a unei linii dintr-un fisier o reprezinta metoda readline(). Aceasta citeste o linie din\n",
    "fisier si o returneaza ca si sir de caractere. Caracterul newline \\n de la finalul unei linii este pastrat."
   ],
   "metadata": {
    "collapsed": false
   }
  },
  {
   "cell_type": "code",
   "execution_count": null,
   "outputs": [],
   "source": [
    "f = open('studenti.txt', 'r', encoding = 'utf-8')\n",
    "f.readline()"
   ],
   "metadata": {
    "collapsed": false,
    "pycharm": {
     "name": "#%%\n"
    }
   }
  },
  {
   "cell_type": "code",
   "execution_count": null,
   "outputs": [],
   "source": [
    "f.readline()\n",
    "f.readline()\n",
    "f.readline()"
   ],
   "metadata": {
    "collapsed": false,
    "pycharm": {
     "name": "#%%\n"
    }
   }
  },
  {
   "cell_type": "markdown",
   "source": [
    "Daca se doreste incarcarea liniilor dintr-un fisier intr-o lista, pot fi utilizate urmatoarele doua abordari:\n",
    "functia list() sau metoda readlines()."
   ],
   "metadata": {
    "collapsed": false
   }
  },
  {
   "cell_type": "code",
   "execution_count": null,
   "outputs": [],
   "source": [
    "f = open('studenti.txt', 'r')\n",
    "for student in list(f):\n",
    "    print(student, end = '')\n",
    "\n",
    "f.close()"
   ],
   "metadata": {
    "collapsed": false,
    "pycharm": {
     "name": "#%%\n"
    }
   }
  },
  {
   "cell_type": "code",
   "execution_count": null,
   "outputs": [],
   "source": [
    "with open('studenti.txt', 'r') as f:\n",
    "    for student in f.readlines():\n",
    "        print(student, end = '')\n",
    "\n",
    "f.close()"
   ],
   "metadata": {
    "collapsed": false,
    "pycharm": {
     "name": "#%%\n"
    }
   }
  },
  {
   "cell_type": "markdown",
   "source": [
    "## Scriere in fisiere\n",
    "\n",
    "Pentru a scrie intr-un fisier acesta trebuie deschis in mod scriere ‘w’, adaugare ‘a’ sau creare fisier ‘x’. Daca se\n",
    "utilizeaza prima varianta ‘w’, exista posibilitatea de a suprascrie continutul actual al fisierului, daca fisierul\n",
    "exista.\n",
    "\n",
    "Scrierea unui sir de caractere sau a unei secvente binare se face prin intermediul metodei write(). In mod text,\n",
    "metoda returneaza numarul de caractere scrise in fisier."
   ],
   "metadata": {
    "collapsed": false
   }
  },
  {
   "cell_type": "code",
   "execution_count": null,
   "outputs": [],
   "source": [
    "f = open('studenti.txt', 'w')\n",
    "f.write('Marian Popescu\\n')\n",
    "f.close()"
   ],
   "metadata": {
    "collapsed": false,
    "pycharm": {
     "name": "#%%\n"
    }
   }
  },
  {
   "cell_type": "markdown",
   "source": [
    "Caracterul de linie noua \\n trebuie precizat la finalul unei linii scrise, daca se doreste diferentierea continutului\n",
    "pe linii."
   ],
   "metadata": {
    "collapsed": false,
    "pycharm": {
     "name": "#%% md\n"
    }
   }
  },
  {
   "cell_type": "code",
   "execution_count": null,
   "outputs": [],
   "source": [
    "with open('studenti.txt', 'a') as f:\n",
    "    f.write('Radu Voda\\n')"
   ],
   "metadata": {
    "collapsed": false,
    "pycharm": {
     "name": "#%%\n"
    }
   }
  },
  {
   "cell_type": "code",
   "execution_count": null,
   "outputs": [],
   "source": [
    "with open('studenti.txt', 'r') as f:\n",
    "    for linie in f:\n",
    "        print(linie, end = '')"
   ],
   "metadata": {
    "collapsed": false,
    "pycharm": {
     "name": "#%%\n"
    }
   }
  },
  {
   "cell_type": "markdown",
   "source": [
    "## Modulul pickle\n",
    "\n",
    "Serializarea reprezinta procesul de transformare a unui obiect intr-o secventa de octeti din care sa poata fi refacut\n",
    "ulterior. Procesul invers, de citire a unui obiect serializat pentru ai reface starea originala se numeste\n",
    "deserializare. Serializarea este utilizata pentru a implementa conceptul de persistenta a datelor.\n",
    "\n",
    "Modulul pickle implementeaza protocoale binare pentru serializarea si deserializarea obiectelor Python. Poate\n",
    "transforma orice obiect Python intr-un sir de caractere (flux de date binar), proces denumit si pickling; procesul\n",
    "invers poarta numele de unpickling."
   ],
   "metadata": {
    "collapsed": false
   }
  },
  {
   "cell_type": "code",
   "execution_count": null,
   "outputs": [],
   "source": [
    "import pickle\n",
    "studenti = [('Marian', 7.21), ('Ioana', 8.34), ('Paul', 6.72), ('Zaya', 9.45)]\n",
    "pickle.dump(studenti, open('studenti.p', 'wb'))"
   ],
   "metadata": {
    "collapsed": false,
    "pycharm": {
     "name": "#%%\n"
    }
   }
  },
  {
   "cell_type": "markdown",
   "source": [
    "Salvarea unui obiect intr-un fisier se realizeaza prin intermediul metodei dump(), in timp ce incarcarea unui obiect\n",
    "dintr-un fisier se face cu metoda load()."
   ],
   "metadata": {
    "collapsed": false
   }
  },
  {
   "cell_type": "code",
   "execution_count": null,
   "outputs": [],
   "source": [
    "studenti_2 = pickle.load(open('studenti.p', 'rb'))\n",
    "print(studenti_2)"
   ],
   "metadata": {
    "collapsed": false,
    "pycharm": {
     "name": "#%%\n"
    }
   }
  }
 ],
 "metadata": {
  "kernelspec": {
   "display_name": "Python 3",
   "language": "python",
   "name": "python3"
  },
  "language_info": {
   "codemirror_mode": {
    "name": "ipython",
    "version": 2
   },
   "file_extension": ".py",
   "mimetype": "text/x-python",
   "name": "python",
   "nbconvert_exporter": "python",
   "pygments_lexer": "ipython2",
   "version": "2.7.6"
  }
 },
 "nbformat": 4,
 "nbformat_minor": 0
}